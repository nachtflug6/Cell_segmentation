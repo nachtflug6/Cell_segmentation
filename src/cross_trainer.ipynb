{
 "cells": [
  {
   "cell_type": "code",
   "execution_count": 1,
   "outputs": [
    {
     "name": "stderr",
     "output_type": "stream",
     "text": [
      "C:\\Users\\silva\\anaconda3\\envs\\TorchEnv\\lib\\site-packages\\tqdm\\auto.py:22: TqdmWarning: IProgress not found. Please update jupyter and ipywidgets. See https://ipywidgets.readthedocs.io/en/stable/user_install.html\n",
      "  from .autonotebook import tqdm as notebook_tqdm\n"
     ]
    }
   ],
   "source": [
    "import numpy as np\n",
    "import torch as th\n",
    "import torch.nn as nn\n",
    "import os\n",
    "import json\n",
    "import pandas as pd\n",
    "import torchvision.transforms as T\n",
    "\n",
    "from train.multi_hyperparameter import MultiHyperparameter\n",
    "from custom_models.unet_original import UNet\n",
    "from train.unet_trainer import UnetTrainer\n",
    "from datasets.semantic_dataset import SemanticDataset\n",
    "from evaluate.cross_evaluator import CrossTrainEvaluator\n",
    "from preprocessing.data_augment import DataAugmenter"
   ],
   "metadata": {
    "collapsed": false,
    "pycharm": {
     "name": "#%%\n"
    }
   }
  },
  {
   "cell_type": "code",
   "execution_count": 2,
   "outputs": [
    {
     "name": "stdout",
     "output_type": "stream",
     "text": [
      "{'padding_mode': 'zeros', 'depth': 5, 'start_layers': 64, 'dim_multiplier': 2, 'input_conv_kernel_size': 3, 'out_classes': 2, 'criterion': CrossEntropyLoss(), 'optimizer': 1, 'augment_transform': Compose(\n",
      "    RandomVerticalFlip(p=0.5)\n",
      "), 'num_augments': 10}\n",
      "   ds_0_train  ds_0_validate  ds_1_train  ds_1_validate  combined_train  \\\n",
      "0       0.663       0.748542    0.657301       0.728916         0.66015   \n",
      "\n",
      "   combined_validate  \n",
      "0           0.738729  \n"
     ]
    }
   ],
   "source": [
    "params = {'padding_mode': ['zeros', 'reflect', 'replicate', 'circular'],\n",
    "          'depth': 5,\n",
    "          'start_layers': 64,\n",
    "          'dim_multiplier': 2,\n",
    "          'input_conv_kernel_size': 3,\n",
    "          'out_classes': 2,\n",
    "          'criterion': nn.CrossEntropyLoss(),\n",
    "          'optimizer': 1}\n",
    "\n",
    "param = {'padding_mode': 'zeros',\n",
    "         'depth': 5,\n",
    "         'start_layers': 64,\n",
    "         'dim_multiplier': 2,\n",
    "         'input_conv_kernel_size': 3,\n",
    "         'out_classes': 2,\n",
    "         'criterion': nn.CrossEntropyLoss(),\n",
    "         'optimizer': 1,\n",
    "         'augment_transform': T.Compose([T.RandomVerticalFlip()]),\n",
    "         'num_augments': 10}\n",
    "\n",
    "unet_hyps = MultiHyperparameter(params)\n",
    "unet = UNet.__new__(UNet)\n",
    "\n",
    "models_to_evaluate = [(unet, unet_hyps)]\n",
    "\n",
    "num_epochs = 1\n",
    "models = []\n",
    "trainers = []\n",
    "folds = [0, 1, 2, 3]\n",
    "device = th.device(\"cuda\" if th.cuda.is_available() else \"cpu\")\n",
    "cwd = os.getcwd()\n",
    "ds1_path = os.path.join(cwd, '../data/cell_type_1')\n",
    "ds2_path = os.path.join(cwd, '../data/cell_type_2')\n",
    "result_path = os.path.join(cwd, '../results')\n",
    "\n",
    "cte = CrossTrainEvaluator(unet, [ds1_path, ds2_path], device, result_path)\n",
    "report = cte.evaluate_param(param, [0, 1, 2, 3], 1)\n",
    "\n",
    "print(report)\n",
    "# (self, model, datasets_path, params_to_test: MultiHyperparameter, results_path, epochs):\n",
    "# (self, param, model, folds, epochs):"
   ],
   "metadata": {
    "collapsed": false,
    "pycharm": {
     "name": "#%%\n"
    }
   }
  },
  {
   "cell_type": "code",
   "execution_count": null,
   "outputs": [],
   "source": [
    "file = th.load(os.path.join(cwd, '../results/test.pt'))\n",
    "print(file[0]['criterion'])"
   ],
   "metadata": {
    "collapsed": false,
    "pycharm": {
     "name": "#%%\n"
    }
   }
  },
  {
   "cell_type": "code",
   "execution_count": null,
   "outputs": [],
   "source": [],
   "metadata": {
    "collapsed": false,
    "pycharm": {
     "name": "#%%\n"
    }
   }
  }
 ],
 "metadata": {
  "kernelspec": {
   "display_name": "Python 3",
   "language": "python",
   "name": "python3"
  },
  "language_info": {
   "codemirror_mode": {
    "name": "ipython",
    "version": 2
   },
   "file_extension": ".py",
   "mimetype": "text/x-python",
   "name": "python",
   "nbconvert_exporter": "python",
   "pygments_lexer": "ipython2",
   "version": "2.7.6"
  }
 },
 "nbformat": 4,
 "nbformat_minor": 0
}