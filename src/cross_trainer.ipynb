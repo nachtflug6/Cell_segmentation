{
 "cells": [
  {
   "cell_type": "code",
   "execution_count": 1,
   "outputs": [
    {
     "name": "stderr",
     "output_type": "stream",
     "text": [
      "/home/mtn/.local/lib/python3.10/site-packages/tqdm/auto.py:22: TqdmWarning: IProgress not found. Please update jupyter and ipywidgets. See https://ipywidgets.readthedocs.io/en/stable/user_install.html\n",
      "  from .autonotebook import tqdm as notebook_tqdm\n"
     ]
    }
   ],
   "source": [
    "import numpy as np\n",
    "import torch as th\n",
    "import torch.nn as nn\n",
    "import os\n",
    "import json\n",
    "import pandas as pd\n",
    "import torchvision.transforms as T\n",
    "\n",
    "from train.multi_hyperparameter import MultiHyperparameter\n",
    "from custom_models.unet_original import UNet, UNetSmall, UNetLarge\n",
    "from evaluate.cross_evaluator import SemanticCrossEvaluator\n",
    "from train.unet_trainer import UnetTrainer\n",
    "from datasets.semantic_dataset import SemanticDataset\n",
    "from preprocessing.data_augment import DataAugmenter"
   ],
   "metadata": {
    "collapsed": false,
    "pycharm": {
     "name": "#%%\n"
    }
   }
  },
  {
   "cell_type": "code",
   "execution_count": 2,
   "outputs": [
    {
     "name": "stdout",
     "output_type": "stream",
     "text": [
      "3\n"
     ]
    }
   ],
   "source": [
    "cwd = os.getcwd()\n",
    "ds1_path = os.path.join(cwd, '../data/cell_type_1')\n",
    "ds2_path = os.path.join(cwd, '../data/cell_type_2')\n",
    "\n",
    "cv_param = {'interval_img_out': 1,\n",
    "            'num_images': 3,\n",
    "            'device': th.device(\"cuda\" if th.cuda.is_available() else \"cpu\"),\n",
    "            'datasets_path': [ds1_path, ds2_path],\n",
    "            'results_path': os.path.join(cwd, '../results'),\n",
    "            'folds': [0, 1, 2, 3],\n",
    "            'epochs_cv': 1,\n",
    "            'epochs_ct': 1,\n",
    "            'num_random_params': 3}\n",
    "\n",
    "param = {'id': 0,\n",
    "         'padding_mode': 'reflect',\n",
    "         'out_classes': 2,\n",
    "         'criterion': nn.CrossEntropyLoss(),\n",
    "         'optimizer': MultiHyperparameter({'type': [  #'sgd',\n",
    "             #'adam',\n",
    "             'rmsprop',\n",
    "             #'asgd'\n",
    "         ],\n",
    "             'lr_factor': [\n",
    "                 1.5,\n",
    "                 1,\n",
    "                 0.5\n",
    "             ],\n",
    "             'weight_decay': [0,\n",
    "                              #1e-3,\n",
    "                              #1e-5\n",
    "                              ]\n",
    "         }).get_full_grid_params(),\n",
    "         'augment_transform': [{'rotate': False, 'mirror': False, 'translate': False, 'pad': 0},\n",
    "                               #{'rotate': True, 'mirror': True, 'translate': False, 'pad': 0},\n",
    "                               #{'rotate': True, 'mirror': True, 'translate': True, 'pad': 16},\n",
    "                               #{'rotate': True, 'mirror': True, 'translate': True, 'pad': 8}\n",
    "                               ],\n",
    "         'num_augments': 100,\n",
    "         'binarizer_lr': 0.02,\n",
    "         'batch_size': 2}\n",
    "\n",
    "unet_hyps = MultiHyperparameter(param)\n",
    "params = unet_hyps.get_full_grid_params()\n",
    "print(len(params))\n",
    "unet = UNet.__new__(UNet)"
   ],
   "metadata": {
    "collapsed": false,
    "pycharm": {
     "name": "#%%\n"
    }
   }
  },
  {
   "cell_type": "code",
   "execution_count": 3,
   "outputs": [
    {
     "name": "stdout",
     "output_type": "stream",
     "text": [
      "Testing Fold: 0 / 3\n",
      "Evaluating Param: 0 / 2\n",
      "Evaluating Dataset: 0 / 1\n",
      "Cross validate: 0 / 2\n"
     ]
    },
    {
     "name": "stderr",
     "output_type": "stream",
     "text": [
      "Training: 100%|██████████████████████████████| 1/1 [00:21<00:00, 21.50s/it]\n"
     ]
    },
    {
     "name": "stdout",
     "output_type": "stream",
     "text": [
      "Loss: 0.5533112043142319 Acc: 0.09382044523954391\n",
      "Cross validate: 1 / 2\n"
     ]
    },
    {
     "name": "stderr",
     "output_type": "stream",
     "text": [
      "Training: 100%|██████████████████████████████| 1/1 [00:21<00:00, 21.59s/it]\n"
     ]
    },
    {
     "name": "stdout",
     "output_type": "stream",
     "text": [
      "Loss: 0.5251954615116119 Acc: 0.20735852420330048\n",
      "Cross validate: 2 / 2\n"
     ]
    },
    {
     "name": "stderr",
     "output_type": "stream",
     "text": [
      "Training: 100%|██████████████████████████████| 1/1 [00:21<00:00, 21.76s/it]\n"
     ]
    },
    {
     "name": "stdout",
     "output_type": "stream",
     "text": [
      "Loss: 0.5165163058042527 Acc: 0.03456239402294159\n",
      "Evaluating Dataset: 1 / 1\n",
      "Cross validate: 0 / 2\n"
     ]
    },
    {
     "name": "stderr",
     "output_type": "stream",
     "text": [
      "Training: 100%|██████████████████████████████| 1/1 [00:21<00:00, 21.26s/it]\n"
     ]
    },
    {
     "name": "stdout",
     "output_type": "stream",
     "text": [
      "Loss: 0.5521536201238633 Acc: 0.6524022817611694\n",
      "Cross validate: 1 / 2\n"
     ]
    },
    {
     "name": "stderr",
     "output_type": "stream",
     "text": [
      "Training: 100%|██████████████████████████████| 1/1 [00:21<00:00, 21.44s/it]\n"
     ]
    },
    {
     "name": "stdout",
     "output_type": "stream",
     "text": [
      "Loss: 0.5645504063367843 Acc: 0.5345255136489868\n",
      "Cross validate: 2 / 2\n"
     ]
    },
    {
     "name": "stderr",
     "output_type": "stream",
     "text": [
      "Training: 100%|██████████████████████████████| 1/1 [00:21<00:00, 21.23s/it]\n"
     ]
    },
    {
     "name": "stdout",
     "output_type": "stream",
     "text": [
      "Loss: 0.5274746924638748 Acc: 0.5237728357315063\n",
      "Evaluating Param: 1 / 2\n",
      "Evaluating Dataset: 0 / 1\n",
      "Cross validate: 0 / 2\n"
     ]
    },
    {
     "name": "stderr",
     "output_type": "stream",
     "text": [
      "Training: 100%|██████████████████████████████| 1/1 [00:21<00:00, 21.78s/it]\n"
     ]
    },
    {
     "name": "stdout",
     "output_type": "stream",
     "text": [
      "Loss: 0.544754678606987 Acc: 0.04372614249587059\n",
      "Cross validate: 1 / 2\n"
     ]
    },
    {
     "name": "stderr",
     "output_type": "stream",
     "text": [
      "Training: 100%|██████████████████████████████| 1/1 [00:21<00:00, 21.77s/it]\n"
     ]
    },
    {
     "name": "stdout",
     "output_type": "stream",
     "text": [
      "Loss: 0.5595835322141647 Acc: 0.020796170458197594\n",
      "Cross validate: 2 / 2\n"
     ]
    },
    {
     "name": "stderr",
     "output_type": "stream",
     "text": [
      "Training: 100%|██████████████████████████████| 1/1 [00:21<00:00, 21.42s/it]\n"
     ]
    },
    {
     "name": "stdout",
     "output_type": "stream",
     "text": [
      "Loss: 0.5533826804161072 Acc: 0.008105015382170677\n",
      "Evaluating Dataset: 1 / 1\n",
      "Cross validate: 0 / 2\n"
     ]
    },
    {
     "name": "stderr",
     "output_type": "stream",
     "text": [
      "Training: 100%|██████████████████████████████| 1/1 [00:21<00:00, 21.52s/it]\n"
     ]
    },
    {
     "name": "stdout",
     "output_type": "stream",
     "text": [
      "Loss: 0.5614715629816055 Acc: 0.6542930603027344\n",
      "Cross validate: 1 / 2\n"
     ]
    },
    {
     "name": "stderr",
     "output_type": "stream",
     "text": [
      "Training: 100%|██████████████████████████████| 1/1 [00:21<00:00, 21.48s/it]\n"
     ]
    },
    {
     "name": "stdout",
     "output_type": "stream",
     "text": [
      "Loss: 0.5322900462150574 Acc: 0.49345889687538147\n",
      "Cross validate: 2 / 2\n"
     ]
    },
    {
     "name": "stderr",
     "output_type": "stream",
     "text": [
      "Training: 100%|██████████████████████████████| 1/1 [00:21<00:00, 21.51s/it]\n"
     ]
    },
    {
     "name": "stdout",
     "output_type": "stream",
     "text": [
      "Loss: 0.5769050335884094 Acc: 0.5246397256851196\n",
      "Evaluating Param: 2 / 2\n",
      "Evaluating Dataset: 0 / 1\n",
      "Cross validate: 0 / 2\n"
     ]
    },
    {
     "name": "stderr",
     "output_type": "stream",
     "text": [
      "Training: 100%|██████████████████████████████| 1/1 [00:21<00:00, 21.98s/it]\n"
     ]
    },
    {
     "name": "stdout",
     "output_type": "stream",
     "text": [
      "Loss: 0.6310721015930176 Acc: 0.04373030364513397\n",
      "Cross validate: 1 / 2\n"
     ]
    },
    {
     "name": "stderr",
     "output_type": "stream",
     "text": [
      "Training: 100%|██████████████████████████████| 1/1 [00:21<00:00, 21.76s/it]\n"
     ]
    },
    {
     "name": "stdout",
     "output_type": "stream",
     "text": [
      "Loss: 0.7061578071117401 Acc: 0.020796170458197594\n",
      "Cross validate: 2 / 2\n"
     ]
    },
    {
     "name": "stderr",
     "output_type": "stream",
     "text": [
      "Training: 100%|██████████████████████████████| 1/1 [00:22<00:00, 22.02s/it]\n"
     ]
    },
    {
     "name": "stdout",
     "output_type": "stream",
     "text": [
      "Loss: 0.6309318923950196 Acc: 0.021788280457258224\n",
      "Evaluating Dataset: 1 / 1\n",
      "Cross validate: 0 / 2\n"
     ]
    },
    {
     "name": "stderr",
     "output_type": "stream",
     "text": [
      "Training: 100%|██████████████████████████████| 1/1 [00:21<00:00, 21.60s/it]\n"
     ]
    },
    {
     "name": "stdout",
     "output_type": "stream",
     "text": [
      "Loss: 0.6235542809963226 Acc: 0.5909838676452637\n",
      "Cross validate: 1 / 2\n"
     ]
    },
    {
     "name": "stderr",
     "output_type": "stream",
     "text": [
      "Training: 100%|██████████████████████████████| 1/1 [00:21<00:00, 21.70s/it]\n"
     ]
    },
    {
     "name": "stdout",
     "output_type": "stream",
     "text": [
      "Loss: 0.6795531868934631 Acc: 0.5227495431900024\n",
      "Cross validate: 2 / 2\n"
     ]
    },
    {
     "name": "stderr",
     "output_type": "stream",
     "text": [
      "Training: 100%|██████████████████████████████| 1/1 [00:21<00:00, 21.69s/it]\n"
     ]
    },
    {
     "name": "stdout",
     "output_type": "stream",
     "text": [
      "Loss: 0.610199019908905 Acc: 0.5071520805358887\n",
      "Evaluating Dataset: 0 / 1\n"
     ]
    },
    {
     "name": "stderr",
     "output_type": "stream",
     "text": [
      "Training: 100%|██████████████████████████████| 1/1 [00:25<00:00, 25.04s/it]\n"
     ]
    },
    {
     "name": "stdout",
     "output_type": "stream",
     "text": [
      "Loss: 0.5446128022670745 Acc: 0.02779960073530674\n",
      "Evaluating Dataset: 1 / 1\n"
     ]
    },
    {
     "name": "stderr",
     "output_type": "stream",
     "text": [
      "Training: 100%|██████████████████████████████| 1/1 [00:24<00:00, 24.79s/it]\n"
     ]
    },
    {
     "name": "stdout",
     "output_type": "stream",
     "text": [
      "Loss: 0.5564838117361068 Acc: 0.5735226273536682\n",
      "Testing Fold: 1 / 3\n",
      "Evaluating Param: 0 / 2\n",
      "Evaluating Dataset: 0 / 1\n",
      "Cross validate: 0 / 2\n"
     ]
    },
    {
     "name": "stderr",
     "output_type": "stream",
     "text": [
      "Training: 100%|██████████████████████████████| 1/1 [00:21<00:00, 21.53s/it]\n"
     ]
    },
    {
     "name": "stdout",
     "output_type": "stream",
     "text": [
      "Loss: 0.4643408650159836 Acc: 0.03611069545149803\n",
      "Cross validate: 1 / 2\n"
     ]
    },
    {
     "name": "stderr",
     "output_type": "stream",
     "text": [
      "Training: 100%|██████████████████████████████| 1/1 [00:21<00:00, 21.24s/it]\n"
     ]
    },
    {
     "name": "stdout",
     "output_type": "stream",
     "text": [
      "Loss: 0.5313307332992554 Acc: 0.6725136637687683\n",
      "Cross validate: 2 / 2\n"
     ]
    },
    {
     "name": "stderr",
     "output_type": "stream",
     "text": [
      "Training: 100%|██████████████████████████████| 1/1 [00:21<00:00, 21.41s/it]\n"
     ]
    },
    {
     "name": "stdout",
     "output_type": "stream",
     "text": [
      "Loss: 0.5297744387388229 Acc: 0.49034491181373596\n",
      "Evaluating Dataset: 1 / 1\n",
      "Cross validate: 0 / 2\n"
     ]
    },
    {
     "name": "stderr",
     "output_type": "stream",
     "text": [
      "Training: 100%|██████████████████████████████| 1/1 [00:21<00:00, 21.37s/it]\n"
     ]
    },
    {
     "name": "stdout",
     "output_type": "stream",
     "text": [
      "Loss: 0.5769422090053559 Acc: 0.6029945015907288\n",
      "Cross validate: 1 / 2\n"
     ]
    },
    {
     "name": "stderr",
     "output_type": "stream",
     "text": [
      "Training: 100%|██████████████████████████████| 1/1 [00:21<00:00, 21.20s/it]\n"
     ]
    },
    {
     "name": "stdout",
     "output_type": "stream",
     "text": [
      "Loss: 0.5131680059432984 Acc: 0.5233028531074524\n",
      "Cross validate: 2 / 2\n"
     ]
    },
    {
     "name": "stderr",
     "output_type": "stream",
     "text": [
      "Training: 100%|██████████████████████████████| 1/1 [00:21<00:00, 21.07s/it]\n"
     ]
    },
    {
     "name": "stdout",
     "output_type": "stream",
     "text": [
      "Loss: 0.5227026331424713 Acc: 0.5369646549224854\n",
      "Evaluating Param: 1 / 2\n",
      "Evaluating Dataset: 0 / 1\n",
      "Cross validate: 0 / 2\n"
     ]
    },
    {
     "name": "stderr",
     "output_type": "stream",
     "text": [
      "Training: 100%|██████████████████████████████| 1/1 [00:21<00:00, 21.30s/it]\n"
     ]
    },
    {
     "name": "stdout",
     "output_type": "stream",
     "text": [
      "Loss: 0.5853465294837952 Acc: 0.03612442687153816\n",
      "Cross validate: 1 / 2\n"
     ]
    },
    {
     "name": "stderr",
     "output_type": "stream",
     "text": [
      "Training: 100%|██████████████████████████████| 1/1 [00:21<00:00, 21.01s/it]\n"
     ]
    },
    {
     "name": "stdout",
     "output_type": "stream",
     "text": [
      "Loss: 0.6010579001903534 Acc: 0.14224620163440704\n",
      "Cross validate: 2 / 2\n"
     ]
    },
    {
     "name": "stderr",
     "output_type": "stream",
     "text": [
      "Training: 100%|██████████████████████████████| 1/1 [00:21<00:00, 21.33s/it]\n"
     ]
    },
    {
     "name": "stdout",
     "output_type": "stream",
     "text": [
      "Loss: 0.5848111176490783 Acc: 0.021788280457258224\n",
      "Evaluating Dataset: 1 / 1\n",
      "Cross validate: 0 / 2\n"
     ]
    },
    {
     "name": "stderr",
     "output_type": "stream",
     "text": [
      "Training: 100%|██████████████████████████████| 1/1 [00:21<00:00, 21.22s/it]\n"
     ]
    },
    {
     "name": "stdout",
     "output_type": "stream",
     "text": [
      "Loss: 0.6305784451961517 Acc: 0.5987714529037476\n",
      "Cross validate: 1 / 2\n"
     ]
    },
    {
     "name": "stderr",
     "output_type": "stream",
     "text": [
      "Training: 100%|██████████████████████████████| 1/1 [00:21<00:00, 21.31s/it]\n"
     ]
    },
    {
     "name": "stdout",
     "output_type": "stream",
     "text": [
      "Loss: 0.5725930535793304 Acc: 0.531168520450592\n",
      "Cross validate: 2 / 2\n"
     ]
    },
    {
     "name": "stderr",
     "output_type": "stream",
     "text": [
      "Training: 100%|██████████████████████████████| 1/1 [00:21<00:00, 21.29s/it]\n"
     ]
    },
    {
     "name": "stdout",
     "output_type": "stream",
     "text": [
      "Loss: 0.5732896023988724 Acc: 0.5461848378181458\n",
      "Evaluating Param: 2 / 2\n",
      "Evaluating Dataset: 0 / 1\n",
      "Cross validate: 0 / 2\n"
     ]
    },
    {
     "name": "stderr",
     "output_type": "stream",
     "text": [
      "Training: 100%|██████████████████████████████| 1/1 [00:21<00:00, 21.53s/it]\n"
     ]
    },
    {
     "name": "stdout",
     "output_type": "stream",
     "text": [
      "Loss: 0.611964476108551 Acc: 0.03612995147705078\n",
      "Cross validate: 1 / 2\n"
     ]
    },
    {
     "name": "stderr",
     "output_type": "stream",
     "text": [
      "Training: 100%|██████████████████████████████| 1/1 [00:21<00:00, 21.34s/it]\n"
     ]
    },
    {
     "name": "stdout",
     "output_type": "stream",
     "text": [
      "Loss: 0.6121302402019501 Acc: 0.06729914247989655\n",
      "Cross validate: 2 / 2\n"
     ]
    },
    {
     "name": "stderr",
     "output_type": "stream",
     "text": [
      "Training: 100%|██████████████████████████████| 1/1 [00:21<00:00, 21.45s/it]\n"
     ]
    },
    {
     "name": "stdout",
     "output_type": "stream",
     "text": [
      "Loss: 0.6177533936500549 Acc: 0.021059760823845863\n",
      "Evaluating Dataset: 1 / 1\n",
      "Cross validate: 0 / 2\n"
     ]
    },
    {
     "name": "stderr",
     "output_type": "stream",
     "text": [
      "Training: 100%|██████████████████████████████| 1/1 [00:21<00:00, 21.46s/it]\n"
     ]
    },
    {
     "name": "stdout",
     "output_type": "stream",
     "text": [
      "Loss: 0.6301901841163635 Acc: 0.5767256617546082\n",
      "Cross validate: 1 / 2\n"
     ]
    },
    {
     "name": "stderr",
     "output_type": "stream",
     "text": [
      "Training:   0%|                                      | 0/1 [00:15<?, ?it/s]\n"
     ]
    },
    {
     "ename": "KeyboardInterrupt",
     "evalue": "",
     "output_type": "error",
     "traceback": [
      "\u001B[0;31m---------------------------------------------------------------------------\u001B[0m",
      "\u001B[0;31mKeyboardInterrupt\u001B[0m                         Traceback (most recent call last)",
      "Input \u001B[0;32mIn [3]\u001B[0m, in \u001B[0;36m<cell line: 2>\u001B[0;34m()\u001B[0m\n\u001B[1;32m      1\u001B[0m cte \u001B[38;5;241m=\u001B[39m SemanticCrossEvaluator(unet, cv_param)\n\u001B[0;32m----> 2\u001B[0m report \u001B[38;5;241m=\u001B[39m \u001B[43mcte\u001B[49m\u001B[38;5;241;43m.\u001B[39;49m\u001B[43mcross_test_model\u001B[49m\u001B[43m(\u001B[49m\u001B[43mparams\u001B[49m\u001B[43m,\u001B[49m\u001B[43m \u001B[49m\u001B[43mcv_param\u001B[49m\u001B[43m[\u001B[49m\u001B[38;5;124;43m'\u001B[39;49m\u001B[38;5;124;43mepochs_ct\u001B[39;49m\u001B[38;5;124;43m'\u001B[39;49m\u001B[43m]\u001B[49m\u001B[43m,\u001B[49m\u001B[43m \u001B[49m\u001B[43mcv_param\u001B[49m\u001B[43m[\u001B[49m\u001B[38;5;124;43m'\u001B[39;49m\u001B[38;5;124;43mepochs_cv\u001B[39;49m\u001B[38;5;124;43m'\u001B[39;49m\u001B[43m]\u001B[49m\u001B[43m)\u001B[49m\n",
      "File \u001B[0;32m~/workspace/Cell_segmentation/src/evaluate/cross_evaluator.py:117\u001B[0m, in \u001B[0;36mSemanticCrossEvaluator.cross_test_model\u001B[0;34m(self, params, epochs_ct, epochs_cv)\u001B[0m\n\u001B[1;32m    115\u001B[0m \u001B[38;5;28;01mfor\u001B[39;00m j, param \u001B[38;5;129;01min\u001B[39;00m \u001B[38;5;28menumerate\u001B[39m(params, \u001B[38;5;241m0\u001B[39m):\n\u001B[1;32m    116\u001B[0m     \u001B[38;5;28mprint\u001B[39m(\u001B[38;5;124mf\u001B[39m\u001B[38;5;124m'\u001B[39m\u001B[38;5;124mEvaluating Param: \u001B[39m\u001B[38;5;132;01m{\u001B[39;00mj\u001B[38;5;132;01m}\u001B[39;00m\u001B[38;5;124m / \u001B[39m\u001B[38;5;132;01m{\u001B[39;00m\u001B[38;5;28mlen\u001B[39m(params) \u001B[38;5;241m-\u001B[39m \u001B[38;5;241m1\u001B[39m\u001B[38;5;132;01m}\u001B[39;00m\u001B[38;5;124m'\u001B[39m)\n\u001B[0;32m--> 117\u001B[0m     report \u001B[38;5;241m=\u001B[39m \u001B[38;5;28;43mself\u001B[39;49m\u001B[38;5;241;43m.\u001B[39;49m\u001B[43mevaluate_param\u001B[49m\u001B[43m(\u001B[49m\u001B[43mparam\u001B[49m\u001B[43m,\u001B[49m\u001B[43m \u001B[49m\u001B[43mfolds_train\u001B[49m\u001B[43m,\u001B[49m\u001B[43m \u001B[49m\u001B[43mfolds_validate\u001B[49m\u001B[43m,\u001B[49m\u001B[43m \u001B[49m\u001B[43mepochs_cv\u001B[49m\u001B[43m,\u001B[49m\u001B[43m \u001B[49m\u001B[43mtest\u001B[49m\u001B[38;5;241;43m=\u001B[39;49m\u001B[38;5;28;43;01mTrue\u001B[39;49;00m\u001B[43m)\u001B[49m\n\u001B[1;32m    118\u001B[0m     \u001B[38;5;28;01mif\u001B[39;00m \u001B[38;5;28mlen\u001B[39m(report[\u001B[38;5;124m'\u001B[39m\u001B[38;5;124mcombined_validate\u001B[39m\u001B[38;5;124m'\u001B[39m]) \u001B[38;5;241m>\u001B[39m \u001B[38;5;241m10\u001B[39m:\n\u001B[1;32m    119\u001B[0m         current_acc \u001B[38;5;241m=\u001B[39m np\u001B[38;5;241m.\u001B[39mmean(report[\u001B[38;5;124m'\u001B[39m\u001B[38;5;124mcombined_validate\u001B[39m\u001B[38;5;124m'\u001B[39m][\u001B[38;5;241m10\u001B[39m:])\n",
      "File \u001B[0;32m~/workspace/Cell_segmentation/src/evaluate/cross_evaluator.py:81\u001B[0m, in \u001B[0;36mSemanticCrossEvaluator.evaluate_param\u001B[0;34m(self, param, folds_train, folds_validate, epochs, test)\u001B[0m\n\u001B[1;32m     79\u001B[0m \u001B[38;5;28mprint\u001B[39m(\u001B[38;5;124mf\u001B[39m\u001B[38;5;124m'\u001B[39m\u001B[38;5;124mEvaluating Dataset: \u001B[39m\u001B[38;5;132;01m{\u001B[39;00mi\u001B[38;5;132;01m}\u001B[39;00m\u001B[38;5;124m / \u001B[39m\u001B[38;5;132;01m{\u001B[39;00m\u001B[38;5;28mlen\u001B[39m(\u001B[38;5;28mself\u001B[39m\u001B[38;5;241m.\u001B[39mdatasets_path) \u001B[38;5;241m-\u001B[39m \u001B[38;5;241m1\u001B[39m\u001B[38;5;132;01m}\u001B[39;00m\u001B[38;5;124m'\u001B[39m)\n\u001B[1;32m     80\u001B[0m \u001B[38;5;28;01mif\u001B[39;00m test:\n\u001B[0;32m---> 81\u001B[0m     train_losses, validation_losses \u001B[38;5;241m=\u001B[39m \u001B[38;5;28;43mself\u001B[39;49m\u001B[38;5;241;43m.\u001B[39;49m\u001B[43mcross_validate_param\u001B[49m\u001B[43m(\u001B[49m\u001B[43mparam\u001B[49m\u001B[43m,\u001B[49m\u001B[43m \u001B[49m\u001B[43mfolds_train\u001B[49m\u001B[43m,\u001B[49m\u001B[43m \u001B[49m\u001B[43mdataset_path\u001B[49m\u001B[43m,\u001B[49m\u001B[43m \u001B[49m\u001B[43mepochs\u001B[49m\u001B[43m)\u001B[49m\n\u001B[1;32m     82\u001B[0m \u001B[38;5;28;01melse\u001B[39;00m:\n\u001B[1;32m     83\u001B[0m     train_losses, validation_losses \u001B[38;5;241m=\u001B[39m \u001B[38;5;28mself\u001B[39m\u001B[38;5;241m.\u001B[39mtrain_validate(param,\n\u001B[1;32m     84\u001B[0m                                                           dataset_path,\n\u001B[1;32m     85\u001B[0m                                                           folds_train,\n\u001B[1;32m     86\u001B[0m                                                           folds_validate,\n\u001B[1;32m     87\u001B[0m                                                           epochs)\n",
      "File \u001B[0;32m~/workspace/Cell_segmentation/src/evaluate/cross_evaluator.py:59\u001B[0m, in \u001B[0;36mSemanticCrossEvaluator.cross_validate_param\u001B[0;34m(self, param, folds, dataset_path, epochs)\u001B[0m\n\u001B[1;32m     57\u001B[0m folds_train\u001B[38;5;241m.\u001B[39mremove(train_fold)\n\u001B[1;32m     58\u001B[0m folds_validate \u001B[38;5;241m=\u001B[39m [train_fold]\n\u001B[0;32m---> 59\u001B[0m train_loss, validation_loss \u001B[38;5;241m=\u001B[39m \u001B[38;5;28;43mself\u001B[39;49m\u001B[38;5;241;43m.\u001B[39;49m\u001B[43mtrain_validate\u001B[49m\u001B[43m(\u001B[49m\u001B[43mparam\u001B[49m\u001B[43m,\u001B[49m\n\u001B[1;32m     60\u001B[0m \u001B[43m                                                  \u001B[49m\u001B[43mdataset_path\u001B[49m\u001B[43m,\u001B[49m\n\u001B[1;32m     61\u001B[0m \u001B[43m                                                  \u001B[49m\u001B[43mfolds_train\u001B[49m\u001B[43m,\u001B[49m\n\u001B[1;32m     62\u001B[0m \u001B[43m                                                  \u001B[49m\u001B[43mfolds_validate\u001B[49m\u001B[43m,\u001B[49m\n\u001B[1;32m     63\u001B[0m \u001B[43m                                                  \u001B[49m\u001B[43mepochs\u001B[49m\u001B[43m)\u001B[49m\n\u001B[1;32m     64\u001B[0m train_losses \u001B[38;5;241m+\u001B[39m\u001B[38;5;241m=\u001B[39m train_loss\n\u001B[1;32m     65\u001B[0m validation_losses \u001B[38;5;241m+\u001B[39m\u001B[38;5;241m=\u001B[39m validation_loss\n",
      "File \u001B[0;32m~/workspace/Cell_segmentation/src/evaluate/cross_evaluator.py:43\u001B[0m, in \u001B[0;36mSemanticCrossEvaluator.train_validate\u001B[0;34m(self, param, dataset_path, folds_train, folds_validate, num_epochs)\u001B[0m\n\u001B[1;32m     28\u001B[0m ds_validate \u001B[38;5;241m=\u001B[39m SemanticDataset(dataset_path, folds_validate)\n\u001B[1;32m     30\u001B[0m trainer \u001B[38;5;241m=\u001B[39m UnetTrainer(model,\n\u001B[1;32m     31\u001B[0m                       \u001B[38;5;28mself\u001B[39m\u001B[38;5;241m.\u001B[39mdevice,\n\u001B[1;32m     32\u001B[0m                       param[\u001B[38;5;124m'\u001B[39m\u001B[38;5;124mcriterion\u001B[39m\u001B[38;5;124m'\u001B[39m],\n\u001B[0;32m   (...)\u001B[0m\n\u001B[1;32m     40\u001B[0m                       \u001B[38;5;28mid\u001B[39m\u001B[38;5;241m=\u001B[39mfolds_validate[\u001B[38;5;241m0\u001B[39m],\n\u001B[1;32m     41\u001B[0m                       num_classes\u001B[38;5;241m=\u001B[39mparam[\u001B[38;5;124m'\u001B[39m\u001B[38;5;124mout_classes\u001B[39m\u001B[38;5;124m'\u001B[39m])\n\u001B[0;32m---> 43\u001B[0m \u001B[43mtrainer\u001B[49m\u001B[38;5;241;43m.\u001B[39;49m\u001B[43mtrain\u001B[49m\u001B[43m(\u001B[49m\u001B[43mnum_epochs\u001B[49m\u001B[43m,\u001B[49m\n\u001B[1;32m     44\u001B[0m \u001B[43m              \u001B[49m\u001B[43mimg_output\u001B[49m\u001B[38;5;241;43m=\u001B[39;49m\u001B[38;5;28;43;01mTrue\u001B[39;49;00m\u001B[43m,\u001B[49m\n\u001B[1;32m     45\u001B[0m \u001B[43m              \u001B[49m\u001B[43mnum_images\u001B[49m\u001B[38;5;241;43m=\u001B[39;49m\u001B[38;5;28;43mself\u001B[39;49m\u001B[38;5;241;43m.\u001B[39;49m\u001B[43mnum_images\u001B[49m\u001B[43m,\u001B[49m\n\u001B[1;32m     46\u001B[0m \u001B[43m              \u001B[49m\u001B[43mout_folder\u001B[49m\u001B[38;5;241;43m=\u001B[39;49m\u001B[38;5;28;43mself\u001B[39;49m\u001B[38;5;241;43m.\u001B[39;49m\u001B[43mreport\u001B[49m\u001B[38;5;241;43m.\u001B[39;49m\u001B[43mout_path\u001B[49m\u001B[43m,\u001B[49m\n\u001B[1;32m     47\u001B[0m \u001B[43m              \u001B[49m\u001B[43minterval\u001B[49m\u001B[38;5;241;43m=\u001B[39;49m\u001B[38;5;28;43mself\u001B[39;49m\u001B[38;5;241;43m.\u001B[39;49m\u001B[43minterval_img_out\u001B[49m\u001B[43m)\u001B[49m\n\u001B[1;32m     48\u001B[0m train_loss, validation_loss \u001B[38;5;241m=\u001B[39m trainer\u001B[38;5;241m.\u001B[39mget_losses()\n\u001B[1;32m     49\u001B[0m \u001B[38;5;28;01mreturn\u001B[39;00m train_loss, validation_loss\n",
      "File \u001B[0;32m~/workspace/Cell_segmentation/src/train/unet_trainer.py:54\u001B[0m, in \u001B[0;36mUnetTrainer.train\u001B[0;34m(self, epochs, img_output, num_images, out_folder, interval)\u001B[0m\n\u001B[1;32m     52\u001B[0m \u001B[38;5;28;01mif\u001B[39;00m \u001B[38;5;129;01mnot\u001B[39;00m img_output \u001B[38;5;129;01mor\u001B[39;00m i \u001B[38;5;241m==\u001B[39m \u001B[38;5;241m0\u001B[39m \u001B[38;5;129;01mor\u001B[39;00m ((i \u001B[38;5;241m%\u001B[39m interval \u001B[38;5;241m!=\u001B[39m \u001B[38;5;241m0\u001B[39m) \u001B[38;5;129;01mand\u001B[39;00m i \u001B[38;5;241m!=\u001B[39m epochs \u001B[38;5;241m-\u001B[39m \u001B[38;5;241m1\u001B[39m):\n\u001B[1;32m     53\u001B[0m     loss \u001B[38;5;241m=\u001B[39m \u001B[38;5;28mself\u001B[39m\u001B[38;5;241m.\u001B[39mtrain_epoch()\n\u001B[0;32m---> 54\u001B[0m     acc \u001B[38;5;241m=\u001B[39m \u001B[38;5;28;43mself\u001B[39;49m\u001B[38;5;241;43m.\u001B[39;49m\u001B[43mtest\u001B[49m\u001B[43m(\u001B[49m\u001B[43m)\u001B[49m\n\u001B[1;32m     55\u001B[0m \u001B[38;5;28;01melse\u001B[39;00m:\n\u001B[1;32m     56\u001B[0m     loss \u001B[38;5;241m=\u001B[39m \u001B[38;5;28mself\u001B[39m\u001B[38;5;241m.\u001B[39mtrain_epoch(num_images\u001B[38;5;241m=\u001B[39mnum_images, out_folder\u001B[38;5;241m=\u001B[39mout_folder)\n",
      "File \u001B[0;32m~/workspace/Cell_segmentation/src/train/unet_trainer.py:107\u001B[0m, in \u001B[0;36mUnetTrainer.test\u001B[0;34m(self, num_images, out_folder)\u001B[0m\n\u001B[1;32m    105\u001B[0m img \u001B[38;5;241m=\u001B[39m img\u001B[38;5;241m.\u001B[39mto(\u001B[38;5;28mself\u001B[39m\u001B[38;5;241m.\u001B[39mdevice)\n\u001B[1;32m    106\u001B[0m x_predicted \u001B[38;5;241m=\u001B[39m \u001B[38;5;28mself\u001B[39m\u001B[38;5;241m.\u001B[39mmodel\u001B[38;5;241m.\u001B[39mforward(img)\n\u001B[0;32m--> 107\u001B[0m target_store \u001B[38;5;241m=\u001B[39m \u001B[43mtarget\u001B[49m\u001B[43m[\u001B[49m\u001B[38;5;241;43m0\u001B[39;49m\u001B[43m]\u001B[49m\u001B[38;5;241;43m.\u001B[39;49m\u001B[43mclone\u001B[49m\u001B[43m(\u001B[49m\u001B[43m)\u001B[49m\u001B[38;5;241;43m.\u001B[39;49m\u001B[43mdetach\u001B[49m\u001B[43m(\u001B[49m\u001B[43m)\u001B[49m\u001B[38;5;241;43m.\u001B[39;49m\u001B[43mto\u001B[49m\u001B[43m(\u001B[49m\u001B[38;5;124;43m'\u001B[39;49m\u001B[38;5;124;43mcpu\u001B[39;49m\u001B[38;5;124;43m'\u001B[39;49m\u001B[43m)\u001B[49m\u001B[38;5;241m.\u001B[39mto(th\u001B[38;5;241m.\u001B[39mint32)\n\u001B[1;32m    108\u001B[0m pred_store \u001B[38;5;241m=\u001B[39m x_predicted[\u001B[38;5;241m0\u001B[39m]\u001B[38;5;241m.\u001B[39mclone()\u001B[38;5;241m.\u001B[39mdetach()\u001B[38;5;241m.\u001B[39mto(\u001B[38;5;124m'\u001B[39m\u001B[38;5;124mcpu\u001B[39m\u001B[38;5;124m'\u001B[39m)\n\u001B[1;32m    109\u001B[0m data_binarizer\u001B[38;5;241m.\u001B[39mappend((target_store, pred_store))\n",
      "\u001B[0;31mKeyboardInterrupt\u001B[0m: "
     ]
    }
   ],
   "source": [
    "cte = SemanticCrossEvaluator(unet, cv_param)\n",
    "report = cte.cross_test_model(params, cv_param['epochs_ct'], cv_param['epochs_cv'])\n",
    "#cte.train_validate(params[0], ds1_path, [0, 1, 2], [3], 50)"
   ],
   "metadata": {
    "collapsed": false,
    "pycharm": {
     "name": "#%%\n"
    }
   }
  },
  {
   "cell_type": "code",
   "execution_count": null,
   "outputs": [],
   "source": [],
   "metadata": {
    "collapsed": false,
    "pycharm": {
     "name": "#%%\n"
    }
   }
  }
 ],
 "metadata": {
  "kernelspec": {
   "display_name": "Python 3",
   "language": "python",
   "name": "python3"
  },
  "language_info": {
   "codemirror_mode": {
    "name": "ipython",
    "version": 2
   },
   "file_extension": ".py",
   "mimetype": "text/x-python",
   "name": "python",
   "nbconvert_exporter": "python",
   "pygments_lexer": "ipython2",
   "version": "2.7.6"
  }
 },
 "nbformat": 4,
 "nbformat_minor": 0
}