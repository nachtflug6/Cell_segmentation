{
 "cells": [
  {
   "cell_type": "code",
   "execution_count": 2,
   "outputs": [],
   "source": [
    "import numpy as np\n",
    "import torch as th\n",
    "import torch.nn as nn\n",
    "import os\n",
    "import json\n",
    "import pandas as pd\n",
    "\n",
    "from train.multi_hyperparameter import MultiHyperparameter\n",
    "from custom_models.unet_original import UNet\n",
    "from train.unet_trainer import UnetTrainer\n",
    "from datasets.semantic_dataset import SemanticDataset\n",
    "from evaluate.cross_evaluator import CrossTrainEvaluator"
   ],
   "metadata": {
    "collapsed": false,
    "pycharm": {
     "name": "#%%\n"
    }
   }
  },
  {
   "cell_type": "code",
   "execution_count": 4,
   "outputs": [
    {
     "name": "stdout",
     "output_type": "stream",
     "text": [
      "{'padding_mode': 'zeros', 'depth': 5, 'start_layers': 64, 'dim_multiplier': 2, 'input_conv_kernel_size': 3, 'out_classes': 2, 'criterion': CrossEntropyLoss(), 'optimizer': 1}\n",
      "   ds_0_train  ds_0_validate  ds_1_train  ds_1_validate  combined_train  \\\n",
      "0    0.407556       0.304304    0.395906       0.293895        0.401731   \n",
      "\n",
      "   combined_validate  \n",
      "0           0.299099  \n"
     ]
    }
   ],
   "source": [
    "params = {'padding_mode': ['zeros', 'reflect', 'replicate', 'circular'],\n",
    "          'depth': 5,\n",
    "          'start_layers': 64,\n",
    "          'dim_multiplier': 2,\n",
    "          'input_conv_kernel_size': 3,\n",
    "          'out_classes': 2,\n",
    "          'criterion': nn.CrossEntropyLoss(),\n",
    "          'optimizer': 1}\n",
    "\n",
    "param = {'padding_mode': 'zeros',\n",
    "          'depth': 5,\n",
    "          'start_layers': 64,\n",
    "          'dim_multiplier': 2,\n",
    "          'input_conv_kernel_size': 3,\n",
    "          'out_classes': 2,\n",
    "          'criterion': nn.CrossEntropyLoss(),\n",
    "          'optimizer': 1}\n",
    "\n",
    "unet_hyps = MultiHyperparameter(params)\n",
    "unet = UNet.__new__(UNet)\n",
    "\n",
    "models_to_evaluate = [(unet, unet_hyps)]\n",
    "\n",
    "num_epochs = 1\n",
    "models = []\n",
    "trainers = []\n",
    "folds = [0, 1, 2, 3]\n",
    "device = th.device(\"cuda\" if th.cuda.is_available() else \"cpu\")\n",
    "cwd = os.getcwd()\n",
    "ds1_path = os.path.join(cwd, '../data/cell_type_1')\n",
    "ds2_path = os.path.join(cwd, '../data/cell_type_2')\n",
    "result_path = os.path.join(cwd, '../results')\n",
    "\n",
    "\n",
    "\n",
    "cte = CrossTrainEvaluator(unet, [ds1_path, ds2_path], device, result_path)\n",
    "report = cte.evaluate_param(param, [0, 1, 2, 3], 1)\n",
    "\n",
    "\n",
    "print(report)\n",
    "# (self, model, datasets_path, params_to_test: MultiHyperparameter, results_path, epochs):\n",
    "# (self, param, model, folds, epochs):"
   ],
   "metadata": {
    "collapsed": false,
    "pycharm": {
     "name": "#%%\n"
    }
   }
  },
  {
   "cell_type": "code",
   "execution_count": 6,
   "outputs": [
    {
     "name": "stdout",
     "output_type": "stream",
     "text": [
      "CrossEntropyLoss()\n"
     ]
    }
   ],
   "source": [
    "file = th.load(os.path.join(cwd, '../results/test.pt'))\n",
    "print(file[0]['criterion'])"
   ],
   "metadata": {
    "collapsed": false,
    "pycharm": {
     "name": "#%%\n"
    }
   }
  },
  {
   "cell_type": "code",
   "execution_count": 19,
   "outputs": [],
   "source": [
    "    def cross_validate(self, epochs, mode='grid', num_params=0):\n",
    "        # assert (mode == 'random' and num_params > 0) or mode == 'grid'\n",
    "        # if mode == 'grid':\n",
    "        #     params_to_evaluate = self.params_to_test.get_full_grid_params()\n",
    "        # else:\n",
    "        #     params_to_evaluate = self.params_to_test.get_random_params(num_params)\n",
    "        #\n",
    "        # for fold in self.folds:\n",
    "        #     folds_ds_train = folds.copy()\n",
    "        #     folds_ds_train.remove(fold)\n",
    "        #     folds_ds_test = [fold]\n",
    "        #\n",
    "        #     for param in params_to_evaluate:\n",
    "        #         print(param)\n",
    "        #         report = {'param': param}\n",
    "        #\n",
    "        #         comb_train_losses = np.zeros(num_epochs)\n",
    "        #         comb_validation_losses = np.zeros(num_epochs)\n",
    "        #\n",
    "        #         for i, dataset_path in enumerate(self.datasets_path, 0):\n",
    "        #             folds_train = folds_ds_train.copy()\n",
    "        #             folds_train.remove(train_fold)\n",
    "        #             folds_validate = [train_fold]\n",
    "        #             train_losses = np.zeros(num_epochs)\n",
    "        #             validation_losses = np.zeros(num_epochs)\n",
    "        #             for train_fold in folds_ds_train:\n",
    "        #                 model.__init__(param)\n",
    "        #                 ds_train = SemanticDataset(dataset_path, folds_train)\n",
    "        #                 ds_validate = SemanticDataset(dataset_path, folds_validate)\n",
    "        #                 trainer = UnetTrainer(model, device, param['criterion'],\n",
    "        #                                       th.optim.Adam(model.parameters(), lr=1e-4, weight_decay=1e-5), ds_train, ds_validate)\n",
    "        #                 trainer.train(self.num_epochs, test=True)\n",
    "        #                 train_loss, validation_loss = trainer.get_losses()\n",
    "        #                 train_losses += train_loss\n",
    "        #                 validation_losses += validation_loss\n",
    "        #\n",
    "        #             train_losses /= len(folds_ds_train)\n",
    "        #             validation_losses /= len(folds_ds_train)\n",
    "        #             comb_train_losses += train_losses\n",
    "        #             comb_validation_losses += validation_losses\n",
    "        #\n",
    "        #             key = 'ds_' + str(i)\n",
    "        #             report[key] = {'train': train_losses, 'validate': validation_losses}\n",
    "        #\n",
    "        #         comb_train_losses /= 2\n",
    "        #         comb_validation_losses /= 2\n",
    "        #         report['combined'] = {'train': train_losses, 'validate': validation_losses}\n",
    "        #\n",
    "        #     model.__init__(param)\n",
    "        #     ds_train = SemanticDataset(dataset_path, folds_train)\n",
    "        #     ds_validate = SemanticDataset(dataset_path, folds_validate)\n",
    "        #     trainer = UnetTrainer(model, device, param['criterion'],\n",
    "        #                           th.optim.Adam(model.parameters(), lr=1e-4, weight_decay=1e-5), ds_train, ds_validate)\n",
    "        #     trainer.train(self.num_epochs, test=True)\n",
    "        #     train_loss, validation_loss = trainer.get_losses()\n",
    "        #     train_losses += train_loss\n",
    "        #     validation_losses += validation_loss"
   ],
   "metadata": {
    "collapsed": false,
    "pycharm": {
     "name": "#%%\n"
    }
   }
  },
  {
   "cell_type": "code",
   "execution_count": 3,
   "outputs": [],
   "source": [],
   "metadata": {
    "collapsed": false,
    "pycharm": {
     "name": "#%%\n"
    }
   }
  }
 ],
 "metadata": {
  "kernelspec": {
   "display_name": "Python 3",
   "language": "python",
   "name": "python3"
  },
  "language_info": {
   "codemirror_mode": {
    "name": "ipython",
    "version": 2
   },
   "file_extension": ".py",
   "mimetype": "text/x-python",
   "name": "python",
   "nbconvert_exporter": "python",
   "pygments_lexer": "ipython2",
   "version": "2.7.6"
  }
 },
 "nbformat": 4,
 "nbformat_minor": 0
}