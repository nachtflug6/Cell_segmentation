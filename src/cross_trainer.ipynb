{
 "cells": [
  {
   "cell_type": "code",
   "execution_count": 1,
   "outputs": [
    {
     "name": "stderr",
     "output_type": "stream",
     "text": [
      "C:\\Users\\silva\\anaconda3\\envs\\TorchEnv\\lib\\site-packages\\tqdm\\auto.py:22: TqdmWarning: IProgress not found. Please update jupyter and ipywidgets. See https://ipywidgets.readthedocs.io/en/stable/user_install.html\n",
      "  from .autonotebook import tqdm as notebook_tqdm\n"
     ]
    }
   ],
   "source": [
    "import numpy as np\n",
    "import torch as th\n",
    "import torch.nn as nn\n",
    "import os\n",
    "import json\n",
    "import pandas as pd\n",
    "import torchvision.transforms as T\n",
    "\n",
    "from train.multi_hyperparameter import MultiHyperparameter\n",
    "from custom_models.unet_original import UNet, UNet2\n",
    "from evaluate.cross_evaluator import SemanticCrossEvaluator\n",
    "from train.unet_trainer import UnetTrainer\n",
    "from datasets.semantic_dataset import SemanticDataset\n",
    "from preprocessing.data_augment import DataAugmenter"
   ],
   "metadata": {
    "collapsed": false,
    "pycharm": {
     "name": "#%%\n"
    }
   }
  },
  {
   "cell_type": "code",
   "execution_count": 2,
   "outputs": [
    {
     "name": "stdout",
     "output_type": "stream",
     "text": [
      "tensor([0, 1, 2, 3, 4, 5, 6, 7, 8, 9])\n"
     ]
    }
   ],
   "source": [
    "tensor = th.arange(0, 10)\n",
    "print(tensor)"
   ],
   "metadata": {
    "collapsed": false,
    "pycharm": {
     "name": "#%%\n"
    }
   }
  },
  {
   "cell_type": "code",
   "execution_count": 2,
   "outputs": [],
   "source": [],
   "metadata": {
    "collapsed": false,
    "pycharm": {
     "name": "#%%\n"
    }
   }
  },
  {
   "cell_type": "code",
   "execution_count": 3,
   "outputs": [
    {
     "data": {
      "text/plain": "'1.11.0'"
     },
     "execution_count": 3,
     "metadata": {},
     "output_type": "execute_result"
    }
   ],
   "source": [
    "cwd = os.getcwd()\n",
    "ds1_path = os.path.join(cwd, '../data/cell_type_1')\n",
    "ds2_path = os.path.join(cwd, '../data/cell_type_2')\n",
    "\n",
    "cv_param = {'interval_img_out': 13,\n",
    "            'num_images': 3,\n",
    "            'device': th.device(\"cuda\" if th.cuda.is_available() else \"cpu\"),\n",
    "            'datasets_path': [ds1_path, ds2_path],\n",
    "            'results_path': os.path.join(cwd, '../results'),\n",
    "            'folds': [0, 1, 2, 3],\n",
    "            'epochs_cv': 1,\n",
    "            'epochs_ct': 1}\n",
    "\n",
    "param = {'id': 0,\n",
    "         'padding_mode': 'reflect',\n",
    "         'out_classes': 2,\n",
    "         'criterion': nn.CrossEntropyLoss(),\n",
    "         'optimizer': MultiHyperparameter({'type': ['sgd'#, 'adam', 'rmsprop', 'asgd'\n",
    "                                                    ], 'lr_factor': [0.5, 0.75, 1, 1.25, 1.5], 'weight_decay': [0, 1e-3, 1e-5]}).get_full_grid_params(),\n",
    "         'augment_transform': [{'rotate': False, 'mirror': False, 'translate': False, 'pad': 0},\n",
    "                               # {'rotate': True, 'mirror': True, 'translate': False, 'pad': 0},\n",
    "                               # {'rotate': True, 'mirror': True, 'translate': True, 'pad': 16},\n",
    "                               # {'rotate': True, 'mirror': True, 'translate': True, 'pad': 64}\n",
    "                               ],\n",
    "         'num_augments': 100,\n",
    "         'binarizer_lr': 0.05,\n",
    "         'batch_size': 1}\n",
    "\n",
    "# print(MultiHyperparameter({'type': ['sgd', 'adam', 'rmsprop', 'asgd'], 'lr_factor': [0.5, 0.75, 1, 1.25, 1.5], 'weight_decay': [0, 1e-3, 1e-5]}).get_full_grid_params()[0])\n",
    "\n",
    "unet_hyps = MultiHyperparameter(param)\n",
    "params = unet_hyps.get_random_params(1)\n",
    "unet = UNet.__new__(UNet)\n",
    "#\n",
    "# models_to_evaluate = [(unet, unet_hyps)]\n",
    "th.__version__"
   ],
   "metadata": {
    "collapsed": false,
    "pycharm": {
     "name": "#%%\n"
    }
   }
  },
  {
   "cell_type": "code",
   "execution_count": 4,
   "outputs": [
    {
     "name": "stdout",
     "output_type": "stream",
     "text": [
      "Testing Fold: 0 / 3\n",
      "Evaluating Param: 0 / 0\n",
      "Evaluating Dataset: 0 / 1\n",
      "Cross validate: 0 / 2\n"
     ]
    },
    {
     "name": "stderr",
     "output_type": "stream",
     "text": [
      "Training:   0%|                                      | 0/1 [00:22<?, ?it/s]\n"
     ]
    },
    {
     "ename": "TypeError",
     "evalue": "expected str, bytes or os.PathLike object, not NoneType",
     "output_type": "error",
     "traceback": [
      "\u001B[1;31m---------------------------------------------------------------------------\u001B[0m",
      "\u001B[1;31mTypeError\u001B[0m                                 Traceback (most recent call last)",
      "Input \u001B[1;32mIn [4]\u001B[0m, in \u001B[0;36m<module>\u001B[1;34m\u001B[0m\n\u001B[0;32m      1\u001B[0m cte \u001B[38;5;241m=\u001B[39m SemanticCrossEvaluator(unet, cv_param)\n\u001B[1;32m----> 2\u001B[0m report \u001B[38;5;241m=\u001B[39m \u001B[43mcte\u001B[49m\u001B[38;5;241;43m.\u001B[39;49m\u001B[43mcross_test_model\u001B[49m\u001B[43m(\u001B[49m\u001B[43mparams\u001B[49m\u001B[43m,\u001B[49m\u001B[43m \u001B[49m\u001B[43mcv_param\u001B[49m\u001B[43m[\u001B[49m\u001B[38;5;124;43m'\u001B[39;49m\u001B[38;5;124;43mepochs_ct\u001B[39;49m\u001B[38;5;124;43m'\u001B[39;49m\u001B[43m]\u001B[49m\u001B[43m,\u001B[49m\u001B[43m \u001B[49m\u001B[43mcv_param\u001B[49m\u001B[43m[\u001B[49m\u001B[38;5;124;43m'\u001B[39;49m\u001B[38;5;124;43mepochs_cv\u001B[39;49m\u001B[38;5;124;43m'\u001B[39;49m\u001B[43m]\u001B[49m\u001B[43m)\u001B[49m\n",
      "File \u001B[1;32mC:\\workspace\\segmentation\\src\\evaluate\\cross_evaluator.py:117\u001B[0m, in \u001B[0;36mSemanticCrossEvaluator.cross_test_model\u001B[1;34m(self, params, epochs_ct, epochs_cv)\u001B[0m\n\u001B[0;32m    115\u001B[0m \u001B[38;5;28;01mfor\u001B[39;00m j, param \u001B[38;5;129;01min\u001B[39;00m \u001B[38;5;28menumerate\u001B[39m(params, \u001B[38;5;241m0\u001B[39m):\n\u001B[0;32m    116\u001B[0m     \u001B[38;5;28mprint\u001B[39m(\u001B[38;5;124mf\u001B[39m\u001B[38;5;124m'\u001B[39m\u001B[38;5;124mEvaluating Param: \u001B[39m\u001B[38;5;132;01m{\u001B[39;00mj\u001B[38;5;132;01m}\u001B[39;00m\u001B[38;5;124m / \u001B[39m\u001B[38;5;132;01m{\u001B[39;00m\u001B[38;5;28mlen\u001B[39m(params) \u001B[38;5;241m-\u001B[39m \u001B[38;5;241m1\u001B[39m\u001B[38;5;132;01m}\u001B[39;00m\u001B[38;5;124m'\u001B[39m)\n\u001B[1;32m--> 117\u001B[0m     report \u001B[38;5;241m=\u001B[39m \u001B[38;5;28;43mself\u001B[39;49m\u001B[38;5;241;43m.\u001B[39;49m\u001B[43mevaluate_param\u001B[49m\u001B[43m(\u001B[49m\u001B[43mparam\u001B[49m\u001B[43m,\u001B[49m\u001B[43m \u001B[49m\u001B[43mfolds_train\u001B[49m\u001B[43m,\u001B[49m\u001B[43m \u001B[49m\u001B[43mfolds_validate\u001B[49m\u001B[43m,\u001B[49m\u001B[43m \u001B[49m\u001B[43mepochs_cv\u001B[49m\u001B[43m,\u001B[49m\u001B[43m \u001B[49m\u001B[43mtest\u001B[49m\u001B[38;5;241;43m=\u001B[39;49m\u001B[38;5;28;43;01mTrue\u001B[39;49;00m\u001B[43m)\u001B[49m\n\u001B[0;32m    118\u001B[0m     \u001B[38;5;28;01mif\u001B[39;00m \u001B[38;5;28mlen\u001B[39m(report[\u001B[38;5;124m'\u001B[39m\u001B[38;5;124mcombined_validate\u001B[39m\u001B[38;5;124m'\u001B[39m]) \u001B[38;5;241m>\u001B[39m \u001B[38;5;241m10\u001B[39m:\n\u001B[0;32m    119\u001B[0m         current_acc \u001B[38;5;241m=\u001B[39m np\u001B[38;5;241m.\u001B[39mmean(report[\u001B[38;5;124m'\u001B[39m\u001B[38;5;124mcombined_validate\u001B[39m\u001B[38;5;124m'\u001B[39m][\u001B[38;5;241m10\u001B[39m:])\n",
      "File \u001B[1;32mC:\\workspace\\segmentation\\src\\evaluate\\cross_evaluator.py:81\u001B[0m, in \u001B[0;36mSemanticCrossEvaluator.evaluate_param\u001B[1;34m(self, param, folds_train, folds_validate, epochs, test)\u001B[0m\n\u001B[0;32m     79\u001B[0m \u001B[38;5;28mprint\u001B[39m(\u001B[38;5;124mf\u001B[39m\u001B[38;5;124m'\u001B[39m\u001B[38;5;124mEvaluating Dataset: \u001B[39m\u001B[38;5;132;01m{\u001B[39;00mi\u001B[38;5;132;01m}\u001B[39;00m\u001B[38;5;124m / \u001B[39m\u001B[38;5;132;01m{\u001B[39;00m\u001B[38;5;28mlen\u001B[39m(\u001B[38;5;28mself\u001B[39m\u001B[38;5;241m.\u001B[39mdatasets_path) \u001B[38;5;241m-\u001B[39m \u001B[38;5;241m1\u001B[39m\u001B[38;5;132;01m}\u001B[39;00m\u001B[38;5;124m'\u001B[39m)\n\u001B[0;32m     80\u001B[0m \u001B[38;5;28;01mif\u001B[39;00m test:\n\u001B[1;32m---> 81\u001B[0m     train_losses, validation_losses \u001B[38;5;241m=\u001B[39m \u001B[38;5;28;43mself\u001B[39;49m\u001B[38;5;241;43m.\u001B[39;49m\u001B[43mcross_validate_param\u001B[49m\u001B[43m(\u001B[49m\u001B[43mparam\u001B[49m\u001B[43m,\u001B[49m\u001B[43m \u001B[49m\u001B[43mfolds_train\u001B[49m\u001B[43m,\u001B[49m\u001B[43m \u001B[49m\u001B[43mdataset_path\u001B[49m\u001B[43m,\u001B[49m\u001B[43m \u001B[49m\u001B[43mepochs\u001B[49m\u001B[43m)\u001B[49m\n\u001B[0;32m     82\u001B[0m \u001B[38;5;28;01melse\u001B[39;00m:\n\u001B[0;32m     83\u001B[0m     train_losses, validation_losses \u001B[38;5;241m=\u001B[39m \u001B[38;5;28mself\u001B[39m\u001B[38;5;241m.\u001B[39mtrain_validate(param,\n\u001B[0;32m     84\u001B[0m                                                           dataset_path,\n\u001B[0;32m     85\u001B[0m                                                           folds_train,\n\u001B[0;32m     86\u001B[0m                                                           folds_validate,\n\u001B[0;32m     87\u001B[0m                                                           epochs)\n",
      "File \u001B[1;32mC:\\workspace\\segmentation\\src\\evaluate\\cross_evaluator.py:59\u001B[0m, in \u001B[0;36mSemanticCrossEvaluator.cross_validate_param\u001B[1;34m(self, param, folds, dataset_path, epochs)\u001B[0m\n\u001B[0;32m     57\u001B[0m folds_train\u001B[38;5;241m.\u001B[39mremove(train_fold)\n\u001B[0;32m     58\u001B[0m folds_validate \u001B[38;5;241m=\u001B[39m [train_fold]\n\u001B[1;32m---> 59\u001B[0m train_loss, validation_loss \u001B[38;5;241m=\u001B[39m \u001B[38;5;28;43mself\u001B[39;49m\u001B[38;5;241;43m.\u001B[39;49m\u001B[43mtrain_validate\u001B[49m\u001B[43m(\u001B[49m\u001B[43mparam\u001B[49m\u001B[43m,\u001B[49m\n\u001B[0;32m     60\u001B[0m \u001B[43m                                                  \u001B[49m\u001B[43mdataset_path\u001B[49m\u001B[43m,\u001B[49m\n\u001B[0;32m     61\u001B[0m \u001B[43m                                                  \u001B[49m\u001B[43mfolds_train\u001B[49m\u001B[43m,\u001B[49m\n\u001B[0;32m     62\u001B[0m \u001B[43m                                                  \u001B[49m\u001B[43mfolds_validate\u001B[49m\u001B[43m,\u001B[49m\n\u001B[0;32m     63\u001B[0m \u001B[43m                                                  \u001B[49m\u001B[43mepochs\u001B[49m\u001B[43m)\u001B[49m\n\u001B[0;32m     64\u001B[0m train_losses \u001B[38;5;241m+\u001B[39m\u001B[38;5;241m=\u001B[39m train_loss\n\u001B[0;32m     65\u001B[0m validation_losses \u001B[38;5;241m+\u001B[39m\u001B[38;5;241m=\u001B[39m validation_loss\n",
      "File \u001B[1;32mC:\\workspace\\segmentation\\src\\evaluate\\cross_evaluator.py:43\u001B[0m, in \u001B[0;36mSemanticCrossEvaluator.train_validate\u001B[1;34m(self, param, dataset_path, folds_train, folds_validate, num_epochs)\u001B[0m\n\u001B[0;32m     28\u001B[0m ds_validate \u001B[38;5;241m=\u001B[39m SemanticDataset(dataset_path, folds_validate)\n\u001B[0;32m     30\u001B[0m trainer \u001B[38;5;241m=\u001B[39m UnetTrainer(model,\n\u001B[0;32m     31\u001B[0m                       \u001B[38;5;28mself\u001B[39m\u001B[38;5;241m.\u001B[39mdevice,\n\u001B[0;32m     32\u001B[0m                       param[\u001B[38;5;124m'\u001B[39m\u001B[38;5;124mcriterion\u001B[39m\u001B[38;5;124m'\u001B[39m],\n\u001B[1;32m   (...)\u001B[0m\n\u001B[0;32m     40\u001B[0m                       \u001B[38;5;28mid\u001B[39m\u001B[38;5;241m=\u001B[39mfolds_validate[\u001B[38;5;241m0\u001B[39m],\n\u001B[0;32m     41\u001B[0m                       num_classes\u001B[38;5;241m=\u001B[39mparam[\u001B[38;5;124m'\u001B[39m\u001B[38;5;124mout_classes\u001B[39m\u001B[38;5;124m'\u001B[39m])\n\u001B[1;32m---> 43\u001B[0m \u001B[43mtrainer\u001B[49m\u001B[38;5;241;43m.\u001B[39;49m\u001B[43mtrain\u001B[49m\u001B[43m(\u001B[49m\u001B[43mnum_epochs\u001B[49m\u001B[43m,\u001B[49m\n\u001B[0;32m     44\u001B[0m \u001B[43m              \u001B[49m\u001B[43mimg_output\u001B[49m\u001B[38;5;241;43m=\u001B[39;49m\u001B[38;5;28;43;01mTrue\u001B[39;49;00m\u001B[43m,\u001B[49m\n\u001B[0;32m     45\u001B[0m \u001B[43m              \u001B[49m\u001B[43mnum_images\u001B[49m\u001B[38;5;241;43m=\u001B[39;49m\u001B[38;5;28;43mself\u001B[39;49m\u001B[38;5;241;43m.\u001B[39;49m\u001B[43mnum_images\u001B[49m\u001B[43m,\u001B[49m\n\u001B[0;32m     46\u001B[0m \u001B[43m              \u001B[49m\u001B[43mout_folder\u001B[49m\u001B[38;5;241;43m=\u001B[39;49m\u001B[38;5;28;43mself\u001B[39;49m\u001B[38;5;241;43m.\u001B[39;49m\u001B[43mreport\u001B[49m\u001B[38;5;241;43m.\u001B[39;49m\u001B[43mout_path\u001B[49m\u001B[43m,\u001B[49m\n\u001B[0;32m     47\u001B[0m \u001B[43m              \u001B[49m\u001B[43minterval\u001B[49m\u001B[38;5;241;43m=\u001B[39;49m\u001B[38;5;28;43mself\u001B[39;49m\u001B[38;5;241;43m.\u001B[39;49m\u001B[43minterval_img_out\u001B[49m\u001B[43m)\u001B[49m\n\u001B[0;32m     48\u001B[0m train_loss, validation_loss \u001B[38;5;241m=\u001B[39m trainer\u001B[38;5;241m.\u001B[39mget_losses()\n\u001B[0;32m     49\u001B[0m \u001B[38;5;28;01mreturn\u001B[39;00m train_loss, validation_loss\n",
      "File \u001B[1;32mC:\\workspace\\segmentation\\src\\train\\unet_trainer.py:54\u001B[0m, in \u001B[0;36mUnetTrainer.train\u001B[1;34m(self, epochs, img_output, num_images, out_folder, interval)\u001B[0m\n\u001B[0;32m     52\u001B[0m \u001B[38;5;28;01mif\u001B[39;00m \u001B[38;5;129;01mnot\u001B[39;00m img_output \u001B[38;5;129;01mor\u001B[39;00m i \u001B[38;5;241m==\u001B[39m \u001B[38;5;241m0\u001B[39m \u001B[38;5;129;01mor\u001B[39;00m ((i \u001B[38;5;241m%\u001B[39m interval \u001B[38;5;241m!=\u001B[39m \u001B[38;5;241m0\u001B[39m) \u001B[38;5;129;01mand\u001B[39;00m i \u001B[38;5;241m!=\u001B[39m epochs \u001B[38;5;241m-\u001B[39m \u001B[38;5;241m1\u001B[39m):\n\u001B[0;32m     53\u001B[0m     \u001B[38;5;28mself\u001B[39m\u001B[38;5;241m.\u001B[39mtrain_epoch()\n\u001B[1;32m---> 54\u001B[0m     \u001B[38;5;28;43mself\u001B[39;49m\u001B[38;5;241;43m.\u001B[39;49m\u001B[43mtest\u001B[49m\u001B[43m(\u001B[49m\u001B[43m)\u001B[49m\n\u001B[0;32m     55\u001B[0m \u001B[38;5;28;01melse\u001B[39;00m:\n\u001B[0;32m     56\u001B[0m     \u001B[38;5;28mself\u001B[39m\u001B[38;5;241m.\u001B[39mtrain_epoch(num_images\u001B[38;5;241m=\u001B[39mnum_images, out_folder\u001B[38;5;241m=\u001B[39mout_folder)\n",
      "File \u001B[1;32mC:\\workspace\\segmentation\\src\\train\\unet_trainer.py:122\u001B[0m, in \u001B[0;36mUnetTrainer.test\u001B[1;34m(self, num_images, out_folder)\u001B[0m\n\u001B[0;32m    119\u001B[0m x_predicted \u001B[38;5;241m=\u001B[39m \u001B[38;5;28mself\u001B[39m\u001B[38;5;241m.\u001B[39mbinarizer\u001B[38;5;241m.\u001B[39mforward(x_predicted)\n\u001B[0;32m    121\u001B[0m name \u001B[38;5;241m=\u001B[39m \u001B[38;5;28mstr\u001B[39m(\u001B[38;5;28mself\u001B[39m\u001B[38;5;241m.\u001B[39mid) \u001B[38;5;241m+\u001B[39m \u001B[38;5;124m'\u001B[39m\u001B[38;5;124m_\u001B[39m\u001B[38;5;124m'\u001B[39m \u001B[38;5;241m+\u001B[39m \u001B[38;5;28mstr\u001B[39m(\u001B[38;5;28mself\u001B[39m\u001B[38;5;241m.\u001B[39mepochs) \u001B[38;5;241m+\u001B[39m \u001B[38;5;124m'\u001B[39m\u001B[38;5;124m_\u001B[39m\u001B[38;5;124m'\u001B[39m \u001B[38;5;241m+\u001B[39m \u001B[38;5;28mstr\u001B[39m(counter) \u001B[38;5;241m+\u001B[39m \u001B[38;5;124m'\u001B[39m\u001B[38;5;124m_ts_\u001B[39m\u001B[38;5;124m'\u001B[39m\n\u001B[1;32m--> 122\u001B[0m \u001B[43msave_tensor_to_colormap\u001B[49m\u001B[43m(\u001B[49m\u001B[43mimg\u001B[49m\u001B[38;5;241;43m.\u001B[39;49m\u001B[43mcpu\u001B[49m\u001B[43m(\u001B[49m\u001B[43m)\u001B[49m\u001B[38;5;241;43m.\u001B[39;49m\u001B[43mdetach\u001B[49m\u001B[43m(\u001B[49m\u001B[43m)\u001B[49m\u001B[38;5;241;43m.\u001B[39;49m\u001B[43mnumpy\u001B[49m\u001B[43m(\u001B[49m\u001B[43m)\u001B[49m\u001B[43m[\u001B[49m\u001B[38;5;241;43m0\u001B[39;49m\u001B[43m]\u001B[49m\u001B[43m[\u001B[49m\u001B[38;5;241;43m0\u001B[39;49m\u001B[43m]\u001B[49m\u001B[43m,\u001B[49m\u001B[43m \u001B[49m\u001B[43mout_folder\u001B[49m\u001B[43m,\u001B[49m\u001B[43m \u001B[49m\u001B[43mname\u001B[49m\u001B[43m \u001B[49m\u001B[38;5;241;43m+\u001B[39;49m\u001B[43m \u001B[49m\u001B[38;5;124;43m'\u001B[39;49m\u001B[38;5;124;43mimg.png\u001B[39;49m\u001B[38;5;124;43m'\u001B[39;49m\u001B[43m)\u001B[49m\n\u001B[0;32m    123\u001B[0m save_tensor_to_colormap(target\u001B[38;5;241m.\u001B[39mcpu()\u001B[38;5;241m.\u001B[39mdetach()\u001B[38;5;241m.\u001B[39mnumpy()[\u001B[38;5;241m0\u001B[39m], out_folder, name \u001B[38;5;241m+\u001B[39m \u001B[38;5;124m'\u001B[39m\u001B[38;5;124mtar.png\u001B[39m\u001B[38;5;124m'\u001B[39m)\n\u001B[0;32m    124\u001B[0m save_tensor_to_colormap(x_predicted\u001B[38;5;241m.\u001B[39mcpu()\u001B[38;5;241m.\u001B[39mdetach()\u001B[38;5;241m.\u001B[39mnumpy()[\u001B[38;5;241m0\u001B[39m][\u001B[38;5;241m1\u001B[39m], out_folder, name \u001B[38;5;241m+\u001B[39m \u001B[38;5;124m'\u001B[39m\u001B[38;5;124mpre.png\u001B[39m\u001B[38;5;124m'\u001B[39m)\n",
      "File \u001B[1;32mC:\\workspace\\segmentation\\src\\utils\\image.py:18\u001B[0m, in \u001B[0;36msave_tensor_to_colormap\u001B[1;34m(tensor, out_path, name)\u001B[0m\n\u001B[0;32m     16\u001B[0m img \u001B[38;5;241m=\u001B[39m img\u001B[38;5;241m.\u001B[39mastype(np\u001B[38;5;241m.\u001B[39muint8)\n\u001B[0;32m     17\u001B[0m pil_image \u001B[38;5;241m=\u001B[39m Image\u001B[38;5;241m.\u001B[39mfromarray(img\u001B[38;5;241m.\u001B[39mastype(np\u001B[38;5;241m.\u001B[39muint8))\n\u001B[1;32m---> 18\u001B[0m pil_image\u001B[38;5;241m.\u001B[39msave(\u001B[43mos\u001B[49m\u001B[38;5;241;43m.\u001B[39;49m\u001B[43mpath\u001B[49m\u001B[38;5;241;43m.\u001B[39;49m\u001B[43mjoin\u001B[49m\u001B[43m(\u001B[49m\u001B[43mout_path\u001B[49m\u001B[43m,\u001B[49m\u001B[43m \u001B[49m\u001B[43mname\u001B[49m\u001B[43m)\u001B[49m)\n\u001B[0;32m     19\u001B[0m \u001B[38;5;28;01mreturn\u001B[39;00m pil_image\n",
      "File \u001B[1;32m~\\anaconda3\\envs\\TorchEnv\\lib\\ntpath.py:78\u001B[0m, in \u001B[0;36mjoin\u001B[1;34m(path, *paths)\u001B[0m\n\u001B[0;32m     77\u001B[0m \u001B[38;5;28;01mdef\u001B[39;00m \u001B[38;5;21mjoin\u001B[39m(path, \u001B[38;5;241m*\u001B[39mpaths):\n\u001B[1;32m---> 78\u001B[0m     path \u001B[38;5;241m=\u001B[39m \u001B[43mos\u001B[49m\u001B[38;5;241;43m.\u001B[39;49m\u001B[43mfspath\u001B[49m\u001B[43m(\u001B[49m\u001B[43mpath\u001B[49m\u001B[43m)\u001B[49m\n\u001B[0;32m     79\u001B[0m     \u001B[38;5;28;01mif\u001B[39;00m \u001B[38;5;28misinstance\u001B[39m(path, \u001B[38;5;28mbytes\u001B[39m):\n\u001B[0;32m     80\u001B[0m         sep \u001B[38;5;241m=\u001B[39m \u001B[38;5;124mb\u001B[39m\u001B[38;5;124m'\u001B[39m\u001B[38;5;130;01m\\\\\u001B[39;00m\u001B[38;5;124m'\u001B[39m\n",
      "\u001B[1;31mTypeError\u001B[0m: expected str, bytes or os.PathLike object, not NoneType"
     ]
    }
   ],
   "source": [
    "cte = SemanticCrossEvaluator(unet, cv_param)\n",
    "report = cte.cross_test_model(params, cv_param['epochs_ct'], cv_param['epochs_cv'])"
   ],
   "metadata": {
    "collapsed": false,
    "pycharm": {
     "name": "#%%\n"
    }
   }
  },
  {
   "cell_type": "code",
   "execution_count": null,
   "outputs": [],
   "source": [],
   "metadata": {
    "collapsed": false,
    "pycharm": {
     "name": "#%%\n"
    }
   }
  }
 ],
 "metadata": {
  "kernelspec": {
   "display_name": "Python 3",
   "language": "python",
   "name": "python3"
  },
  "language_info": {
   "codemirror_mode": {
    "name": "ipython",
    "version": 2
   },
   "file_extension": ".py",
   "mimetype": "text/x-python",
   "name": "python",
   "nbconvert_exporter": "python",
   "pygments_lexer": "ipython2",
   "version": "2.7.6"
  }
 },
 "nbformat": 4,
 "nbformat_minor": 0
}