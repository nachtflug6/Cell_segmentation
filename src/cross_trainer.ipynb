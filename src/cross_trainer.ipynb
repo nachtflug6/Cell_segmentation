{
 "cells": [
  {
   "cell_type": "code",
   "execution_count": 1,
   "outputs": [
    {
     "name": "stderr",
     "output_type": "stream",
     "text": [
      "C:\\Users\\silva\\anaconda3\\envs\\TorchEnv\\lib\\site-packages\\tqdm\\auto.py:22: TqdmWarning: IProgress not found. Please update jupyter and ipywidgets. See https://ipywidgets.readthedocs.io/en/stable/user_install.html\n",
      "  from .autonotebook import tqdm as notebook_tqdm\n"
     ]
    },
    {
     "ename": "ModuleNotFoundError",
     "evalue": "No module named 'blocks'",
     "output_type": "error",
     "traceback": [
      "\u001B[1;31m---------------------------------------------------------------------------\u001B[0m",
      "\u001B[1;31mModuleNotFoundError\u001B[0m                       Traceback (most recent call last)",
      "Input \u001B[1;32mIn [1]\u001B[0m, in \u001B[0;36m<module>\u001B[1;34m\u001B[0m\n\u001B[0;32m      6\u001B[0m \u001B[38;5;28;01mimport\u001B[39;00m \u001B[38;5;21;01mpandas\u001B[39;00m \u001B[38;5;28;01mas\u001B[39;00m \u001B[38;5;21;01mpd\u001B[39;00m\n\u001B[0;32m      8\u001B[0m \u001B[38;5;28;01mfrom\u001B[39;00m \u001B[38;5;21;01mtrain\u001B[39;00m\u001B[38;5;21;01m.\u001B[39;00m\u001B[38;5;21;01mmulti_hyperparameter\u001B[39;00m \u001B[38;5;28;01mimport\u001B[39;00m MultiHyperparameter\n\u001B[1;32m----> 9\u001B[0m \u001B[38;5;28;01mfrom\u001B[39;00m \u001B[38;5;21;01mcustom_models\u001B[39;00m\u001B[38;5;21;01m.\u001B[39;00m\u001B[38;5;21;01munet_original\u001B[39;00m \u001B[38;5;28;01mimport\u001B[39;00m UNet, UNet2\n\u001B[0;32m     10\u001B[0m \u001B[38;5;28;01mfrom\u001B[39;00m \u001B[38;5;21;01mtrain\u001B[39;00m\u001B[38;5;21;01m.\u001B[39;00m\u001B[38;5;21;01munet_trainer\u001B[39;00m \u001B[38;5;28;01mimport\u001B[39;00m UnetTrainer\n\u001B[0;32m     11\u001B[0m \u001B[38;5;28;01mfrom\u001B[39;00m \u001B[38;5;21;01mdatasets\u001B[39;00m\u001B[38;5;21;01m.\u001B[39;00m\u001B[38;5;21;01msemantic_dataset\u001B[39;00m \u001B[38;5;28;01mimport\u001B[39;00m SemanticDataset\n",
      "File \u001B[1;32mC:\\workspace\\segmentation\\src\\custom_models\\unet_original.py:8\u001B[0m, in \u001B[0;36m<module>\u001B[1;34m\u001B[0m\n\u001B[0;32m      6\u001B[0m \u001B[38;5;28;01mimport\u001B[39;00m \u001B[38;5;21;01mtorch\u001B[39;00m \u001B[38;5;28;01mas\u001B[39;00m \u001B[38;5;21;01mth\u001B[39;00m\n\u001B[0;32m      7\u001B[0m \u001B[38;5;28;01mimport\u001B[39;00m \u001B[38;5;21;01mtorch\u001B[39;00m\u001B[38;5;21;01m.\u001B[39;00m\u001B[38;5;21;01mnn\u001B[39;00m \u001B[38;5;28;01mas\u001B[39;00m \u001B[38;5;21;01mnn\u001B[39;00m\n\u001B[1;32m----> 8\u001B[0m \u001B[38;5;28;01mfrom\u001B[39;00m \u001B[38;5;21;01mblocks\u001B[39;00m\u001B[38;5;21;01m.\u001B[39;00m\u001B[38;5;21;01munet_blocks\u001B[39;00m \u001B[38;5;28;01mimport\u001B[39;00m \u001B[38;5;241m*\u001B[39m\n\u001B[0;32m     11\u001B[0m \u001B[38;5;28;01mclass\u001B[39;00m \u001B[38;5;21;01mUNet\u001B[39;00m(nn\u001B[38;5;241m.\u001B[39mModule):\n\u001B[0;32m     12\u001B[0m     \u001B[38;5;28;01mdef\u001B[39;00m \u001B[38;5;21m__init__\u001B[39m(\u001B[38;5;28mself\u001B[39m, params):\n",
      "\u001B[1;31mModuleNotFoundError\u001B[0m: No module named 'blocks'"
     ]
    }
   ],
   "source": [
    "import numpy as np\n",
    "import torch as th\n",
    "import torch.nn as nn\n",
    "import os\n",
    "import json\n",
    "import pandas as pd\n",
    "\n",
    "from train.multi_hyperparameter import MultiHyperparameter\n",
    "from custom_models.unet_original import UNet, UNet2\n",
    "from train.unet_trainer import UnetTrainer\n",
    "from datasets.semantic_dataset import SemanticDataset"
   ],
   "metadata": {
    "collapsed": false,
    "pycharm": {
     "name": "#%%\n"
    }
   }
  },
  {
   "cell_type": "code",
   "execution_count": 3,
   "outputs": [
    {
     "name": "stdout",
     "output_type": "stream",
     "text": [
      "{'padding_mode': 'zeros', 'out_classes': 2, 'criterion': CrossEntropyLoss(), 'optimizer': 1}\n",
      "   ds_0_train  ds_0_validate  ds_1_train  ds_1_validate  combined_train  \\\n",
      "0    0.396079       0.304049     0.39983       0.293947        0.397955   \n",
      "\n",
      "   combined_validate  \n",
      "0           0.298998  \n"
     ]
    }
   ],
   "source": [
    "params = {'padding_mode': ['zeros', 'reflect', 'replicate', 'circular'],\n",
    "          'depth': 5,\n",
    "          'start_layers': 64,\n",
    "          'dim_multiplier': 2,\n",
    "          'input_conv_kernel_size': 3,\n",
    "          'out_classes': 2,\n",
    "          'criterion': nn.CrossEntropyLoss(),\n",
    "          'optimizer': 1}\n",
    "\n",
    "param = {'padding_mode': 'zeros',\n",
    "          'depth': 5,\n",
    "          'start_layers': 64,\n",
    "          'dim_multiplier': 2,\n",
    "          'input_conv_kernel_size': 3,\n",
    "          'out_classes': 2,\n",
    "          'criterion': nn.CrossEntropyLoss(),\n",
    "          'optimizer': 1}\n",
    "\n",
    "unet_hyps = MultiHyperparameter(params)\n",
    "unet = UNet2.__new__(UNet2)\n",
    "\n",
    "models_to_evaluate = [(unet, unet_hyps)]\n",
    "\n",
    "num_epochs = 1\n",
    "models = []\n",
    "trainers = []\n",
    "folds = [0, 1, 2, 3]\n",
    "device = th.device(\"cuda\" if th.cuda.is_available() else \"cpu\")\n",
    "cwd = os.getcwd()\n",
    "ds1_path = os.path.join(cwd, '../data/cell_type_1')\n",
    "ds2_path = os.path.join(cwd, '../data/cell_type_2')\n",
    "result_path = os.path.join(cwd, '../results')\n",
    "\n",
    "class CrossTrainEvaluator:\n",
    "    def __init__(self, model, datasets_path, results_path):\n",
    "        self.model = model\n",
    "        self.datasets_path = datasets_path\n",
    "        #self.params_to_test = params_to_test\n",
    "        self.results_path = results_path\n",
    "        self.folds = [0, 1, 2, 3]\n",
    "        self.evaluated = []\n",
    "\n",
    "    def evaluate_param(self, param, folds, epochs, test=False):\n",
    "        print(param)\n",
    "        current_model = self.model\n",
    "        report = pd.DataFrame()\n",
    "\n",
    "        comb_train_losses = np.zeros(num_epochs)\n",
    "        comb_validation_losses = np.zeros(num_epochs)\n",
    "\n",
    "        for i, dataset_path in enumerate(self.datasets_path, 0):\n",
    "            train_losses = np.zeros(num_epochs)\n",
    "            validation_losses = np.zeros(num_epochs)\n",
    "            for train_fold in folds:\n",
    "                folds_train = folds.copy()\n",
    "                folds_train.remove(train_fold)\n",
    "                folds_validate = [train_fold]\n",
    "                current_model.__init__(param)\n",
    "                ds_train = SemanticDataset(dataset_path, folds_train)\n",
    "                ds_validate = SemanticDataset(dataset_path, folds_validate)\n",
    "                trainer = UnetTrainer(current_model, device, param['criterion'],\n",
    "                                      th.optim.Adam(current_model.parameters(), lr=1e-4, weight_decay=1e-5), ds_train, ds_validate)\n",
    "                trainer.train(epochs, test=True)\n",
    "                train_loss, validation_loss = trainer.get_losses()\n",
    "                train_losses += train_loss\n",
    "                validation_losses += validation_loss\n",
    "\n",
    "            train_losses /= len(folds)\n",
    "            validation_losses /= len(folds)\n",
    "            comb_train_losses += train_losses\n",
    "            comb_validation_losses += validation_losses\n",
    "\n",
    "            key = 'ds_' + str(i)\n",
    "            report[key + '_train'] = train_losses\n",
    "            report[key + '_validate'] = validation_losses\n",
    "\n",
    "        comb_train_losses /= 2\n",
    "        comb_validation_losses /= 2\n",
    "        report['combined_train'] = comb_train_losses\n",
    "        report['combined_validate'] = comb_validation_losses\n",
    "\n",
    "        #report.to_csv(self.results_path + '/test.csv', index=False)\n",
    "        th.save({'model': self.model, 'params': params, 'report': report}, self.results_path + '/test.pt')\n",
    "\n",
    "        return report\n",
    "\n",
    "cte = CrossTrainEvaluator(unet, [ds1_path, ds2_path], result_path)\n",
    "report = cte.evaluate_param(param, [0, 1, 2, 3], 1)\n",
    "print(report)\n",
    "# (self, model, datasets_path, params_to_test: MultiHyperparameter, results_path, epochs):\n",
    "# (self, param, model, folds, epochs):"
   ],
   "metadata": {
    "collapsed": false,
    "pycharm": {
     "name": "#%%\n"
    }
   }
  },
  {
   "cell_type": "code",
   "execution_count": 6,
   "outputs": [
    {
     "name": "stdout",
     "output_type": "stream",
     "text": [
      "CrossEntropyLoss()\n"
     ]
    }
   ],
   "source": [
    "file = th.load(os.path.join(cwd, '../results/test.pt'))\n",
    "print(file[0]['criterion'])"
   ],
   "metadata": {
    "collapsed": false,
    "pycharm": {
     "name": "#%%\n"
    }
   }
  },
  {
   "cell_type": "code",
   "execution_count": 19,
   "outputs": [],
   "source": [
    "    def cross_validate(self, epochs, mode='grid', num_params=0):\n",
    "        # assert (mode == 'random' and num_params > 0) or mode == 'grid'\n",
    "        # if mode == 'grid':\n",
    "        #     params_to_evaluate = self.params_to_test.get_full_grid_params()\n",
    "        # else:\n",
    "        #     params_to_evaluate = self.params_to_test.get_random_params(num_params)\n",
    "        #\n",
    "        # for fold in self.folds:\n",
    "        #     folds_ds_train = folds.copy()\n",
    "        #     folds_ds_train.remove(fold)\n",
    "        #     folds_ds_test = [fold]\n",
    "        #\n",
    "        #     for param in params_to_evaluate:\n",
    "        #         print(param)\n",
    "        #         report = {'param': param}\n",
    "        #\n",
    "        #         comb_train_losses = np.zeros(num_epochs)\n",
    "        #         comb_validation_losses = np.zeros(num_epochs)\n",
    "        #\n",
    "        #         for i, dataset_path in enumerate(self.datasets_path, 0):\n",
    "        #             folds_train = folds_ds_train.copy()\n",
    "        #             folds_train.remove(train_fold)\n",
    "        #             folds_validate = [train_fold]\n",
    "        #             train_losses = np.zeros(num_epochs)\n",
    "        #             validation_losses = np.zeros(num_epochs)\n",
    "        #             for train_fold in folds_ds_train:\n",
    "        #                 model.__init__(param)\n",
    "        #                 ds_train = SemanticDataset(dataset_path, folds_train)\n",
    "        #                 ds_validate = SemanticDataset(dataset_path, folds_validate)\n",
    "        #                 trainer = UnetTrainer(model, device, param['criterion'],\n",
    "        #                                       th.optim.Adam(model.parameters(), lr=1e-4, weight_decay=1e-5), ds_train, ds_validate)\n",
    "        #                 trainer.train(self.num_epochs, test=True)\n",
    "        #                 train_loss, validation_loss = trainer.get_losses()\n",
    "        #                 train_losses += train_loss\n",
    "        #                 validation_losses += validation_loss\n",
    "        #\n",
    "        #             train_losses /= len(folds_ds_train)\n",
    "        #             validation_losses /= len(folds_ds_train)\n",
    "        #             comb_train_losses += train_losses\n",
    "        #             comb_validation_losses += validation_losses\n",
    "        #\n",
    "        #             key = 'ds_' + str(i)\n",
    "        #             report[key] = {'train': train_losses, 'validate': validation_losses}\n",
    "        #\n",
    "        #         comb_train_losses /= 2\n",
    "        #         comb_validation_losses /= 2\n",
    "        #         report['combined'] = {'train': train_losses, 'validate': validation_losses}\n",
    "        #\n",
    "        #     model.__init__(param)\n",
    "        #     ds_train = SemanticDataset(dataset_path, folds_train)\n",
    "        #     ds_validate = SemanticDataset(dataset_path, folds_validate)\n",
    "        #     trainer = UnetTrainer(model, device, param['criterion'],\n",
    "        #                           th.optim.Adam(model.parameters(), lr=1e-4, weight_decay=1e-5), ds_train, ds_validate)\n",
    "        #     trainer.train(self.num_epochs, test=True)\n",
    "        #     train_loss, validation_loss = trainer.get_losses()\n",
    "        #     train_losses += train_loss\n",
    "        #     validation_losses += validation_loss"
   ],
   "metadata": {
    "collapsed": false,
    "pycharm": {
     "name": "#%%\n"
    }
   }
  },
  {
   "cell_type": "code",
   "execution_count": 3,
   "outputs": [],
   "source": [],
   "metadata": {
    "collapsed": false,
    "pycharm": {
     "name": "#%%\n"
    }
   }
  }
 ],
 "metadata": {
  "kernelspec": {
   "display_name": "Python 3",
   "language": "python",
   "name": "python3"
  },
  "language_info": {
   "codemirror_mode": {
    "name": "ipython",
    "version": 2
   },
   "file_extension": ".py",
   "mimetype": "text/x-python",
   "name": "python",
   "nbconvert_exporter": "python",
   "pygments_lexer": "ipython2",
   "version": "2.7.6"
  }
 },
 "nbformat": 4,
 "nbformat_minor": 0
}