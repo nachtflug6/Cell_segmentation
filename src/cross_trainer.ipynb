{
 "cells": [
  {
   "cell_type": "code",
   "execution_count": 1,
   "outputs": [
    {
     "name": "stderr",
     "output_type": "stream",
     "text": [
      "/home/mtn/.local/lib/python3.10/site-packages/tqdm/auto.py:22: TqdmWarning: IProgress not found. Please update jupyter and ipywidgets. See https://ipywidgets.readthedocs.io/en/stable/user_install.html\n",
      "  from .autonotebook import tqdm as notebook_tqdm\n"
     ]
    }
   ],
   "source": [
    "import numpy as np\n",
    "import torch as th\n",
    "import torch.nn as nn\n",
    "import os\n",
    "import json\n",
    "import pandas as pd\n",
    "import torchvision.transforms as T\n",
    "\n",
    "from train.multi_hyperparameter import MultiHyperparameter\n",
    "from custom_models.unet_original import UNet, UNetSmall, UNetLarge\n",
    "from evaluate.cross_evaluator import SemanticCrossEvaluator\n",
    "from train.unet_trainer import UnetTrainer\n",
    "from datasets.semantic_dataset import SemanticDataset\n",
    "from preprocessing.data_augment import DataAugmenter"
   ],
   "metadata": {
    "collapsed": false,
    "pycharm": {
     "name": "#%%\n"
    }
   }
  },
  {
   "cell_type": "code",
   "execution_count": 2,
   "outputs": [
    {
     "name": "stdout",
     "output_type": "stream",
     "text": [
      "3\n"
     ]
    }
   ],
   "source": [
    "cwd = os.getcwd()\n",
    "ds1_path = os.path.join(cwd, '../data/cell_type_1')\n",
    "ds2_path = os.path.join(cwd, '../data/cell_type_2')\n",
    "\n",
    "cv_param = {'interval_img_out': 1,\n",
    "            'num_images': 3,\n",
    "            'device': th.device(\"cuda\" if th.cuda.is_available() else \"cpu\"),\n",
    "            'datasets_path': [ds1_path, ds2_path],\n",
    "            'results_path': os.path.join(cwd, '../results'),\n",
    "            'folds': [0, 1, 2, 3],\n",
    "            'epochs_cv': 7,\n",
    "            'epochs_ct': 1,\n",
    "            'num_random_params': 3}\n",
    "\n",
    "param = {'id': 0,\n",
    "         'padding_mode': 'reflect',\n",
    "         'out_classes': 2,\n",
    "         'criterion': nn.CrossEntropyLoss(),\n",
    "         'optimizer': MultiHyperparameter({'type': [\n",
    "             # 'sgd',\n",
    "             #'adam',\n",
    "              'rmsprop',\n",
    "             # 'asgd'\n",
    "         ],\n",
    "             'lr_factor': [\n",
    "                 # 10,\n",
    "                 # 4,\n",
    "                 # 2,\n",
    "                 1,\n",
    "                 # 0.5,\n",
    "                 # 0.25,\n",
    "                 # 0.1\n",
    "             ],\n",
    "             'weight_decay': [\n",
    "                 0,\n",
    "                 1e-3,\n",
    "                 1e-5\n",
    "             ]\n",
    "         }).get_full_grid_params(),\n",
    "         'augment_transform': [{'rotate': False, 'mirror': False, 'translate': False, 'pad': 0},\n",
    "                               #{'rotate': True, 'mirror': True, 'translate': False, 'pad': 0},\n",
    "                               #{'rotate': True, 'mirror': True, 'translate': True, 'pad': 16},\n",
    "                               #{'rotate': True, 'mirror': True, 'translate': True, 'pad': 8}\n",
    "                               ],\n",
    "         'num_augments': 100,\n",
    "         'binarizer_lr': 0.1,\n",
    "         'batch_size': 2}\n",
    "\n",
    "unet_hyps = MultiHyperparameter(param)\n",
    "params = unet_hyps.get_full_grid_params(indexed=True)\n",
    "print(len(params))\n",
    "unet = UNet.__new__(UNet)"
   ],
   "metadata": {
    "collapsed": false,
    "pycharm": {
     "name": "#%%\n"
    }
   }
  },
  {
   "cell_type": "code",
   "execution_count": 3,
   "outputs": [
    {
     "name": "stdout",
     "output_type": "stream",
     "text": [
      "{'id': 0, 'padding_mode': 'reflect', 'out_classes': 2, 'criterion': CrossEntropyLoss(), 'optimizer': {'type': 'rmsprop', 'lr_factor': 1, 'weight_decay': 0}, 'augment_transform': {'rotate': False, 'mirror': False, 'translate': False, 'pad': 0}, 'num_augments': 100, 'binarizer_lr': 0.1, 'batch_size': 2}\n",
      "Testing Fold: 0 / 3\n",
      "Evaluating Param: 0 / 0\n",
      "Evaluating Dataset: 0 / 1\n",
      "Cross validate: 0 / 2\n",
      "{'id': 0, 'padding_mode': 'reflect', 'out_classes': 2, 'criterion': CrossEntropyLoss(), 'optimizer': {'type': 'rmsprop', 'lr_factor': 1, 'weight_decay': 0}, 'augment_transform': {'rotate': False, 'mirror': False, 'translate': False, 'pad': 0}, 'num_augments': 100, 'binarizer_lr': 0.1, 'batch_size': 2}\n",
      "[2, 3] [1]\n"
     ]
    },
    {
     "name": "stderr",
     "output_type": "stream",
     "text": [
      "Training:  14%|████▎                         | 1/7 [00:17<01:46, 17.78s/it]"
     ]
    },
    {
     "name": "stdout",
     "output_type": "stream",
     "text": [
      "Loss: 0.5915964722633362 Acc: 0.22577735781669617\n"
     ]
    },
    {
     "name": "stderr",
     "output_type": "stream",
     "text": [
      "Training:  29%|████████▌                     | 2/7 [00:35<01:29, 17.82s/it]"
     ]
    },
    {
     "name": "stdout",
     "output_type": "stream",
     "text": [
      "Loss: 0.4663645422458649 Acc: 0.4347752332687378\n"
     ]
    },
    {
     "name": "stderr",
     "output_type": "stream",
     "text": [
      "Training:  43%|████████████▊                 | 3/7 [00:53<01:11, 17.87s/it]"
     ]
    },
    {
     "name": "stdout",
     "output_type": "stream",
     "text": [
      "Loss: 0.392926961183548 Acc: 0.3899022936820984\n"
     ]
    },
    {
     "name": "stderr",
     "output_type": "stream",
     "text": [
      "Training:  57%|█████████████████▏            | 4/7 [01:11<00:53, 17.93s/it]"
     ]
    },
    {
     "name": "stdout",
     "output_type": "stream",
     "text": [
      "Loss: 0.3563102614879608 Acc: 0.4469853937625885\n"
     ]
    },
    {
     "name": "stderr",
     "output_type": "stream",
     "text": [
      "Training:  71%|█████████████████████▍        | 5/7 [01:29<00:35, 17.95s/it]"
     ]
    },
    {
     "name": "stdout",
     "output_type": "stream",
     "text": [
      "Loss: 0.34078985571861264 Acc: 0.41896742582321167\n"
     ]
    },
    {
     "name": "stderr",
     "output_type": "stream",
     "text": [
      "Training:  86%|█████████████████████████▋    | 6/7 [01:47<00:17, 17.97s/it]"
     ]
    },
    {
     "name": "stdout",
     "output_type": "stream",
     "text": [
      "Loss: 0.33003078639507294 Acc: 0.4987831115722656\n"
     ]
    },
    {
     "name": "stderr",
     "output_type": "stream",
     "text": [
      "Training: 100%|██████████████████████████████| 7/7 [02:05<00:00, 17.94s/it]\n"
     ]
    },
    {
     "name": "stdout",
     "output_type": "stream",
     "text": [
      "Loss: 0.32517119467258454 Acc: 0.4778904914855957\n",
      "Cross validate: 1 / 2\n",
      "{'id': 0, 'padding_mode': 'reflect', 'out_classes': 2, 'criterion': CrossEntropyLoss(), 'optimizer': {'type': 'rmsprop', 'lr_factor': 1, 'weight_decay': 0}, 'augment_transform': {'rotate': False, 'mirror': False, 'translate': False, 'pad': 0}, 'num_augments': 100, 'binarizer_lr': 0.1, 'batch_size': 2}\n",
      "[1, 3] [2]\n"
     ]
    },
    {
     "name": "stderr",
     "output_type": "stream",
     "text": [
      "Training:  14%|████▎                         | 1/7 [00:17<01:47, 17.98s/it]"
     ]
    },
    {
     "name": "stdout",
     "output_type": "stream",
     "text": [
      "Loss: 0.5521011489629746 Acc: 0.020796170458197594\n"
     ]
    },
    {
     "name": "stderr",
     "output_type": "stream",
     "text": [
      "Training:  29%|████████▌                     | 2/7 [00:35<01:29, 17.99s/it]"
     ]
    },
    {
     "name": "stdout",
     "output_type": "stream",
     "text": [
      "Loss: 0.4138087296485901 Acc: 0.020796192809939384\n"
     ]
    },
    {
     "name": "stderr",
     "output_type": "stream",
     "text": [
      "Training:  43%|████████████▊                 | 3/7 [00:53<01:11, 17.99s/it]"
     ]
    },
    {
     "name": "stdout",
     "output_type": "stream",
     "text": [
      "Loss: 0.37209497213363646 Acc: 0.07888387143611908\n"
     ]
    },
    {
     "name": "stderr",
     "output_type": "stream",
     "text": [
      "Training:  57%|█████████████████▏            | 4/7 [01:11<00:54, 18.00s/it]"
     ]
    },
    {
     "name": "stdout",
     "output_type": "stream",
     "text": [
      "Loss: 0.3470654308795929 Acc: 0.5493043065071106\n"
     ]
    },
    {
     "name": "stderr",
     "output_type": "stream",
     "text": [
      "Training:  71%|█████████████████████▍        | 5/7 [01:30<00:36, 18.02s/it]"
     ]
    },
    {
     "name": "stdout",
     "output_type": "stream",
     "text": [
      "Loss: 0.33456147968769073 Acc: 0.6571475863456726\n"
     ]
    },
    {
     "name": "stderr",
     "output_type": "stream",
     "text": [
      "Training:  86%|█████████████████████████▋    | 6/7 [01:48<00:18, 18.01s/it]"
     ]
    },
    {
     "name": "stdout",
     "output_type": "stream",
     "text": [
      "Loss: 0.3289401626586914 Acc: 0.5851095914840698\n"
     ]
    },
    {
     "name": "stderr",
     "output_type": "stream",
     "text": [
      "Training: 100%|██████████████████████████████| 7/7 [02:06<00:00, 18.01s/it]\n"
     ]
    },
    {
     "name": "stdout",
     "output_type": "stream",
     "text": [
      "Loss: 0.3258860331773758 Acc: 0.6295795440673828\n",
      "Cross validate: 2 / 2\n",
      "{'id': 0, 'padding_mode': 'reflect', 'out_classes': 2, 'criterion': CrossEntropyLoss(), 'optimizer': {'type': 'rmsprop', 'lr_factor': 1, 'weight_decay': 0}, 'augment_transform': {'rotate': False, 'mirror': False, 'translate': False, 'pad': 0}, 'num_augments': 100, 'binarizer_lr': 0.1, 'batch_size': 2}\n",
      "[1, 2] [3]\n"
     ]
    },
    {
     "name": "stderr",
     "output_type": "stream",
     "text": [
      "Training:  14%|████▎                         | 1/7 [00:18<01:48, 18.05s/it]"
     ]
    },
    {
     "name": "stdout",
     "output_type": "stream",
     "text": [
      "Loss: 0.6200078701972962 Acc: 0.015730641782283783\n"
     ]
    },
    {
     "name": "stderr",
     "output_type": "stream",
     "text": [
      "Training:  29%|████████▌                     | 2/7 [00:36<01:30, 18.04s/it]"
     ]
    },
    {
     "name": "stdout",
     "output_type": "stream",
     "text": [
      "Loss: 0.47911904513835907 Acc: 0.20333155989646912\n"
     ]
    },
    {
     "name": "stderr",
     "output_type": "stream",
     "text": [
      "Training:  43%|████████████▊                 | 3/7 [00:54<01:12, 18.03s/it]"
     ]
    },
    {
     "name": "stdout",
     "output_type": "stream",
     "text": [
      "Loss: 0.39777602672576906 Acc: 0.32228341698646545\n"
     ]
    },
    {
     "name": "stderr",
     "output_type": "stream",
     "text": [
      "Training:  43%|████████████▊                 | 3/7 [00:59<01:19, 19.77s/it]\n"
     ]
    },
    {
     "ename": "KeyboardInterrupt",
     "evalue": "",
     "output_type": "error",
     "traceback": [
      "\u001B[0;31m---------------------------------------------------------------------------\u001B[0m",
      "\u001B[0;31mKeyboardInterrupt\u001B[0m                         Traceback (most recent call last)",
      "Input \u001B[0;32mIn [3]\u001B[0m, in \u001B[0;36m<cell line: 3>\u001B[0;34m()\u001B[0m\n\u001B[1;32m      1\u001B[0m cte \u001B[38;5;241m=\u001B[39m SemanticCrossEvaluator(unet, cv_param, \u001B[38;5;241m3\u001B[39m)\n\u001B[1;32m      2\u001B[0m \u001B[38;5;28mprint\u001B[39m(params[\u001B[38;5;241m0\u001B[39m])\n\u001B[0;32m----> 3\u001B[0m report \u001B[38;5;241m=\u001B[39m \u001B[43mcte\u001B[49m\u001B[38;5;241;43m.\u001B[39;49m\u001B[43mcross_test_model\u001B[49m\u001B[43m(\u001B[49m\u001B[43m[\u001B[49m\u001B[43mparams\u001B[49m\u001B[43m[\u001B[49m\u001B[38;5;241;43m0\u001B[39;49m\u001B[43m]\u001B[49m\u001B[43m]\u001B[49m\u001B[43m,\u001B[49m\u001B[43m \u001B[49m\u001B[43mcv_param\u001B[49m\u001B[43m[\u001B[49m\u001B[38;5;124;43m'\u001B[39;49m\u001B[38;5;124;43mepochs_ct\u001B[39;49m\u001B[38;5;124;43m'\u001B[39;49m\u001B[43m]\u001B[49m\u001B[43m,\u001B[49m\u001B[43m \u001B[49m\u001B[43mcv_param\u001B[49m\u001B[43m[\u001B[49m\u001B[38;5;124;43m'\u001B[39;49m\u001B[38;5;124;43mepochs_cv\u001B[39;49m\u001B[38;5;124;43m'\u001B[39;49m\u001B[43m]\u001B[49m\u001B[43m)\u001B[49m\n",
      "File \u001B[0;32m~/workspace/Cell_segmentation/src/evaluate/cross_evaluator.py:148\u001B[0m, in \u001B[0;36mcross_test_model\u001B[0;34m(self, params, epochs_ct, epochs_cv)\u001B[0m\n\u001B[1;32m    146\u001B[0m report, _ \u001B[38;5;241m=\u001B[39m \u001B[38;5;28mself\u001B[39m\u001B[38;5;241m.\u001B[39mevaluate_param(param, folds_train, folds_validate, epochs_cv, test\u001B[38;5;241m=\u001B[39m\u001B[38;5;28;01mFalse\u001B[39;00m)\n\u001B[1;32m    147\u001B[0m \u001B[38;5;28;01mif\u001B[39;00m \u001B[38;5;28mlen\u001B[39m(report) \u001B[38;5;241m>\u001B[39m \u001B[38;5;241m5\u001B[39m:\n\u001B[0;32m--> 148\u001B[0m     current_acc \u001B[38;5;241m=\u001B[39m np\u001B[38;5;241m.\u001B[39mmean(report[\u001B[38;5;124m'\u001B[39m\u001B[38;5;124mcombined_validate\u001B[39m\u001B[38;5;124m'\u001B[39m][\u001B[38;5;241m-\u001B[39m\u001B[38;5;241m5\u001B[39m:])\n\u001B[1;32m    149\u001B[0m \u001B[38;5;28;01melse\u001B[39;00m:\n\u001B[1;32m    150\u001B[0m     current_acc \u001B[38;5;241m=\u001B[39m np\u001B[38;5;241m.\u001B[39mmean(report[\u001B[38;5;124m'\u001B[39m\u001B[38;5;124mcombined_validate\u001B[39m\u001B[38;5;124m'\u001B[39m])\n",
      "File \u001B[0;32m~/workspace/Cell_segmentation/src/evaluate/cross_evaluator.py:111\u001B[0m, in \u001B[0;36mevaluate_param\u001B[0;34m(self, param, folds_train, folds_validate, epochs, test)\u001B[0m\n\u001B[1;32m    108\u001B[0m \u001B[38;5;28;01melse\u001B[39;00m:\n\u001B[1;32m    109\u001B[0m     train_losses, validation_losses, cv_failed \u001B[38;5;241m=\u001B[39m \u001B[38;5;28mself\u001B[39m\u001B[38;5;241m.\u001B[39mcross_validate_param(param, folds_train, dataset_path,\n\u001B[1;32m    110\u001B[0m                                                                            epochs)\n\u001B[0;32m--> 111\u001B[0m     \u001B[38;5;28;01mif\u001B[39;00m cv_failed:\n\u001B[1;32m    112\u001B[0m         failed \u001B[38;5;241m=\u001B[39m \u001B[38;5;28;01mTrue\u001B[39;00m\n\u001B[1;32m    114\u001B[0m comb_train_losses \u001B[38;5;241m+\u001B[39m\u001B[38;5;241m=\u001B[39m train_losses\n",
      "File \u001B[0;32m~/workspace/Cell_segmentation/src/evaluate/cross_evaluator.py:78\u001B[0m, in \u001B[0;36mcross_validate_param\u001B[0;34m(self, param, folds, dataset_path, epochs)\u001B[0m\n\u001B[1;32m     74\u001B[0m folds_train\u001B[38;5;241m.\u001B[39mremove(train_fold)\n\u001B[1;32m     75\u001B[0m folds_validate \u001B[38;5;241m=\u001B[39m [train_fold]\n\u001B[1;32m     76\u001B[0m train_loss, validation_loss, success \u001B[38;5;241m=\u001B[39m \u001B[38;5;28mself\u001B[39m\u001B[38;5;241m.\u001B[39mtrain_validate(param,\n\u001B[1;32m     77\u001B[0m                                                            dataset_path,\n\u001B[0;32m---> 78\u001B[0m                                                            folds_train,\n\u001B[1;32m     79\u001B[0m                                                            folds_validate,\n\u001B[1;32m     80\u001B[0m                                                            epochs)\n\u001B[1;32m     81\u001B[0m \u001B[38;5;28;01mif\u001B[39;00m \u001B[38;5;129;01mnot\u001B[39;00m success:\n\u001B[1;32m     82\u001B[0m     failed \u001B[38;5;241m=\u001B[39m \u001B[38;5;28;01mTrue\u001B[39;00m\n",
      "File \u001B[0;32m~/workspace/Cell_segmentation/src/evaluate/cross_evaluator.py:50\u001B[0m, in \u001B[0;36mSemanticCrossEvaluator.train_validate\u001B[0;34m(self, param, dataset_path, folds_train, folds_validate, num_epochs)\u001B[0m\n\u001B[1;32m     33\u001B[0m ds_validate \u001B[38;5;241m=\u001B[39m SemanticDataset(dataset_path, folds_validate)\n\u001B[1;32m     35\u001B[0m trainer \u001B[38;5;241m=\u001B[39m UnetTrainer(model,\n\u001B[1;32m     36\u001B[0m                       \u001B[38;5;28mself\u001B[39m\u001B[38;5;241m.\u001B[39mdevice,\n\u001B[1;32m     37\u001B[0m                       param[\u001B[38;5;124m'\u001B[39m\u001B[38;5;124mcriterion\u001B[39m\u001B[38;5;124m'\u001B[39m],\n\u001B[0;32m   (...)\u001B[0m\n\u001B[1;32m     45\u001B[0m                       \u001B[38;5;28mid\u001B[39m\u001B[38;5;241m=\u001B[39mfolds_validate[\u001B[38;5;241m0\u001B[39m],\n\u001B[1;32m     46\u001B[0m                       num_classes\u001B[38;5;241m=\u001B[39mparam[\u001B[38;5;124m'\u001B[39m\u001B[38;5;124mout_classes\u001B[39m\u001B[38;5;124m'\u001B[39m])\n\u001B[1;32m     48\u001B[0m success \u001B[38;5;241m=\u001B[39m trainer\u001B[38;5;241m.\u001B[39mtrain(num_epochs,\n\u001B[1;32m     49\u001B[0m                         img_output\u001B[38;5;241m=\u001B[39m\u001B[38;5;28;01mTrue\u001B[39;00m,\n\u001B[0;32m---> 50\u001B[0m                         num_images\u001B[38;5;241m=\u001B[39m\u001B[38;5;28mself\u001B[39m\u001B[38;5;241m.\u001B[39mnum_images,\n\u001B[1;32m     51\u001B[0m                         out_folder\u001B[38;5;241m=\u001B[39m\u001B[38;5;28mself\u001B[39m\u001B[38;5;241m.\u001B[39mreport\u001B[38;5;241m.\u001B[39mout_path,\n\u001B[1;32m     52\u001B[0m                         interval\u001B[38;5;241m=\u001B[39m\u001B[38;5;28mself\u001B[39m\u001B[38;5;241m.\u001B[39minterval_img_out)\n\u001B[1;32m     54\u001B[0m train_loss, validation_loss \u001B[38;5;241m=\u001B[39m trainer\u001B[38;5;241m.\u001B[39mget_losses()\n\u001B[1;32m     56\u001B[0m \u001B[38;5;28;01mif\u001B[39;00m \u001B[38;5;129;01mnot\u001B[39;00m success:\n",
      "File \u001B[0;32m~/workspace/Cell_segmentation/src/train/unet_trainer.py:54\u001B[0m, in \u001B[0;36mUnetTrainer.train\u001B[0;34m(self, epochs, img_output, num_images, out_folder, interval)\u001B[0m\n\u001B[1;32m     52\u001B[0m \u001B[38;5;28;01mfor\u001B[39;00m i \u001B[38;5;129;01min\u001B[39;00m tqdm(\u001B[38;5;28mrange\u001B[39m(epochs), desc\u001B[38;5;241m=\u001B[39m\u001B[38;5;124m\"\u001B[39m\u001B[38;5;124mTraining\u001B[39m\u001B[38;5;124m\"\u001B[39m, ascii\u001B[38;5;241m=\u001B[39m\u001B[38;5;28;01mFalse\u001B[39;00m, ncols\u001B[38;5;241m=\u001B[39m\u001B[38;5;241m75\u001B[39m):\n\u001B[1;32m     53\u001B[0m     \u001B[38;5;28;01mif\u001B[39;00m \u001B[38;5;129;01mnot\u001B[39;00m img_output \u001B[38;5;129;01mor\u001B[39;00m i \u001B[38;5;241m!=\u001B[39m epochs \u001B[38;5;241m-\u001B[39m \u001B[38;5;241m1\u001B[39m \u001B[38;5;129;01mor\u001B[39;00m i \u001B[38;5;241m<\u001B[39m \u001B[38;5;241m10\u001B[39m:\n\u001B[0;32m---> 54\u001B[0m         loss \u001B[38;5;241m=\u001B[39m \u001B[38;5;28;43mself\u001B[39;49m\u001B[38;5;241;43m.\u001B[39;49m\u001B[43mtrain_epoch\u001B[49m\u001B[43m(\u001B[49m\u001B[43m)\u001B[49m\n\u001B[1;32m     55\u001B[0m         acc \u001B[38;5;241m=\u001B[39m \u001B[38;5;28mself\u001B[39m\u001B[38;5;241m.\u001B[39mtest()\n\u001B[1;32m     56\u001B[0m     \u001B[38;5;28;01melse\u001B[39;00m:\n",
      "File \u001B[0;32m~/workspace/Cell_segmentation/src/train/unet_trainer.py:100\u001B[0m, in \u001B[0;36mUnetTrainer.train_epoch\u001B[0;34m(self, num_images, out_folder)\u001B[0m\n\u001B[1;32m     97\u001B[0m     loss\u001B[38;5;241m.\u001B[39mbackward()\n\u001B[1;32m     98\u001B[0m     \u001B[38;5;28mself\u001B[39m\u001B[38;5;241m.\u001B[39moptimizer\u001B[38;5;241m.\u001B[39mstep()\n\u001B[0;32m--> 100\u001B[0m     current_loss\u001B[38;5;241m.\u001B[39mappend(\u001B[43mth\u001B[49m\u001B[38;5;241;43m.\u001B[39;49m\u001B[43mmean\u001B[49m\u001B[43m(\u001B[49m\u001B[43mloss\u001B[49m\u001B[43m)\u001B[49m\u001B[38;5;241;43m.\u001B[39;49m\u001B[43mitem\u001B[49m\u001B[43m(\u001B[49m\u001B[43m)\u001B[49m)\n\u001B[1;32m    102\u001B[0m loss \u001B[38;5;241m=\u001B[39m np\u001B[38;5;241m.\u001B[39mmean(current_loss)\n\u001B[1;32m    103\u001B[0m \u001B[38;5;28mself\u001B[39m\u001B[38;5;241m.\u001B[39mtrain_losses\u001B[38;5;241m.\u001B[39mappend(np\u001B[38;5;241m.\u001B[39mmean(current_loss))\n",
      "\u001B[0;31mKeyboardInterrupt\u001B[0m: "
     ]
    }
   ],
   "source": [
    "cte = SemanticCrossEvaluator(unet, cv_param, 3)\n",
    "print(params[0])\n",
    "report = cte.cross_test_model([params[0]], cv_param['epochs_ct'], cv_param['epochs_cv'])\n",
    "#cte.train_validate(params[0], ds1_path, [1, 2], [3], 10)"
   ],
   "metadata": {
    "collapsed": false,
    "pycharm": {
     "name": "#%%\n"
    }
   }
  },
  {
   "cell_type": "code",
   "execution_count": null,
   "outputs": [],
   "source": [],
   "metadata": {
    "collapsed": false,
    "pycharm": {
     "name": "#%%\n"
    }
   }
  }
 ],
 "metadata": {
  "kernelspec": {
   "display_name": "Python 3",
   "language": "python",
   "name": "python3"
  },
  "language_info": {
   "codemirror_mode": {
    "name": "ipython",
    "version": 2
   },
   "file_extension": ".py",
   "mimetype": "text/x-python",
   "name": "python",
   "nbconvert_exporter": "python",
   "pygments_lexer": "ipython2",
   "version": "2.7.6"
  }
 },
 "nbformat": 4,
 "nbformat_minor": 0
}