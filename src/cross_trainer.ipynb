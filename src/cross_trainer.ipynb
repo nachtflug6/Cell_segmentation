{
 "cells": [
  {
   "cell_type": "code",
   "execution_count": 1,
   "outputs": [
    {
     "name": "stderr",
     "output_type": "stream",
     "text": [
      "C:\\Users\\silva\\anaconda3\\envs\\TorchEnv\\lib\\site-packages\\tqdm\\auto.py:22: TqdmWarning: IProgress not found. Please update jupyter and ipywidgets. See https://ipywidgets.readthedocs.io/en/stable/user_install.html\n",
      "  from .autonotebook import tqdm as notebook_tqdm\n"
     ]
    }
   ],
   "source": [
    "import numpy as np\n",
    "import torch as th\n",
    "import torch.nn as nn\n",
    "import os\n",
    "import json\n",
    "import pandas as pd\n",
    "import torchvision.transforms as T\n",
    "\n",
    "from train.multi_hyperparameter import MultiHyperparameter\n",
    "from custom_models.unet_original import UNet, UNetSmall, UNetLarge\n",
    "from evaluate.cross_evaluator import SemanticCrossEvaluator\n",
    "from train.unet_trainer import UnetTrainer\n",
    "from datasets.semantic_dataset import SemanticDataset\n",
    "from preprocessing.data_augment import DataAugmenter"
   ],
   "metadata": {
    "collapsed": false,
    "pycharm": {
     "name": "#%%\n"
    }
   }
  },
  {
   "cell_type": "code",
   "execution_count": 4,
   "outputs": [
    {
     "name": "stdout",
     "output_type": "stream",
     "text": [
      "2\n"
     ]
    }
   ],
   "source": [
    "cwd = os.getcwd()\n",
    "ds1_path = os.path.join(cwd, '../data/cell_type_1')\n",
    "ds2_path = os.path.join(cwd, '../data/cell_type_2')\n",
    "\n",
    "cv_param = {'interval_img_out': 1,\n",
    "            'num_images': 3,\n",
    "            'device': th.device(\"cuda\" if th.cuda.is_available() else \"cpu\"),\n",
    "            'datasets_path': [ds1_path, ds2_path],\n",
    "            'results_path': os.path.join(cwd, '../results'),\n",
    "            'folds': [0, 1, 2, 3],\n",
    "            'epochs_cv': 1,\n",
    "            'epochs_ct': 1,\n",
    "            'num_random_params': 3}\n",
    "\n",
    "param = {'id': 0,\n",
    "         'padding_mode': 'reflect',\n",
    "         'out_classes': 2,\n",
    "         'criterion': nn.CrossEntropyLoss(),\n",
    "         'optimizer': MultiHyperparameter({'type': [\n",
    "             # 'sgd',\n",
    "             #'adam',\n",
    "              'rmsprop',\n",
    "             # 'asgd'\n",
    "         ],\n",
    "             'lr_factor': [\n",
    "                 # 10,\n",
    "                 # 4,\n",
    "                 # 2,\n",
    "                 1,\n",
    "                 # 0.5,\n",
    "                 # 0.25,\n",
    "                 # 0.1\n",
    "             ],\n",
    "             'weight_decay': [\n",
    "                 0,\n",
    "                 1e-3,\n",
    "                 #1e-5\n",
    "             ]\n",
    "         }).get_full_grid_params(),\n",
    "         'augment_transform': [{'rotate': False, 'mirror': False, 'translate': False, 'pad': 0},\n",
    "                               #{'rotate': True, 'mirror': True, 'translate': False, 'pad': 0},\n",
    "                               #{'rotate': True, 'mirror': True, 'translate': True, 'pad': 16},\n",
    "                               #{'rotate': True, 'mirror': True, 'translate': True, 'pad': 8}\n",
    "                               ],\n",
    "         'num_augments': 100,\n",
    "         'binarizer_lr': 0.1,\n",
    "         'batch_size': 2}\n",
    "\n",
    "unet_hyps = MultiHyperparameter(param)\n",
    "params = unet_hyps.get_full_grid_params(indexed=True)\n",
    "print(len(params))\n",
    "unet = UNet.__new__(UNet)"
   ],
   "metadata": {
    "collapsed": false,
    "pycharm": {
     "name": "#%%\n"
    }
   }
  },
  {
   "cell_type": "code",
   "execution_count": null,
   "outputs": [
    {
     "name": "stdout",
     "output_type": "stream",
     "text": [
      "[{'id': 0, 'padding_mode': 'reflect', 'out_classes': 2, 'criterion': CrossEntropyLoss(), 'optimizer': {'type': 'rmsprop', 'lr_factor': 1, 'weight_decay': 0}, 'augment_transform': {'rotate': False, 'mirror': False, 'translate': False, 'pad': 0}, 'num_augments': 100, 'binarizer_lr': 0.1, 'batch_size': 2}, {'id': 1, 'padding_mode': 'reflect', 'out_classes': 2, 'criterion': CrossEntropyLoss(), 'optimizer': {'type': 'rmsprop', 'lr_factor': 1, 'weight_decay': 0.001}, 'augment_transform': {'rotate': False, 'mirror': False, 'translate': False, 'pad': 0}, 'num_augments': 100, 'binarizer_lr': 0.1, 'batch_size': 2}]\n",
      "Testing Fold: 0 / 3\n",
      "Evaluating Param: 0 / 1\n",
      "Evaluating Dataset: 0 / 1\n",
      "Cross validate: 0 / 2\n"
     ]
    },
    {
     "name": "stderr",
     "output_type": "stream",
     "text": [
      "Training: 100%|██████████████████████████████| 1/1 [00:25<00:00, 25.08s/it]\n"
     ]
    },
    {
     "name": "stdout",
     "output_type": "stream",
     "text": [
      "Loss: 0.5746335393190384 Acc: 0.043727703392505646\n",
      "Cross validate: 1 / 2\n"
     ]
    },
    {
     "name": "stderr",
     "output_type": "stream",
     "text": [
      "Training: 100%|██████████████████████████████| 1/1 [00:20<00:00, 20.31s/it]\n"
     ]
    },
    {
     "name": "stdout",
     "output_type": "stream",
     "text": [
      "Loss: 0.646323903799057 Acc: 0.07345665991306305\n",
      "Cross validate: 2 / 2\n"
     ]
    },
    {
     "name": "stderr",
     "output_type": "stream",
     "text": [
      "Training: 100%|██████████████████████████████| 1/1 [00:20<00:00, 20.23s/it]\n"
     ]
    },
    {
     "name": "stdout",
     "output_type": "stream",
     "text": [
      "Loss: 0.5316836088895798 Acc: 0.021788280457258224\n",
      "Evaluating Dataset: 1 / 1\n",
      "Cross validate: 0 / 2\n"
     ]
    },
    {
     "name": "stderr",
     "output_type": "stream",
     "text": [
      "Training: 100%|██████████████████████████████| 1/1 [00:21<00:00, 21.68s/it]\n"
     ]
    },
    {
     "name": "stdout",
     "output_type": "stream",
     "text": [
      "Loss: 0.5627162832021714 Acc: 0.5754256844520569\n",
      "Cross validate: 1 / 2\n"
     ]
    },
    {
     "name": "stderr",
     "output_type": "stream",
     "text": [
      "Training: 100%|██████████████████████████████| 1/1 [00:20<00:00, 20.34s/it]\n"
     ]
    },
    {
     "name": "stdout",
     "output_type": "stream",
     "text": [
      "Loss: 0.5820926648378372 Acc: 0.5435541868209839\n",
      "Cross validate: 2 / 2\n"
     ]
    },
    {
     "name": "stderr",
     "output_type": "stream",
     "text": [
      "Training: 100%|██████████████████████████████| 1/1 [00:20<00:00, 20.32s/it]\n"
     ]
    },
    {
     "name": "stdout",
     "output_type": "stream",
     "text": [
      "Loss: 0.5477306336164475 Acc: 0.5291422009468079\n",
      "Evaluating Param: 1 / 1\n",
      "Evaluating Dataset: 0 / 1\n",
      "Cross validate: 0 / 2\n"
     ]
    },
    {
     "name": "stderr",
     "output_type": "stream",
     "text": [
      "Training: 100%|██████████████████████████████| 1/1 [00:20<00:00, 20.56s/it]\n"
     ]
    },
    {
     "name": "stdout",
     "output_type": "stream",
     "text": [
      "Loss: 0.49511144280433655 Acc: 0.043724581599235535\n",
      "Cross validate: 1 / 2\n"
     ]
    },
    {
     "name": "stderr",
     "output_type": "stream",
     "text": [
      "Training: 100%|██████████████████████████████| 1/1 [00:20<00:00, 20.61s/it]\n"
     ]
    },
    {
     "name": "stdout",
     "output_type": "stream",
     "text": [
      "Loss: 0.5969936335086823 Acc: 0.020796170458197594\n",
      "Cross validate: 2 / 2\n"
     ]
    },
    {
     "name": "stderr",
     "output_type": "stream",
     "text": [
      "Training: 100%|██████████████████████████████| 1/1 [00:20<00:00, 20.94s/it]"
     ]
    },
    {
     "name": "stdout",
     "output_type": "stream",
     "text": [
      "Loss: 0.5742189162969589 Acc: 0.022069688886404037\n",
      "Evaluating Dataset: 1 / 1\n",
      "Cross validate: 0 / 2\n"
     ]
    },
    {
     "name": "stderr",
     "output_type": "stream",
     "text": [
      "\n",
      "Training: 100%|██████████████████████████████| 1/1 [00:21<00:00, 21.06s/it]\n"
     ]
    },
    {
     "name": "stdout",
     "output_type": "stream",
     "text": [
      "Loss: 0.6144224572181701 Acc: 0.6408543586730957\n",
      "Cross validate: 1 / 2\n"
     ]
    },
    {
     "name": "stderr",
     "output_type": "stream",
     "text": [
      "Training: 100%|██████████████████████████████| 1/1 [00:21<00:00, 21.12s/it]\n"
     ]
    },
    {
     "name": "stdout",
     "output_type": "stream",
     "text": [
      "Loss: 0.5956969928741455 Acc: 0.5066499710083008\n",
      "Cross validate: 2 / 2\n"
     ]
    },
    {
     "name": "stderr",
     "output_type": "stream",
     "text": [
      "Training: 100%|██████████████████████████████| 1/1 [00:20<00:00, 20.63s/it]\n"
     ]
    },
    {
     "name": "stdout",
     "output_type": "stream",
     "text": [
      "Loss: 0.620068974494934 Acc: 0.5053766369819641\n",
      "Evaluating Dataset: 0 / 1\n"
     ]
    },
    {
     "name": "stderr",
     "output_type": "stream",
     "text": [
      "Training: 100%|██████████████████████████████| 1/1 [00:22<00:00, 22.74s/it]"
     ]
    },
    {
     "name": "stdout",
     "output_type": "stream",
     "text": [
      "Loss: 0.6070869112014771 Acc: 0.03021603263914585\n",
      "Evaluating Dataset: 1 / 1\n"
     ]
    },
    {
     "name": "stderr",
     "output_type": "stream",
     "text": [
      "\n",
      "Training: 100%|██████████████████████████████| 1/1 [00:22<00:00, 22.76s/it]\n"
     ]
    },
    {
     "name": "stdout",
     "output_type": "stream",
     "text": [
      "Loss: 0.5838627314567566 Acc: 0.6156461238861084\n",
      "Testing Fold: 1 / 3\n",
      "Evaluating Param: 0 / 2\n",
      "Evaluating Dataset: 0 / 1\n",
      "Cross validate: 0 / 2\n"
     ]
    },
    {
     "name": "stderr",
     "output_type": "stream",
     "text": [
      "Training: 100%|██████████████████████████████| 1/1 [00:20<00:00, 20.74s/it]\n"
     ]
    },
    {
     "name": "stdout",
     "output_type": "stream",
     "text": [
      "Loss: 0.563868950009346 Acc: 0.03612499684095383\n",
      "Cross validate: 1 / 2\n"
     ]
    },
    {
     "name": "stderr",
     "output_type": "stream",
     "text": [
      "Training: 100%|██████████████████████████████| 1/1 [00:20<00:00, 20.62s/it]"
     ]
    },
    {
     "name": "stdout",
     "output_type": "stream",
     "text": [
      "Loss: 0.595589644908905 Acc: 0.20325370132923126\n",
      "Cross validate: 2 / 2\n"
     ]
    },
    {
     "name": "stderr",
     "output_type": "stream",
     "text": [
      "\n",
      "Training: 100%|██████████████████████████████| 1/1 [00:21<00:00, 21.56s/it]"
     ]
    },
    {
     "name": "stdout",
     "output_type": "stream",
     "text": [
      "Loss: 0.5363987314701081 Acc: 0.01871636137366295\n",
      "Evaluating Dataset: 1 / 1\n",
      "Cross validate: 0 / 2\n"
     ]
    },
    {
     "name": "stderr",
     "output_type": "stream",
     "text": [
      "\n",
      "Training: 100%|██████████████████████████████| 1/1 [00:20<00:00, 20.82s/it]"
     ]
    },
    {
     "name": "stdout",
     "output_type": "stream",
     "text": [
      "Loss: 0.5519389981031417 Acc: 0.5197029709815979\n",
      "Cross validate: 1 / 2\n"
     ]
    },
    {
     "name": "stderr",
     "output_type": "stream",
     "text": [
      "\n",
      "Training: 100%|██████████████████████████████| 1/1 [00:21<00:00, 21.23s/it]"
     ]
    },
    {
     "name": "stdout",
     "output_type": "stream",
     "text": [
      "Loss: 0.5975966036319733 Acc: 0.5425939559936523\n",
      "Cross validate: 2 / 2\n"
     ]
    },
    {
     "name": "stderr",
     "output_type": "stream",
     "text": [
      "\n",
      "Training: 100%|██████████████████████████████| 1/1 [00:20<00:00, 20.64s/it]\n"
     ]
    },
    {
     "name": "stdout",
     "output_type": "stream",
     "text": [
      "Loss: 0.5580284249782562 Acc: 0.5646120309829712\n",
      "Evaluating Param: 1 / 2\n",
      "Evaluating Dataset: 0 / 1\n",
      "Cross validate: 0 / 2\n"
     ]
    },
    {
     "name": "stderr",
     "output_type": "stream",
     "text": [
      "Training:   0%|                                      | 0/1 [00:00<?, ?it/s]"
     ]
    }
   ],
   "source": [
    "cte = SemanticCrossEvaluator(unet, cv_param, 3)\n",
    "print(params)\n",
    "report = cte.cross_test_model(params, cv_param['epochs_ct'], cv_param['epochs_cv'])\n",
    "#cte.train_validate(params[0], ds1_path, [1, 2], [3], 10)"
   ],
   "metadata": {
    "collapsed": false,
    "pycharm": {
     "name": "#%%\n"
    }
   }
  },
  {
   "cell_type": "code",
   "execution_count": null,
   "outputs": [],
   "source": [],
   "metadata": {
    "collapsed": false,
    "pycharm": {
     "name": "#%%\n"
    }
   }
  }
 ],
 "metadata": {
  "kernelspec": {
   "display_name": "Python 3",
   "language": "python",
   "name": "python3"
  },
  "language_info": {
   "codemirror_mode": {
    "name": "ipython",
    "version": 2
   },
   "file_extension": ".py",
   "mimetype": "text/x-python",
   "name": "python",
   "nbconvert_exporter": "python",
   "pygments_lexer": "ipython2",
   "version": "2.7.6"
  }
 },
 "nbformat": 4,
 "nbformat_minor": 0
}