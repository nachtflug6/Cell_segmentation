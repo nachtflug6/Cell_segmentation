{
 "cells": [
  {
   "cell_type": "code",
   "execution_count": 1,
   "outputs": [
    {
     "name": "stderr",
     "output_type": "stream",
     "text": [
      "C:\\Users\\silva\\anaconda3\\envs\\TorchEnv\\lib\\site-packages\\tqdm\\auto.py:22: TqdmWarning: IProgress not found. Please update jupyter and ipywidgets. See https://ipywidgets.readthedocs.io/en/stable/user_install.html\n",
      "  from .autonotebook import tqdm as notebook_tqdm\n"
     ]
    }
   ],
   "source": [
    "import numpy as np\n",
    "import torch as th\n",
    "import torch.nn as nn\n",
    "import os\n",
    "import json\n",
    "import pandas as pd\n",
    "import torchvision.transforms as T\n",
    "\n",
    "from train.multi_hyperparameter import MultiHyperparameter\n",
    "from custom_models.unet_original import UNet, UNetSmall, UNetLarge\n",
    "from evaluate.cross_evaluator import SemanticCrossEvaluator\n",
    "from train.unet_trainer import UnetTrainer\n",
    "from datasets.semantic_dataset import SemanticDataset\n",
    "from preprocessing.data_augment import DataAugmenter"
   ],
   "metadata": {
    "collapsed": false,
    "pycharm": {
     "name": "#%%\n"
    }
   }
  },
  {
   "cell_type": "code",
   "execution_count": 2,
   "outputs": [],
   "source": [
    "cwd = os.getcwd()\n",
    "ds1_path = os.path.join(cwd, '../data/cell_type_1')\n",
    "ds2_path = os.path.join(cwd, '../data/cell_type_2')\n",
    "\n",
    "cv_param = {'interval_img_out': 1,\n",
    "            'num_images': 3,\n",
    "            'device': th.device(\"cuda\" if th.cuda.is_available() else \"cpu\"),\n",
    "            'datasets_path': [ds1_path, ds2_path],\n",
    "            'results_path': os.path.join(cwd, '../results'),\n",
    "            'folds': [0, 1, 2, 3],\n",
    "            'epochs_cv': 1,\n",
    "            'epochs_ct': 1}\n",
    "\n",
    "param = {'id': 0,\n",
    "         'padding_mode': 'reflect',\n",
    "         'out_classes': 2,\n",
    "         'criterion': nn.CrossEntropyLoss(),\n",
    "         'optimizer': MultiHyperparameter({'type': ['sgd',\n",
    "                                                    #'adam',\n",
    "                                                    #'rmsprop',\n",
    "                                                    #'asgd'\n",
    "                                                    ],\n",
    "                                           'lr_factor': [0.5,\n",
    "                                                         0.75,\n",
    "                                                         1,\n",
    "                                                         1.25,\n",
    "                                                         1.5],\n",
    "                                           'weight_decay': [0,\n",
    "                                                            1e-3,\n",
    "                                                            1e-5]\n",
    "                                           }).get_full_grid_params(),\n",
    "         'augment_transform': [{'rotate': False, 'mirror': False, 'translate': False, 'pad': 0},\n",
    "                               # {'rotate': True, 'mirror': True, 'translate': False, 'pad': 0},\n",
    "                               # {'rotate': True, 'mirror': True, 'translate': True, 'pad': 16},\n",
    "                               # {'rotate': True, 'mirror': True, 'translate': True, 'pad': 64}\n",
    "                               ],\n",
    "         'num_augments': 100,\n",
    "         'binarizer_lr': 0.05,\n",
    "         'batch_size': 1}\n",
    "\n",
    "unet_hyps = MultiHyperparameter(param)\n",
    "params = unet_hyps.get_random_params(1)\n",
    "unet = UNetLarge.__new__(UNetLarge)"
   ],
   "metadata": {
    "collapsed": false,
    "pycharm": {
     "name": "#%%\n"
    }
   }
  },
  {
   "cell_type": "code",
   "execution_count": 3,
   "outputs": [
    {
     "name": "stdout",
     "output_type": "stream",
     "text": [
      "Testing Fold: 0 / 3\n",
      "Evaluating Param: 0 / 0\n",
      "Evaluating Dataset: 0 / 1\n",
      "Cross validate: 0 / 2\n"
     ]
    },
    {
     "name": "stderr",
     "output_type": "stream",
     "text": [
      "Training: 100%|██████████████████████████████| 1/1 [00:30<00:00, 30.87s/it]"
     ]
    },
    {
     "name": "stdout",
     "output_type": "stream",
     "text": [
      "Loss: 0.5063078135251999 Acc: 0.9163636267185211\n",
      "Cross validate: 1 / 2\n"
     ]
    },
    {
     "name": "stderr",
     "output_type": "stream",
     "text": [
      "\n",
      "Training: 100%|██████████████████████████████| 1/1 [00:28<00:00, 28.91s/it]"
     ]
    },
    {
     "name": "stdout",
     "output_type": "stream",
     "text": [
      "Loss: 0.5263882502913475 Acc: 0.959442981264808\n",
      "Cross validate: 2 / 2\n"
     ]
    },
    {
     "name": "stderr",
     "output_type": "stream",
     "text": [
      "\n",
      "Training: 100%|██████████████████████████████| 1/1 [00:29<00:00, 29.37s/it]"
     ]
    },
    {
     "name": "stdout",
     "output_type": "stream",
     "text": [
      "Loss: 0.49571716248989106 Acc: 0.957743105434236\n",
      "Evaluating Dataset: 1 / 1\n",
      "Cross validate: 0 / 2\n"
     ]
    },
    {
     "name": "stderr",
     "output_type": "stream",
     "text": [
      "\n",
      "Training: 100%|██████████████████████████████| 1/1 [00:28<00:00, 28.95s/it]"
     ]
    },
    {
     "name": "stdout",
     "output_type": "stream",
     "text": [
      "Loss: 0.5301169192790985 Acc: 0.9494940394704993\n",
      "Cross validate: 1 / 2\n"
     ]
    },
    {
     "name": "stderr",
     "output_type": "stream",
     "text": [
      "\n"
     ]
    },
    {
     "ename": "KeyboardInterrupt",
     "evalue": "",
     "output_type": "error",
     "traceback": [
      "\u001B[1;31m---------------------------------------------------------------------------\u001B[0m",
      "\u001B[1;31mKeyboardInterrupt\u001B[0m                         Traceback (most recent call last)",
      "Input \u001B[1;32mIn [3]\u001B[0m, in \u001B[0;36m<module>\u001B[1;34m\u001B[0m\n\u001B[0;32m      1\u001B[0m cte \u001B[38;5;241m=\u001B[39m SemanticCrossEvaluator(unet, cv_param)\n\u001B[1;32m----> 2\u001B[0m report \u001B[38;5;241m=\u001B[39m \u001B[43mcte\u001B[49m\u001B[38;5;241;43m.\u001B[39;49m\u001B[43mcross_test_model\u001B[49m\u001B[43m(\u001B[49m\u001B[43mparams\u001B[49m\u001B[43m,\u001B[49m\u001B[43m \u001B[49m\u001B[43mcv_param\u001B[49m\u001B[43m[\u001B[49m\u001B[38;5;124;43m'\u001B[39;49m\u001B[38;5;124;43mepochs_ct\u001B[39;49m\u001B[38;5;124;43m'\u001B[39;49m\u001B[43m]\u001B[49m\u001B[43m,\u001B[49m\u001B[43m \u001B[49m\u001B[43mcv_param\u001B[49m\u001B[43m[\u001B[49m\u001B[38;5;124;43m'\u001B[39;49m\u001B[38;5;124;43mepochs_cv\u001B[39;49m\u001B[38;5;124;43m'\u001B[39;49m\u001B[43m]\u001B[49m\u001B[43m)\u001B[49m\n",
      "File \u001B[1;32mC:\\workspace\\segmentation\\src\\evaluate\\cross_evaluator.py:117\u001B[0m, in \u001B[0;36mSemanticCrossEvaluator.cross_test_model\u001B[1;34m(self, params, epochs_ct, epochs_cv)\u001B[0m\n\u001B[0;32m    115\u001B[0m \u001B[38;5;28;01mfor\u001B[39;00m j, param \u001B[38;5;129;01min\u001B[39;00m \u001B[38;5;28menumerate\u001B[39m(params, \u001B[38;5;241m0\u001B[39m):\n\u001B[0;32m    116\u001B[0m     \u001B[38;5;28mprint\u001B[39m(\u001B[38;5;124mf\u001B[39m\u001B[38;5;124m'\u001B[39m\u001B[38;5;124mEvaluating Param: \u001B[39m\u001B[38;5;132;01m{\u001B[39;00mj\u001B[38;5;132;01m}\u001B[39;00m\u001B[38;5;124m / \u001B[39m\u001B[38;5;132;01m{\u001B[39;00m\u001B[38;5;28mlen\u001B[39m(params) \u001B[38;5;241m-\u001B[39m \u001B[38;5;241m1\u001B[39m\u001B[38;5;132;01m}\u001B[39;00m\u001B[38;5;124m'\u001B[39m)\n\u001B[1;32m--> 117\u001B[0m     report \u001B[38;5;241m=\u001B[39m \u001B[38;5;28;43mself\u001B[39;49m\u001B[38;5;241;43m.\u001B[39;49m\u001B[43mevaluate_param\u001B[49m\u001B[43m(\u001B[49m\u001B[43mparam\u001B[49m\u001B[43m,\u001B[49m\u001B[43m \u001B[49m\u001B[43mfolds_train\u001B[49m\u001B[43m,\u001B[49m\u001B[43m \u001B[49m\u001B[43mfolds_validate\u001B[49m\u001B[43m,\u001B[49m\u001B[43m \u001B[49m\u001B[43mepochs_cv\u001B[49m\u001B[43m,\u001B[49m\u001B[43m \u001B[49m\u001B[43mtest\u001B[49m\u001B[38;5;241;43m=\u001B[39;49m\u001B[38;5;28;43;01mTrue\u001B[39;49;00m\u001B[43m)\u001B[49m\n\u001B[0;32m    118\u001B[0m     \u001B[38;5;28;01mif\u001B[39;00m \u001B[38;5;28mlen\u001B[39m(report[\u001B[38;5;124m'\u001B[39m\u001B[38;5;124mcombined_validate\u001B[39m\u001B[38;5;124m'\u001B[39m]) \u001B[38;5;241m>\u001B[39m \u001B[38;5;241m10\u001B[39m:\n\u001B[0;32m    119\u001B[0m         current_acc \u001B[38;5;241m=\u001B[39m np\u001B[38;5;241m.\u001B[39mmean(report[\u001B[38;5;124m'\u001B[39m\u001B[38;5;124mcombined_validate\u001B[39m\u001B[38;5;124m'\u001B[39m][\u001B[38;5;241m10\u001B[39m:])\n",
      "File \u001B[1;32mC:\\workspace\\segmentation\\src\\evaluate\\cross_evaluator.py:81\u001B[0m, in \u001B[0;36mSemanticCrossEvaluator.evaluate_param\u001B[1;34m(self, param, folds_train, folds_validate, epochs, test)\u001B[0m\n\u001B[0;32m     79\u001B[0m \u001B[38;5;28mprint\u001B[39m(\u001B[38;5;124mf\u001B[39m\u001B[38;5;124m'\u001B[39m\u001B[38;5;124mEvaluating Dataset: \u001B[39m\u001B[38;5;132;01m{\u001B[39;00mi\u001B[38;5;132;01m}\u001B[39;00m\u001B[38;5;124m / \u001B[39m\u001B[38;5;132;01m{\u001B[39;00m\u001B[38;5;28mlen\u001B[39m(\u001B[38;5;28mself\u001B[39m\u001B[38;5;241m.\u001B[39mdatasets_path) \u001B[38;5;241m-\u001B[39m \u001B[38;5;241m1\u001B[39m\u001B[38;5;132;01m}\u001B[39;00m\u001B[38;5;124m'\u001B[39m)\n\u001B[0;32m     80\u001B[0m \u001B[38;5;28;01mif\u001B[39;00m test:\n\u001B[1;32m---> 81\u001B[0m     train_losses, validation_losses \u001B[38;5;241m=\u001B[39m \u001B[38;5;28;43mself\u001B[39;49m\u001B[38;5;241;43m.\u001B[39;49m\u001B[43mcross_validate_param\u001B[49m\u001B[43m(\u001B[49m\u001B[43mparam\u001B[49m\u001B[43m,\u001B[49m\u001B[43m \u001B[49m\u001B[43mfolds_train\u001B[49m\u001B[43m,\u001B[49m\u001B[43m \u001B[49m\u001B[43mdataset_path\u001B[49m\u001B[43m,\u001B[49m\u001B[43m \u001B[49m\u001B[43mepochs\u001B[49m\u001B[43m)\u001B[49m\n\u001B[0;32m     82\u001B[0m \u001B[38;5;28;01melse\u001B[39;00m:\n\u001B[0;32m     83\u001B[0m     train_losses, validation_losses \u001B[38;5;241m=\u001B[39m \u001B[38;5;28mself\u001B[39m\u001B[38;5;241m.\u001B[39mtrain_validate(param,\n\u001B[0;32m     84\u001B[0m                                                           dataset_path,\n\u001B[0;32m     85\u001B[0m                                                           folds_train,\n\u001B[0;32m     86\u001B[0m                                                           folds_validate,\n\u001B[0;32m     87\u001B[0m                                                           epochs)\n",
      "File \u001B[1;32mC:\\workspace\\segmentation\\src\\evaluate\\cross_evaluator.py:59\u001B[0m, in \u001B[0;36mSemanticCrossEvaluator.cross_validate_param\u001B[1;34m(self, param, folds, dataset_path, epochs)\u001B[0m\n\u001B[0;32m     57\u001B[0m folds_train\u001B[38;5;241m.\u001B[39mremove(train_fold)\n\u001B[0;32m     58\u001B[0m folds_validate \u001B[38;5;241m=\u001B[39m [train_fold]\n\u001B[1;32m---> 59\u001B[0m train_loss, validation_loss \u001B[38;5;241m=\u001B[39m \u001B[38;5;28;43mself\u001B[39;49m\u001B[38;5;241;43m.\u001B[39;49m\u001B[43mtrain_validate\u001B[49m\u001B[43m(\u001B[49m\u001B[43mparam\u001B[49m\u001B[43m,\u001B[49m\n\u001B[0;32m     60\u001B[0m \u001B[43m                                                  \u001B[49m\u001B[43mdataset_path\u001B[49m\u001B[43m,\u001B[49m\n\u001B[0;32m     61\u001B[0m \u001B[43m                                                  \u001B[49m\u001B[43mfolds_train\u001B[49m\u001B[43m,\u001B[49m\n\u001B[0;32m     62\u001B[0m \u001B[43m                                                  \u001B[49m\u001B[43mfolds_validate\u001B[49m\u001B[43m,\u001B[49m\n\u001B[0;32m     63\u001B[0m \u001B[43m                                                  \u001B[49m\u001B[43mepochs\u001B[49m\u001B[43m)\u001B[49m\n\u001B[0;32m     64\u001B[0m train_losses \u001B[38;5;241m+\u001B[39m\u001B[38;5;241m=\u001B[39m train_loss\n\u001B[0;32m     65\u001B[0m validation_losses \u001B[38;5;241m+\u001B[39m\u001B[38;5;241m=\u001B[39m validation_loss\n",
      "File \u001B[1;32mC:\\workspace\\segmentation\\src\\evaluate\\cross_evaluator.py:26\u001B[0m, in \u001B[0;36mSemanticCrossEvaluator.train_validate\u001B[1;34m(self, param, dataset_path, folds_train, folds_validate, num_epochs)\u001B[0m\n\u001B[0;32m     24\u001B[0m \u001B[38;5;28;01mdef\u001B[39;00m \u001B[38;5;21mtrain_validate\u001B[39m(\u001B[38;5;28mself\u001B[39m, param, dataset_path, folds_train, folds_validate, num_epochs):\n\u001B[0;32m     25\u001B[0m     model \u001B[38;5;241m=\u001B[39m \u001B[38;5;28mself\u001B[39m\u001B[38;5;241m.\u001B[39mmodel\n\u001B[1;32m---> 26\u001B[0m     \u001B[43mmodel\u001B[49m\u001B[38;5;241;43m.\u001B[39;49m\u001B[38;5;21;43m__init__\u001B[39;49m\u001B[43m(\u001B[49m\u001B[43mparam\u001B[49m\u001B[43m)\u001B[49m\n\u001B[0;32m     27\u001B[0m     ds_train \u001B[38;5;241m=\u001B[39m SemanticDataset(dataset_path, folds_train)\n\u001B[0;32m     28\u001B[0m     ds_validate \u001B[38;5;241m=\u001B[39m SemanticDataset(dataset_path, folds_validate)\n",
      "File \u001B[1;32mC:\\workspace\\segmentation\\src\\custom_models\\unet_original.py:281\u001B[0m, in \u001B[0;36mUNetLarge.__init__\u001B[1;34m(self, params)\u001B[0m\n\u001B[0;32m    272\u001B[0m \u001B[38;5;28mself\u001B[39m\u001B[38;5;241m.\u001B[39mcnn4_up \u001B[38;5;241m=\u001B[39m nn\u001B[38;5;241m.\u001B[39mSequential(\n\u001B[0;32m    273\u001B[0m     nn\u001B[38;5;241m.\u001B[39mConv2d(\u001B[38;5;241m128\u001B[39m, \u001B[38;5;241m64\u001B[39m, kernel_size\u001B[38;5;241m=\u001B[39m\u001B[38;5;241m3\u001B[39m, stride\u001B[38;5;241m=\u001B[39m\u001B[38;5;241m1\u001B[39m, padding\u001B[38;5;241m=\u001B[39m\u001B[38;5;241m1\u001B[39m, padding_mode\u001B[38;5;241m=\u001B[39mparams[\u001B[38;5;124m'\u001B[39m\u001B[38;5;124mpadding_mode\u001B[39m\u001B[38;5;124m'\u001B[39m]),\n\u001B[0;32m    274\u001B[0m     nn\u001B[38;5;241m.\u001B[39mReLU(),\n\u001B[0;32m    275\u001B[0m     nn\u001B[38;5;241m.\u001B[39mConv2d(\u001B[38;5;241m64\u001B[39m, \u001B[38;5;241m64\u001B[39m, kernel_size\u001B[38;5;241m=\u001B[39m\u001B[38;5;241m3\u001B[39m, stride\u001B[38;5;241m=\u001B[39m\u001B[38;5;241m1\u001B[39m, padding\u001B[38;5;241m=\u001B[39m\u001B[38;5;241m1\u001B[39m, padding_mode\u001B[38;5;241m=\u001B[39mparams[\u001B[38;5;124m'\u001B[39m\u001B[38;5;124mpadding_mode\u001B[39m\u001B[38;5;124m'\u001B[39m]),\n\u001B[0;32m    276\u001B[0m     nn\u001B[38;5;241m.\u001B[39mReLU(),\n\u001B[0;32m    277\u001B[0m     nn\u001B[38;5;241m.\u001B[39mConv2d(\u001B[38;5;241m64\u001B[39m, params[\u001B[38;5;124m'\u001B[39m\u001B[38;5;124mout_classes\u001B[39m\u001B[38;5;124m'\u001B[39m], kernel_size\u001B[38;5;241m=\u001B[39m\u001B[38;5;241m1\u001B[39m, stride\u001B[38;5;241m=\u001B[39m\u001B[38;5;241m1\u001B[39m, padding\u001B[38;5;241m=\u001B[39m\u001B[38;5;241m0\u001B[39m))\n\u001B[0;32m    279\u001B[0m \u001B[38;5;28mself\u001B[39m\u001B[38;5;241m.\u001B[39mmax_pool_2 \u001B[38;5;241m=\u001B[39m nn\u001B[38;5;241m.\u001B[39mMaxPool2d(\u001B[38;5;241m2\u001B[39m)\n\u001B[1;32m--> 281\u001B[0m \u001B[38;5;28mself\u001B[39m\u001B[38;5;241m.\u001B[39mupconv_0 \u001B[38;5;241m=\u001B[39m \u001B[43mnn\u001B[49m\u001B[38;5;241;43m.\u001B[39;49m\u001B[43mConvTranspose2d\u001B[49m\u001B[43m(\u001B[49m\u001B[38;5;241;43m2048\u001B[39;49m\u001B[43m,\u001B[49m\u001B[43m \u001B[49m\u001B[38;5;241;43m1024\u001B[39;49m\u001B[43m,\u001B[49m\u001B[43m \u001B[49m\u001B[38;5;241;43m2\u001B[39;49m\u001B[43m,\u001B[49m\u001B[43m \u001B[49m\u001B[43mstride\u001B[49m\u001B[38;5;241;43m=\u001B[39;49m\u001B[38;5;241;43m2\u001B[39;49m\u001B[43m)\u001B[49m\n\u001B[0;32m    282\u001B[0m \u001B[38;5;28mself\u001B[39m\u001B[38;5;241m.\u001B[39mupconv_1 \u001B[38;5;241m=\u001B[39m nn\u001B[38;5;241m.\u001B[39mConvTranspose2d(\u001B[38;5;241m1024\u001B[39m, \u001B[38;5;241m512\u001B[39m, \u001B[38;5;241m2\u001B[39m, stride\u001B[38;5;241m=\u001B[39m\u001B[38;5;241m2\u001B[39m)\n\u001B[0;32m    283\u001B[0m \u001B[38;5;28mself\u001B[39m\u001B[38;5;241m.\u001B[39mupconv_2 \u001B[38;5;241m=\u001B[39m nn\u001B[38;5;241m.\u001B[39mConvTranspose2d(\u001B[38;5;241m512\u001B[39m, \u001B[38;5;241m256\u001B[39m, \u001B[38;5;241m2\u001B[39m, stride\u001B[38;5;241m=\u001B[39m\u001B[38;5;241m2\u001B[39m)\n",
      "File \u001B[1;32m~\\anaconda3\\envs\\TorchEnv\\lib\\site-packages\\torch\\nn\\modules\\conv.py:911\u001B[0m, in \u001B[0;36mConvTranspose2d.__init__\u001B[1;34m(self, in_channels, out_channels, kernel_size, stride, padding, output_padding, groups, bias, dilation, padding_mode, device, dtype)\u001B[0m\n\u001B[0;32m    909\u001B[0m dilation \u001B[38;5;241m=\u001B[39m _pair(dilation)\n\u001B[0;32m    910\u001B[0m output_padding \u001B[38;5;241m=\u001B[39m _pair(output_padding)\n\u001B[1;32m--> 911\u001B[0m \u001B[38;5;28msuper\u001B[39m(ConvTranspose2d, \u001B[38;5;28mself\u001B[39m)\u001B[38;5;241m.\u001B[39m\u001B[38;5;21m__init__\u001B[39m(\n\u001B[0;32m    912\u001B[0m     in_channels, out_channels, kernel_size, stride, padding, dilation,\n\u001B[0;32m    913\u001B[0m     \u001B[38;5;28;01mTrue\u001B[39;00m, output_padding, groups, bias, padding_mode, \u001B[38;5;241m*\u001B[39m\u001B[38;5;241m*\u001B[39mfactory_kwargs)\n",
      "File \u001B[1;32m~\\anaconda3\\envs\\TorchEnv\\lib\\site-packages\\torch\\nn\\modules\\conv.py:604\u001B[0m, in \u001B[0;36m_ConvTransposeNd.__init__\u001B[1;34m(self, in_channels, out_channels, kernel_size, stride, padding, dilation, transposed, output_padding, groups, bias, padding_mode, device, dtype)\u001B[0m\n\u001B[0;32m    601\u001B[0m     \u001B[38;5;28;01mraise\u001B[39;00m \u001B[38;5;167;01mValueError\u001B[39;00m(\u001B[38;5;124m'\u001B[39m\u001B[38;5;124mOnly \u001B[39m\u001B[38;5;124m\"\u001B[39m\u001B[38;5;124mzeros\u001B[39m\u001B[38;5;124m\"\u001B[39m\u001B[38;5;124m padding mode is supported for \u001B[39m\u001B[38;5;132;01m{}\u001B[39;00m\u001B[38;5;124m'\u001B[39m\u001B[38;5;241m.\u001B[39mformat(\u001B[38;5;28mself\u001B[39m\u001B[38;5;241m.\u001B[39m\u001B[38;5;18m__class__\u001B[39m\u001B[38;5;241m.\u001B[39m\u001B[38;5;18m__name__\u001B[39m))\n\u001B[0;32m    603\u001B[0m factory_kwargs \u001B[38;5;241m=\u001B[39m {\u001B[38;5;124m'\u001B[39m\u001B[38;5;124mdevice\u001B[39m\u001B[38;5;124m'\u001B[39m: device, \u001B[38;5;124m'\u001B[39m\u001B[38;5;124mdtype\u001B[39m\u001B[38;5;124m'\u001B[39m: dtype}\n\u001B[1;32m--> 604\u001B[0m \u001B[38;5;28msuper\u001B[39m(_ConvTransposeNd, \u001B[38;5;28mself\u001B[39m)\u001B[38;5;241m.\u001B[39m\u001B[38;5;21m__init__\u001B[39m(\n\u001B[0;32m    605\u001B[0m     in_channels, out_channels, kernel_size, stride,\n\u001B[0;32m    606\u001B[0m     padding, dilation, transposed, output_padding,\n\u001B[0;32m    607\u001B[0m     groups, bias, padding_mode, \u001B[38;5;241m*\u001B[39m\u001B[38;5;241m*\u001B[39mfactory_kwargs)\n",
      "File \u001B[1;32m~\\anaconda3\\envs\\TorchEnv\\lib\\site-packages\\torch\\nn\\modules\\conv.py:138\u001B[0m, in \u001B[0;36m_ConvNd.__init__\u001B[1;34m(self, in_channels, out_channels, kernel_size, stride, padding, dilation, transposed, output_padding, groups, bias, padding_mode, device, dtype)\u001B[0m\n\u001B[0;32m    135\u001B[0m \u001B[38;5;28;01melse\u001B[39;00m:\n\u001B[0;32m    136\u001B[0m     \u001B[38;5;28mself\u001B[39m\u001B[38;5;241m.\u001B[39mregister_parameter(\u001B[38;5;124m'\u001B[39m\u001B[38;5;124mbias\u001B[39m\u001B[38;5;124m'\u001B[39m, \u001B[38;5;28;01mNone\u001B[39;00m)\n\u001B[1;32m--> 138\u001B[0m \u001B[38;5;28;43mself\u001B[39;49m\u001B[38;5;241;43m.\u001B[39;49m\u001B[43mreset_parameters\u001B[49m\u001B[43m(\u001B[49m\u001B[43m)\u001B[49m\n",
      "File \u001B[1;32m~\\anaconda3\\envs\\TorchEnv\\lib\\site-packages\\torch\\nn\\modules\\conv.py:144\u001B[0m, in \u001B[0;36m_ConvNd.reset_parameters\u001B[1;34m(self)\u001B[0m\n\u001B[0;32m    140\u001B[0m \u001B[38;5;28;01mdef\u001B[39;00m \u001B[38;5;21mreset_parameters\u001B[39m(\u001B[38;5;28mself\u001B[39m) \u001B[38;5;241m-\u001B[39m\u001B[38;5;241m>\u001B[39m \u001B[38;5;28;01mNone\u001B[39;00m:\n\u001B[0;32m    141\u001B[0m     \u001B[38;5;66;03m# Setting a=sqrt(5) in kaiming_uniform is the same as initializing with\u001B[39;00m\n\u001B[0;32m    142\u001B[0m     \u001B[38;5;66;03m# uniform(-1/sqrt(k), 1/sqrt(k)), where k = weight.size(1) * prod(*kernel_size)\u001B[39;00m\n\u001B[0;32m    143\u001B[0m     \u001B[38;5;66;03m# For more details see: https://github.com/pytorch/pytorch/issues/15314#issuecomment-477448573\u001B[39;00m\n\u001B[1;32m--> 144\u001B[0m     \u001B[43minit\u001B[49m\u001B[38;5;241;43m.\u001B[39;49m\u001B[43mkaiming_uniform_\u001B[49m\u001B[43m(\u001B[49m\u001B[38;5;28;43mself\u001B[39;49m\u001B[38;5;241;43m.\u001B[39;49m\u001B[43mweight\u001B[49m\u001B[43m,\u001B[49m\u001B[43m \u001B[49m\u001B[43ma\u001B[49m\u001B[38;5;241;43m=\u001B[39;49m\u001B[43mmath\u001B[49m\u001B[38;5;241;43m.\u001B[39;49m\u001B[43msqrt\u001B[49m\u001B[43m(\u001B[49m\u001B[38;5;241;43m5\u001B[39;49m\u001B[43m)\u001B[49m\u001B[43m)\u001B[49m\n\u001B[0;32m    145\u001B[0m     \u001B[38;5;28;01mif\u001B[39;00m \u001B[38;5;28mself\u001B[39m\u001B[38;5;241m.\u001B[39mbias \u001B[38;5;129;01mis\u001B[39;00m \u001B[38;5;129;01mnot\u001B[39;00m \u001B[38;5;28;01mNone\u001B[39;00m:\n\u001B[0;32m    146\u001B[0m         fan_in, _ \u001B[38;5;241m=\u001B[39m init\u001B[38;5;241m.\u001B[39m_calculate_fan_in_and_fan_out(\u001B[38;5;28mself\u001B[39m\u001B[38;5;241m.\u001B[39mweight)\n",
      "File \u001B[1;32m~\\anaconda3\\envs\\TorchEnv\\lib\\site-packages\\torch\\nn\\init.py:410\u001B[0m, in \u001B[0;36mkaiming_uniform_\u001B[1;34m(tensor, a, mode, nonlinearity)\u001B[0m\n\u001B[0;32m    408\u001B[0m bound \u001B[38;5;241m=\u001B[39m math\u001B[38;5;241m.\u001B[39msqrt(\u001B[38;5;241m3.0\u001B[39m) \u001B[38;5;241m*\u001B[39m std  \u001B[38;5;66;03m# Calculate uniform bounds from standard deviation\u001B[39;00m\n\u001B[0;32m    409\u001B[0m \u001B[38;5;28;01mwith\u001B[39;00m torch\u001B[38;5;241m.\u001B[39mno_grad():\n\u001B[1;32m--> 410\u001B[0m     \u001B[38;5;28;01mreturn\u001B[39;00m \u001B[43mtensor\u001B[49m\u001B[38;5;241;43m.\u001B[39;49m\u001B[43muniform_\u001B[49m\u001B[43m(\u001B[49m\u001B[38;5;241;43m-\u001B[39;49m\u001B[43mbound\u001B[49m\u001B[43m,\u001B[49m\u001B[43m \u001B[49m\u001B[43mbound\u001B[49m\u001B[43m)\u001B[49m\n",
      "\u001B[1;31mKeyboardInterrupt\u001B[0m: "
     ]
    }
   ],
   "source": [
    "cte = SemanticCrossEvaluator(unet, cv_param)\n",
    "report = cte.cross_test_model(params, cv_param['epochs_ct'], cv_param['epochs_cv'])\n",
    "#cte.train_validate(params[0], ds1_path, [0, 1, 2], [3], 50)"
   ],
   "metadata": {
    "collapsed": false,
    "pycharm": {
     "name": "#%%\n"
    }
   }
  },
  {
   "cell_type": "code",
   "execution_count": null,
   "outputs": [],
   "source": [],
   "metadata": {
    "collapsed": false,
    "pycharm": {
     "name": "#%%\n"
    }
   }
  }
 ],
 "metadata": {
  "kernelspec": {
   "display_name": "Python 3",
   "language": "python",
   "name": "python3"
  },
  "language_info": {
   "codemirror_mode": {
    "name": "ipython",
    "version": 2
   },
   "file_extension": ".py",
   "mimetype": "text/x-python",
   "name": "python",
   "nbconvert_exporter": "python",
   "pygments_lexer": "ipython2",
   "version": "2.7.6"
  }
 },
 "nbformat": 4,
 "nbformat_minor": 0
}