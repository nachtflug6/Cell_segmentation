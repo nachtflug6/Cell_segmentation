{
 "cells": [
  {
   "cell_type": "code",
   "execution_count": 1,
   "outputs": [
    {
     "name": "stderr",
     "output_type": "stream",
     "text": [
      "C:\\Users\\silva\\anaconda3\\envs\\TorchEnv\\lib\\site-packages\\tqdm\\auto.py:22: TqdmWarning: IProgress not found. Please update jupyter and ipywidgets. See https://ipywidgets.readthedocs.io/en/stable/user_install.html\n",
      "  from .autonotebook import tqdm as notebook_tqdm\n"
     ]
    }
   ],
   "source": [
    "import numpy as np\n",
    "import torch as th\n",
    "import warnings\n",
    "\n",
    "from train.multi_hyperparameter import MultiHyperparameter\n",
    "from custom_models.unet_original import UNet\n",
    "from train.unet_trainer import UnetTrainer\n",
    "from datasets.semantic_dataset import SemanticDataset"
   ],
   "metadata": {
    "collapsed": false,
    "pycharm": {
     "name": "#%%\n"
    }
   }
  },
  {
   "cell_type": "code",
   "execution_count": 2,
   "outputs": [],
   "source": [
    "params = {'padding_mode': ['zeros', 'reflect', 'replicate', 'circular'],\n",
    "          'out_classes': 2,\n",
    "          'criterion': 1,\n",
    "          'optimizer': 1}\n",
    "\n",
    "unet_hyps = MultiHyperparameter(params)\n",
    "unet = UNet.__new__(UNet)\n",
    "\n",
    "models_to_evaluate = [(unet, unet_hyps)]"
   ],
   "metadata": {
    "collapsed": false,
    "pycharm": {
     "name": "#%%\n"
    }
   }
  },
  {
   "cell_type": "code",
   "execution_count": 3,
   "outputs": [
    {
     "name": "stdout",
     "output_type": "stream",
     "text": [
      "                      Image                    Label  Sample  View  Z  fold\n",
      "22  images\\Sample2_3_z1.tif  labels\\Sample2_3_z1.tif       2     3  1   0.0\n",
      "23  images\\Sample2_3_z2.tif  labels\\Sample2_3_z2.tif       2     3  2   0.0\n",
      "24  images\\Sample2_3_z3.tif  labels\\Sample2_3_z3.tif       2     3  3   0.0\n",
      "25  images\\Sample2_3_z4.tif  labels\\Sample2_3_z4.tif       2     3  4   0.0\n",
      "26  images\\Sample2_3_z5.tif  labels\\Sample2_3_z5.tif       2     3  5   0.0\n",
      "..                      ...                      ...     ...   ... ..   ...\n",
      "48  images\\Sample2_5_z5.tif  labels\\Sample2_5_z5.tif       2     5  5   2.0\n",
      "49  images\\Sample2_5_z6.tif  labels\\Sample2_5_z6.tif       2     5  6   2.0\n",
      "50  images\\Sample2_5_z7.tif  labels\\Sample2_5_z7.tif       2     5  7   2.0\n",
      "51  images\\Sample2_5_z8.tif  labels\\Sample2_5_z8.tif       2     5  8   2.0\n",
      "52  images\\Sample2_5_z9.tif  labels\\Sample2_5_z9.tif       2     5  9   2.0\n",
      "\n",
      "[65 rows x 6 columns]\n"
     ]
    },
    {
     "data": {
      "text/plain": "65"
     },
     "execution_count": 3,
     "metadata": {},
     "output_type": "execute_result"
    }
   ],
   "source": [
    "import os\n",
    "import pandas as pd\n",
    "cwd = os.getcwd()\n",
    "\n",
    "ds_path = os.path.join(cwd, '../data/cell_type_2')\n",
    "ds = SemanticDataset(ds_path, [0, 1, 2])\n",
    "len(ds)\n",
    "\n",
    "\n",
    "\n",
    "\n",
    "\n"
   ],
   "metadata": {
    "collapsed": false,
    "pycharm": {
     "name": "#%%\n"
    }
   }
  },
  {
   "cell_type": "code",
   "execution_count": 19,
   "outputs": [
    {
     "name": "stdout",
     "output_type": "stream",
     "text": [
      "4\n"
     ]
    }
   ],
   "source": [
    "models = []\n",
    "trainers = []\n",
    "device = th.device(\"cuda\" if th.cuda.is_available() else \"cpu\")\n",
    "\n",
    "for i, model_to_evaluate in enumerate(models_to_evaluate, 0):\n",
    "    model, current_params = model_to_evaluate\n",
    "    params_to_evaluate = current_params.get_full_grid_params()\n",
    "\n",
    "    for param in params_to_evaluate:\n",
    "        model.__init__(param)\n",
    "\n",
    "        trainer = UnetTrainer(model, device, param['criterion'], param['optimizer'], 1, 1)\n",
    "        models.append(model)\n",
    "\n",
    "for current_model in models:\n",
    "    current_model\n",
    "\n",
    "print(len(models))"
   ],
   "metadata": {
    "collapsed": false,
    "pycharm": {
     "name": "#%%\n"
    }
   }
  },
  {
   "cell_type": "code",
   "execution_count": 19,
   "outputs": [],
   "source": [
    "class Model1:\n",
    "    def __init__(self, params):\n",
    "        self.number1 = params['number1']\n",
    "\n",
    "\n",
    "class Model2:\n",
    "    def __init__(self, params):\n",
    "        self.number1 = params['number1']\n",
    "        self.number2 = params['number2']\n",
    "        self.number3 = params['number3']\n",
    "        self.number4 = params['number4']\n",
    "        self.number5 = params['number5']\n",
    "\n",
    "\n",
    "params1 = {'number1': [1, 2, 3]}\n",
    "\n",
    "params2 = {'number1': 1,\n",
    "           'number2': 2,\n",
    "           'number3': [1, 2, 3],\n",
    "           'number4': [4, 5, 6],\n",
    "           'number5': [7, 8, 9]}\n",
    "\n",
    "models_to_evaluate = [(Model1.__new__(Model1), params1), (Model2.__new__(Model2), params2)]"
   ],
   "metadata": {
    "collapsed": false,
    "pycharm": {
     "name": "#%%\n"
    }
   }
  },
  {
   "cell_type": "code",
   "execution_count": 22,
   "outputs": [
    {
     "name": "stdout",
     "output_type": "stream",
     "text": [
      "<__main__.Model1 object at 0x00000283FBC75760> {'number1': 1}\n",
      "<__main__.Model1 object at 0x00000283FBC75760> {'number1': 2}\n",
      "<__main__.Model1 object at 0x00000283FBC75760> {'number1': 3}\n",
      "<__main__.Model2 object at 0x00000283FBC756D0> {'number1': 1, 'number2': 2, 'number3': 1, 'number4': 4, 'number5': 7}\n",
      "<__main__.Model2 object at 0x00000283FBC756D0> {'number1': 1, 'number2': 2, 'number3': 2, 'number4': 4, 'number5': 7}\n",
      "<__main__.Model2 object at 0x00000283FBC756D0> {'number1': 1, 'number2': 2, 'number3': 3, 'number4': 4, 'number5': 7}\n",
      "<__main__.Model2 object at 0x00000283FBC756D0> {'number1': 1, 'number2': 2, 'number3': 1, 'number4': 5, 'number5': 7}\n",
      "<__main__.Model2 object at 0x00000283FBC756D0> {'number1': 1, 'number2': 2, 'number3': 2, 'number4': 5, 'number5': 7}\n",
      "<__main__.Model2 object at 0x00000283FBC756D0> {'number1': 1, 'number2': 2, 'number3': 3, 'number4': 5, 'number5': 7}\n",
      "<__main__.Model2 object at 0x00000283FBC756D0> {'number1': 1, 'number2': 2, 'number3': 1, 'number4': 6, 'number5': 7}\n",
      "<__main__.Model2 object at 0x00000283FBC756D0> {'number1': 1, 'number2': 2, 'number3': 2, 'number4': 6, 'number5': 7}\n",
      "<__main__.Model2 object at 0x00000283FBC756D0> {'number1': 1, 'number2': 2, 'number3': 3, 'number4': 6, 'number5': 7}\n",
      "<__main__.Model2 object at 0x00000283FBC756D0> {'number1': 1, 'number2': 2, 'number3': 1, 'number4': 4, 'number5': 8}\n",
      "<__main__.Model2 object at 0x00000283FBC756D0> {'number1': 1, 'number2': 2, 'number3': 2, 'number4': 4, 'number5': 8}\n",
      "<__main__.Model2 object at 0x00000283FBC756D0> {'number1': 1, 'number2': 2, 'number3': 3, 'number4': 4, 'number5': 8}\n",
      "<__main__.Model2 object at 0x00000283FBC756D0> {'number1': 1, 'number2': 2, 'number3': 1, 'number4': 5, 'number5': 8}\n",
      "<__main__.Model2 object at 0x00000283FBC756D0> {'number1': 1, 'number2': 2, 'number3': 2, 'number4': 5, 'number5': 8}\n",
      "<__main__.Model2 object at 0x00000283FBC756D0> {'number1': 1, 'number2': 2, 'number3': 3, 'number4': 5, 'number5': 8}\n",
      "<__main__.Model2 object at 0x00000283FBC756D0> {'number1': 1, 'number2': 2, 'number3': 1, 'number4': 6, 'number5': 8}\n",
      "<__main__.Model2 object at 0x00000283FBC756D0> {'number1': 1, 'number2': 2, 'number3': 2, 'number4': 6, 'number5': 8}\n",
      "<__main__.Model2 object at 0x00000283FBC756D0> {'number1': 1, 'number2': 2, 'number3': 3, 'number4': 6, 'number5': 8}\n",
      "<__main__.Model2 object at 0x00000283FBC756D0> {'number1': 1, 'number2': 2, 'number3': 1, 'number4': 4, 'number5': 9}\n",
      "<__main__.Model2 object at 0x00000283FBC756D0> {'number1': 1, 'number2': 2, 'number3': 2, 'number4': 4, 'number5': 9}\n",
      "<__main__.Model2 object at 0x00000283FBC756D0> {'number1': 1, 'number2': 2, 'number3': 3, 'number4': 4, 'number5': 9}\n",
      "<__main__.Model2 object at 0x00000283FBC756D0> {'number1': 1, 'number2': 2, 'number3': 1, 'number4': 5, 'number5': 9}\n",
      "<__main__.Model2 object at 0x00000283FBC756D0> {'number1': 1, 'number2': 2, 'number3': 2, 'number4': 5, 'number5': 9}\n",
      "<__main__.Model2 object at 0x00000283FBC756D0> {'number1': 1, 'number2': 2, 'number3': 3, 'number4': 5, 'number5': 9}\n",
      "<__main__.Model2 object at 0x00000283FBC756D0> {'number1': 1, 'number2': 2, 'number3': 1, 'number4': 6, 'number5': 9}\n",
      "<__main__.Model2 object at 0x00000283FBC756D0> {'number1': 1, 'number2': 2, 'number3': 2, 'number4': 6, 'number5': 9}\n",
      "<__main__.Model2 object at 0x00000283FBC756D0> {'number1': 1, 'number2': 2, 'number3': 3, 'number4': 6, 'number5': 9}\n"
     ]
    }
   ],
   "source": [
    "for i, model_to_evaluate in enumerate(models_to_evaluate, 0):\n",
    "    model, current_params = model_to_evaluate\n",
    "    multi_params = MultiHyperparameter(current_params)\n",
    "\n",
    "    params_to_evaluate = multi_params.get_full_grid_params()\n",
    "\n",
    "    for param in params_to_evaluate:\n",
    "        model.__init__(param)\n",
    "        print(model, param)"
   ],
   "metadata": {
    "collapsed": false,
    "pycharm": {
     "name": "#%%\n"
    }
   }
  },
  {
   "cell_type": "code",
   "execution_count": 3,
   "outputs": [],
   "source": [],
   "metadata": {
    "collapsed": false,
    "pycharm": {
     "name": "#%%\n"
    }
   }
  },
  {
   "cell_type": "code",
   "execution_count": 3,
   "outputs": [],
   "source": [],
   "metadata": {
    "collapsed": false,
    "pycharm": {
     "name": "#%%\n"
    }
   }
  }
 ],
 "metadata": {
  "kernelspec": {
   "display_name": "Python 3",
   "language": "python",
   "name": "python3"
  },
  "language_info": {
   "codemirror_mode": {
    "name": "ipython",
    "version": 2
   },
   "file_extension": ".py",
   "mimetype": "text/x-python",
   "name": "python",
   "nbconvert_exporter": "python",
   "pygments_lexer": "ipython2",
   "version": "2.7.6"
  }
 },
 "nbformat": 4,
 "nbformat_minor": 0
}