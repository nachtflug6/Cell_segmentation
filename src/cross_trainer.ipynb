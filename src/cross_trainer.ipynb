{
 "cells": [
  {
   "cell_type": "code",
   "execution_count": 18,
   "outputs": [],
   "source": [
    "import numpy as np\n",
    "import torch as th\n",
    "import warnings\n",
    "from train.multi_hyperparameter import MultiHyperparameter"
   ],
   "metadata": {
    "collapsed": false,
    "pycharm": {
     "name": "#%%\n"
    }
   }
  },
  {
   "cell_type": "code",
   "execution_count": 19,
   "outputs": [],
   "source": [
    "class Model1:\n",
    "    def __init__(self, params):\n",
    "        self.number1 = params['number1']\n",
    "\n",
    "\n",
    "class Model2:\n",
    "    def __init__(self, params):\n",
    "        self.number1 = params['number1']\n",
    "        self.number2 = params['number2']\n",
    "        self.number3 = params['number3']\n",
    "        self.number4 = params['number4']\n",
    "        self.number5 = params['number5']\n",
    "\n",
    "\n",
    "params1 = {'number1': [1, 2, 3]}\n",
    "\n",
    "params2 = {'number1': 1,\n",
    "           'number2': 2,\n",
    "           'number3': [1, 2, 3],\n",
    "           'number4': [4, 5, 6],\n",
    "           'number5': [7, 8, 9]}\n",
    "\n",
    "models_to_evaluate = [(Model1.__new__(Model1), params1), (Model2.__new__(Model2), params2)]"
   ],
   "metadata": {
    "collapsed": false,
    "pycharm": {
     "name": "#%%\n"
    }
   }
  },
  {
   "cell_type": "code",
   "execution_count": 20,
   "outputs": [
    {
     "name": "stdout",
     "output_type": "stream",
     "text": [
      "27\n",
      "27\n",
      "[{'number1': 1, 'number2': 2, 'number3': 3, 'number4': 4, 'number5': 8}, {'number1': 1, 'number2': 2, 'number3': 2, 'number4': 4, 'number5': 8}, {'number1': 1, 'number2': 2, 'number3': 1, 'number4': 4, 'number5': 9}, {'number1': 1, 'number2': 2, 'number3': 1, 'number4': 4, 'number5': 7}, {'number1': 1, 'number2': 2, 'number3': 3, 'number4': 5, 'number5': 8}, {'number1': 1, 'number2': 2, 'number3': 1, 'number4': 6, 'number5': 9}, {'number1': 1, 'number2': 2, 'number3': 2, 'number4': 5, 'number5': 9}, {'number1': 1, 'number2': 2, 'number3': 3, 'number4': 6, 'number5': 8}, {'number1': 1, 'number2': 2, 'number3': 1, 'number4': 4, 'number5': 8}, {'number1': 1, 'number2': 2, 'number3': 3, 'number4': 5, 'number5': 7}, {'number1': 1, 'number2': 2, 'number3': 3, 'number4': 4, 'number5': 7}, {'number1': 1, 'number2': 2, 'number3': 3, 'number4': 5, 'number5': 9}, {'number1': 1, 'number2': 2, 'number3': 2, 'number4': 6, 'number5': 8}, {'number1': 1, 'number2': 2, 'number3': 3, 'number4': 6, 'number5': 9}, {'number1': 1, 'number2': 2, 'number3': 2, 'number4': 5, 'number5': 7}, {'number1': 1, 'number2': 2, 'number3': 2, 'number4': 6, 'number5': 7}, {'number1': 1, 'number2': 2, 'number3': 2, 'number4': 6, 'number5': 9}, {'number1': 1, 'number2': 2, 'number3': 1, 'number4': 5, 'number5': 8}, {'number1': 1, 'number2': 2, 'number3': 1, 'number4': 6, 'number5': 8}, {'number1': 1, 'number2': 2, 'number3': 3, 'number4': 6, 'number5': 7}, {'number1': 1, 'number2': 2, 'number3': 2, 'number4': 4, 'number5': 9}, {'number1': 1, 'number2': 2, 'number3': 1, 'number4': 6, 'number5': 7}, {'number1': 1, 'number2': 2, 'number3': 1, 'number4': 5, 'number5': 7}, {'number1': 1, 'number2': 2, 'number3': 3, 'number4': 4, 'number5': 9}, {'number1': 1, 'number2': 2, 'number3': 2, 'number4': 4, 'number5': 7}, {'number1': 1, 'number2': 2, 'number3': 2, 'number4': 5, 'number5': 8}, {'number1': 1, 'number2': 2, 'number3': 1, 'number4': 5, 'number5': 9}]\n",
      "[{'number1': 1, 'number2': 2, 'number3': 3, 'number4': 5, 'number5': 9}, {'number1': 1, 'number2': 2, 'number3': 2, 'number4': 4, 'number5': 7}, {'number1': 1, 'number2': 2, 'number3': 2, 'number4': 4, 'number5': 8}, {'number1': 1, 'number2': 2, 'number3': 3, 'number4': 4, 'number5': 8}, {'number1': 1, 'number2': 2, 'number3': 1, 'number4': 6, 'number5': 9}, {'number1': 1, 'number2': 2, 'number3': 3, 'number4': 6, 'number5': 8}, {'number1': 1, 'number2': 2, 'number3': 3, 'number4': 6, 'number5': 7}, {'number1': 1, 'number2': 2, 'number3': 2, 'number4': 5, 'number5': 8}, {'number1': 1, 'number2': 2, 'number3': 2, 'number4': 6, 'number5': 7}, {'number1': 1, 'number2': 2, 'number3': 1, 'number4': 4, 'number5': 9}, {'number1': 1, 'number2': 2, 'number3': 3, 'number4': 6, 'number5': 9}, {'number1': 1, 'number2': 2, 'number3': 1, 'number4': 5, 'number5': 8}, {'number1': 1, 'number2': 2, 'number3': 3, 'number4': 4, 'number5': 7}, {'number1': 1, 'number2': 2, 'number3': 2, 'number4': 5, 'number5': 7}, {'number1': 1, 'number2': 2, 'number3': 3, 'number4': 4, 'number5': 9}, {'number1': 1, 'number2': 2, 'number3': 3, 'number4': 5, 'number5': 7}, {'number1': 1, 'number2': 2, 'number3': 1, 'number4': 5, 'number5': 7}, {'number1': 1, 'number2': 2, 'number3': 1, 'number4': 4, 'number5': 7}, {'number1': 1, 'number2': 2, 'number3': 2, 'number4': 6, 'number5': 9}, {'number1': 1, 'number2': 2, 'number3': 2, 'number4': 4, 'number5': 9}, {'number1': 1, 'number2': 2, 'number3': 3, 'number4': 5, 'number5': 8}, {'number1': 1, 'number2': 2, 'number3': 2, 'number4': 5, 'number5': 9}, {'number1': 1, 'number2': 2, 'number3': 2, 'number4': 6, 'number5': 8}, {'number1': 1, 'number2': 2, 'number3': 1, 'number4': 4, 'number5': 8}, {'number1': 1, 'number2': 2, 'number3': 1, 'number4': 5, 'number5': 9}, {'number1': 1, 'number2': 2, 'number3': 1, 'number4': 6, 'number5': 7}, {'number1': 1, 'number2': 2, 'number3': 1, 'number4': 6, 'number5': 8}]\n",
      "[{'number1': 1, 'number2': 2, 'number3': 2, 'number4': 5, 'number5': 7}, {'number1': 1, 'number2': 2, 'number3': 3, 'number4': 4, 'number5': 8}, {'number1': 1, 'number2': 2, 'number3': 2, 'number4': 5, 'number5': 8}, {'number1': 1, 'number2': 2, 'number3': 3, 'number4': 5, 'number5': 9}, {'number1': 1, 'number2': 2, 'number3': 3, 'number4': 6, 'number5': 9}, {'number1': 1, 'number2': 2, 'number3': 2, 'number4': 4, 'number5': 8}, {'number1': 1, 'number2': 2, 'number3': 2, 'number4': 4, 'number5': 9}, {'number1': 1, 'number2': 2, 'number3': 2, 'number4': 6, 'number5': 7}, {'number1': 1, 'number2': 2, 'number3': 1, 'number4': 5, 'number5': 8}, {'number1': 1, 'number2': 2, 'number3': 1, 'number4': 4, 'number5': 8}, {'number1': 1, 'number2': 2, 'number3': 2, 'number4': 6, 'number5': 8}, {'number1': 1, 'number2': 2, 'number3': 1, 'number4': 6, 'number5': 9}, {'number1': 1, 'number2': 2, 'number3': 2, 'number4': 5, 'number5': 9}, {'number1': 1, 'number2': 2, 'number3': 1, 'number4': 4, 'number5': 9}, {'number1': 1, 'number2': 2, 'number3': 1, 'number4': 5, 'number5': 7}, {'number1': 1, 'number2': 2, 'number3': 3, 'number4': 4, 'number5': 7}, {'number1': 1, 'number2': 2, 'number3': 1, 'number4': 6, 'number5': 7}, {'number1': 1, 'number2': 2, 'number3': 2, 'number4': 4, 'number5': 7}, {'number1': 1, 'number2': 2, 'number3': 1, 'number4': 4, 'number5': 7}, {'number1': 1, 'number2': 2, 'number3': 3, 'number4': 4, 'number5': 9}, {'number1': 1, 'number2': 2, 'number3': 3, 'number4': 5, 'number5': 7}, {'number1': 1, 'number2': 2, 'number3': 3, 'number4': 6, 'number5': 8}, {'number1': 1, 'number2': 2, 'number3': 2, 'number4': 6, 'number5': 9}, {'number1': 1, 'number2': 2, 'number3': 1, 'number4': 6, 'number5': 8}, {'number1': 1, 'number2': 2, 'number3': 1, 'number4': 5, 'number5': 9}, {'number1': 1, 'number2': 2, 'number3': 3, 'number4': 6, 'number5': 7}, {'number1': 1, 'number2': 2, 'number3': 3, 'number4': 5, 'number5': 8}]\n",
      "[{'number1': 1, 'number2': 2, 'number3': 1, 'number4': 5, 'number5': 7}, {'number1': 1, 'number2': 2, 'number3': 3, 'number4': 6, 'number5': 8}, {'number1': 1, 'number2': 2, 'number3': 3, 'number4': 5, 'number5': 7}, {'number1': 1, 'number2': 2, 'number3': 3, 'number4': 4, 'number5': 8}, {'number1': 1, 'number2': 2, 'number3': 2, 'number4': 4, 'number5': 9}, {'number1': 1, 'number2': 2, 'number3': 3, 'number4': 6, 'number5': 7}, {'number1': 1, 'number2': 2, 'number3': 3, 'number4': 5, 'number5': 8}, {'number1': 1, 'number2': 2, 'number3': 1, 'number4': 6, 'number5': 8}, {'number1': 1, 'number2': 2, 'number3': 2, 'number4': 6, 'number5': 7}, {'number1': 1, 'number2': 2, 'number3': 2, 'number4': 5, 'number5': 9}, {'number1': 1, 'number2': 2, 'number3': 3, 'number4': 4, 'number5': 7}, {'number1': 1, 'number2': 2, 'number3': 2, 'number4': 5, 'number5': 7}, {'number1': 1, 'number2': 2, 'number3': 2, 'number4': 4, 'number5': 7}, {'number1': 1, 'number2': 2, 'number3': 1, 'number4': 4, 'number5': 9}, {'number1': 1, 'number2': 2, 'number3': 1, 'number4': 4, 'number5': 8}, {'number1': 1, 'number2': 2, 'number3': 3, 'number4': 4, 'number5': 9}, {'number1': 1, 'number2': 2, 'number3': 1, 'number4': 4, 'number5': 7}, {'number1': 1, 'number2': 2, 'number3': 1, 'number4': 5, 'number5': 8}, {'number1': 1, 'number2': 2, 'number3': 3, 'number4': 6, 'number5': 9}, {'number1': 1, 'number2': 2, 'number3': 2, 'number4': 6, 'number5': 9}, {'number1': 1, 'number2': 2, 'number3': 1, 'number4': 6, 'number5': 9}, {'number1': 1, 'number2': 2, 'number3': 3, 'number4': 5, 'number5': 9}, {'number1': 1, 'number2': 2, 'number3': 2, 'number4': 4, 'number5': 8}, {'number1': 1, 'number2': 2, 'number3': 1, 'number4': 5, 'number5': 9}, {'number1': 1, 'number2': 2, 'number3': 2, 'number4': 6, 'number5': 8}, {'number1': 1, 'number2': 2, 'number3': 2, 'number4': 5, 'number5': 8}, {'number1': 1, 'number2': 2, 'number3': 1, 'number4': 6, 'number5': 7}]\n"
     ]
    },
    {
     "name": "stderr",
     "output_type": "stream",
     "text": [
      "C:\\workspace\\segmentation\\src\\train\\multi_hyperparameter.py:57: UserWarning: Only max: 27 random values possible\n",
      "  warnings.warn(f'Only max: {max_num} random values possible')\n"
     ]
    }
   ],
   "source": [
    "hyps = MultiHyperparameter(params2)\n",
    "print(len(hyps.get_full_grid_params()))\n",
    "print(len(hyps.get_random_params(100)))\n",
    "print(hyps.get_random_params(100))\n",
    "print(hyps.get_random_params(100))\n",
    "print(hyps.get_random_params(100))\n",
    "print(hyps.get_random_params(100))"
   ],
   "metadata": {
    "collapsed": false,
    "pycharm": {
     "name": "#%%\n"
    }
   }
  },
  {
   "cell_type": "code",
   "execution_count": 22,
   "outputs": [
    {
     "name": "stdout",
     "output_type": "stream",
     "text": [
      "<__main__.Model1 object at 0x00000283FBC75760> {'number1': 1}\n",
      "<__main__.Model1 object at 0x00000283FBC75760> {'number1': 2}\n",
      "<__main__.Model1 object at 0x00000283FBC75760> {'number1': 3}\n",
      "<__main__.Model2 object at 0x00000283FBC756D0> {'number1': 1, 'number2': 2, 'number3': 1, 'number4': 4, 'number5': 7}\n",
      "<__main__.Model2 object at 0x00000283FBC756D0> {'number1': 1, 'number2': 2, 'number3': 2, 'number4': 4, 'number5': 7}\n",
      "<__main__.Model2 object at 0x00000283FBC756D0> {'number1': 1, 'number2': 2, 'number3': 3, 'number4': 4, 'number5': 7}\n",
      "<__main__.Model2 object at 0x00000283FBC756D0> {'number1': 1, 'number2': 2, 'number3': 1, 'number4': 5, 'number5': 7}\n",
      "<__main__.Model2 object at 0x00000283FBC756D0> {'number1': 1, 'number2': 2, 'number3': 2, 'number4': 5, 'number5': 7}\n",
      "<__main__.Model2 object at 0x00000283FBC756D0> {'number1': 1, 'number2': 2, 'number3': 3, 'number4': 5, 'number5': 7}\n",
      "<__main__.Model2 object at 0x00000283FBC756D0> {'number1': 1, 'number2': 2, 'number3': 1, 'number4': 6, 'number5': 7}\n",
      "<__main__.Model2 object at 0x00000283FBC756D0> {'number1': 1, 'number2': 2, 'number3': 2, 'number4': 6, 'number5': 7}\n",
      "<__main__.Model2 object at 0x00000283FBC756D0> {'number1': 1, 'number2': 2, 'number3': 3, 'number4': 6, 'number5': 7}\n",
      "<__main__.Model2 object at 0x00000283FBC756D0> {'number1': 1, 'number2': 2, 'number3': 1, 'number4': 4, 'number5': 8}\n",
      "<__main__.Model2 object at 0x00000283FBC756D0> {'number1': 1, 'number2': 2, 'number3': 2, 'number4': 4, 'number5': 8}\n",
      "<__main__.Model2 object at 0x00000283FBC756D0> {'number1': 1, 'number2': 2, 'number3': 3, 'number4': 4, 'number5': 8}\n",
      "<__main__.Model2 object at 0x00000283FBC756D0> {'number1': 1, 'number2': 2, 'number3': 1, 'number4': 5, 'number5': 8}\n",
      "<__main__.Model2 object at 0x00000283FBC756D0> {'number1': 1, 'number2': 2, 'number3': 2, 'number4': 5, 'number5': 8}\n",
      "<__main__.Model2 object at 0x00000283FBC756D0> {'number1': 1, 'number2': 2, 'number3': 3, 'number4': 5, 'number5': 8}\n",
      "<__main__.Model2 object at 0x00000283FBC756D0> {'number1': 1, 'number2': 2, 'number3': 1, 'number4': 6, 'number5': 8}\n",
      "<__main__.Model2 object at 0x00000283FBC756D0> {'number1': 1, 'number2': 2, 'number3': 2, 'number4': 6, 'number5': 8}\n",
      "<__main__.Model2 object at 0x00000283FBC756D0> {'number1': 1, 'number2': 2, 'number3': 3, 'number4': 6, 'number5': 8}\n",
      "<__main__.Model2 object at 0x00000283FBC756D0> {'number1': 1, 'number2': 2, 'number3': 1, 'number4': 4, 'number5': 9}\n",
      "<__main__.Model2 object at 0x00000283FBC756D0> {'number1': 1, 'number2': 2, 'number3': 2, 'number4': 4, 'number5': 9}\n",
      "<__main__.Model2 object at 0x00000283FBC756D0> {'number1': 1, 'number2': 2, 'number3': 3, 'number4': 4, 'number5': 9}\n",
      "<__main__.Model2 object at 0x00000283FBC756D0> {'number1': 1, 'number2': 2, 'number3': 1, 'number4': 5, 'number5': 9}\n",
      "<__main__.Model2 object at 0x00000283FBC756D0> {'number1': 1, 'number2': 2, 'number3': 2, 'number4': 5, 'number5': 9}\n",
      "<__main__.Model2 object at 0x00000283FBC756D0> {'number1': 1, 'number2': 2, 'number3': 3, 'number4': 5, 'number5': 9}\n",
      "<__main__.Model2 object at 0x00000283FBC756D0> {'number1': 1, 'number2': 2, 'number3': 1, 'number4': 6, 'number5': 9}\n",
      "<__main__.Model2 object at 0x00000283FBC756D0> {'number1': 1, 'number2': 2, 'number3': 2, 'number4': 6, 'number5': 9}\n",
      "<__main__.Model2 object at 0x00000283FBC756D0> {'number1': 1, 'number2': 2, 'number3': 3, 'number4': 6, 'number5': 9}\n"
     ]
    }
   ],
   "source": [
    "for i, model_to_evaluate in enumerate(models_to_evaluate, 0):\n",
    "    model, current_params = model_to_evaluate\n",
    "    multi_params = MultiHyperparameter(current_params)\n",
    "\n",
    "    params_to_evaluate = multi_params.get_full_grid_params()\n",
    "\n",
    "    for param in params_to_evaluate:\n",
    "        model.__init__(param)\n",
    "        print(model, param)"
   ],
   "metadata": {
    "collapsed": false,
    "pycharm": {
     "name": "#%%\n"
    }
   }
  },
  {
   "cell_type": "code",
   "execution_count": 3,
   "outputs": [],
   "source": [],
   "metadata": {
    "collapsed": false,
    "pycharm": {
     "name": "#%%\n"
    }
   }
  },
  {
   "cell_type": "code",
   "execution_count": 3,
   "outputs": [],
   "source": [],
   "metadata": {
    "collapsed": false,
    "pycharm": {
     "name": "#%%\n"
    }
   }
  }
 ],
 "metadata": {
  "kernelspec": {
   "display_name": "Python 3",
   "language": "python",
   "name": "python3"
  },
  "language_info": {
   "codemirror_mode": {
    "name": "ipython",
    "version": 2
   },
   "file_extension": ".py",
   "mimetype": "text/x-python",
   "name": "python",
   "nbconvert_exporter": "python",
   "pygments_lexer": "ipython2",
   "version": "2.7.6"
  }
 },
 "nbformat": 4,
 "nbformat_minor": 0
}