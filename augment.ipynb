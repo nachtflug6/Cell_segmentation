{
 "cells": [
  {
   "cell_type": "code",
   "execution_count": 19,
   "outputs": [],
   "source": [
    "from PIL import Image\n",
    "import numpy as np\n",
    "import torch as th\n",
    "\n",
    "from src.preprocessing.data_augment import translate as tr\n",
    "\n",
    "img = Image.open('./plots/augment/rot_0.png')\n",
    "img = np.array(img, dtype=np.float32)\n",
    "img = th.from_numpy(img)\n",
    "\n",
    "img = img.swapaxes(0, 2)\n",
    "# img = th.unsqueeze(img, dim=0)\n",
    "\n",
    "for i in range(10):\n",
    "    img_out, _ = tr(img, img, 128)\n",
    "    img_out = img_out.swapaxes(0, 2)\n",
    "    img_out = np.array(img_out, dtype=np.uint8)\n",
    "    img_out = Image.fromarray(img_out)\n",
    "    name = 'shift_' + str(i) + '.png'\n",
    "    img_out.save('./plots/augment/' + name)\n"
   ],
   "metadata": {
    "collapsed": false,
    "pycharm": {
     "name": "#%%\n"
    }
   }
  },
  {
   "cell_type": "code",
   "execution_count": null,
   "outputs": [],
   "source": [],
   "metadata": {
    "collapsed": false,
    "pycharm": {
     "name": "#%%\n"
    }
   }
  }
 ],
 "metadata": {
  "kernelspec": {
   "display_name": "Python 3",
   "language": "python",
   "name": "python3"
  },
  "language_info": {
   "codemirror_mode": {
    "name": "ipython",
    "version": 2
   },
   "file_extension": ".py",
   "mimetype": "text/x-python",
   "name": "python",
   "nbconvert_exporter": "python",
   "pygments_lexer": "ipython2",
   "version": "2.7.6"
  }
 },
 "nbformat": 4,
 "nbformat_minor": 0
}