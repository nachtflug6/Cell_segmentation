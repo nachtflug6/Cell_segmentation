{
 "cells": [
  {
   "cell_type": "code",
   "execution_count": 14,
   "outputs": [],
   "source": [
    "import src.datasets.semantic_dataset as sd\n",
    "import torch as th\n",
    "import numpy as np\n",
    "import pandas as pd\n",
    "import src.utils.image as iu\n",
    "\n",
    "\n",
    "ds = sd.SemanticDataset('./data/cell_type_2', [0, 1, 2, 3])\n",
    "out_path = './plots/cell_type_2'\n",
    "df = pd.read_csv('./data/cell_type_2/data.csv')\n",
    "\n",
    "for i, data in enumerate(ds, 0):\n",
    "    img, label = data\n",
    "    img = np.array(img)\n",
    "    label = np.array(label)\n",
    "    name = str(df.at[i, 'Sample']) + '_' + str(df.at[i, 'View']) + '_' + str(df.at[i, 'Z'])\n",
    "    iu.save_tensor_to_colormap(img[0], out_path, name + '_img.png')\n",
    "    iu.save_tensor_to_colormap(label[1], out_path, name + '_label.png')\n",
    "\n",
    "\n"
   ],
   "metadata": {
    "collapsed": false,
    "pycharm": {
     "name": "#%%\n"
    }
   }
  },
  {
   "cell_type": "markdown",
   "source": [],
   "metadata": {
    "collapsed": false,
    "pycharm": {
     "name": "#%% md\n"
    }
   }
  },
  {
   "cell_type": "code",
   "execution_count": null,
   "outputs": [],
   "source": [],
   "metadata": {
    "collapsed": false,
    "pycharm": {
     "name": "#%%\n"
    }
   }
  }
 ],
 "metadata": {
  "kernelspec": {
   "display_name": "Python 3",
   "language": "python",
   "name": "python3"
  },
  "language_info": {
   "codemirror_mode": {
    "name": "ipython",
    "version": 2
   },
   "file_extension": ".py",
   "mimetype": "text/x-python",
   "name": "python",
   "nbconvert_exporter": "python",
   "pygments_lexer": "ipython2",
   "version": "2.7.6"
  }
 },
 "nbformat": 4,
 "nbformat_minor": 0
}