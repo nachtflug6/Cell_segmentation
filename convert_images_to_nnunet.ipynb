{
 "cells": [
  {
   "cell_type": "code",
   "execution_count": 1,
   "outputs": [
    {
     "ename": "SyntaxError",
     "evalue": "invalid syntax (3483263519.py, line 4)",
     "output_type": "error",
     "traceback": [
      "\u001B[0;36m  Input \u001B[0;32mIn [1]\u001B[0;36m\u001B[0m\n\u001B[0;31m    from\u001B[0m\n\u001B[0m        ^\u001B[0m\n\u001B[0;31mSyntaxError\u001B[0m\u001B[0;31m:\u001B[0m invalid syntax\n"
     ]
    }
   ],
   "source": [
    "import os\n",
    "\n",
    "from nnunet.dataset_conversion.utils import generate_dataset_json\n"
   ],
   "metadata": {
    "collapsed": false,
    "pycharm": {
     "name": "#%%\n"
    }
   }
  },
  {
   "cell_type": "code",
   "execution_count": 1,
   "outputs": [
    {
     "name": "stderr",
     "output_type": "stream",
     "text": [
      "/home/mtn/.local/lib/python3.10/site-packages/tqdm/auto.py:22: TqdmWarning: IProgress not found. Please update jupyter and ipywidgets. See https://ipywidgets.readthedocs.io/en/stable/user_install.html\n",
      "  from .autonotebook import tqdm as notebook_tqdm\n"
     ]
    },
    {
     "name": "stdout",
     "output_type": "stream",
     "text": [
      "8200\n",
      "1.11.0+cu113\n",
      "True\n"
     ]
    },
    {
     "data": {
      "text/plain": "tensor([0.], device='cuda:0')"
     },
     "execution_count": 1,
     "metadata": {},
     "output_type": "execute_result"
    }
   ],
   "source": [
    "# cwd = os.getcwd()\n",
    "#\n",
    "# ds_path = os.path.join(cwd, 'data')\n",
    "\n",
    "import torch;print(torch.backends.cudnn.version())\n",
    "import torch;print(torch.__version__)\n",
    "\n",
    "import torch\n",
    "x = torch.cuda.get_device_name(0) if torch.cuda.is_available() else None\n",
    "print(torch.cuda.is_available())\n",
    "torch.zeros(1).cuda()"
   ],
   "metadata": {
    "collapsed": false,
    "pycharm": {
     "name": "#%%\n"
    }
   }
  },
  {
   "cell_type": "code",
   "execution_count": null,
   "outputs": [],
   "source": [
    "target_base = os.path.join(os.getcwd(), 'nnUNet_raw_data_base/nnUNet_raw_data/Task501_Test')\n",
    "target_imagesTr = os.path.join(target_base, 'imagesTr')\n",
    "target_imagesTs = os.path.join(target_base, 'imagesTs')\n",
    "\n",
    "generate_dataset_json(os.path.join(target_base, 'dataset.json'), target_imagesTr, target_imagesTs, ('Grey'),\n",
    "                          labels={0: 'background', 1: 'cell'}, dataset_name='cell', license='hands off!')"
   ],
   "metadata": {
    "collapsed": false,
    "pycharm": {
     "name": "#%%\n"
    }
   }
  }
 ],
 "metadata": {
  "kernelspec": {
   "display_name": "Python 3",
   "language": "python",
   "name": "python3"
  },
  "language_info": {
   "codemirror_mode": {
    "name": "ipython",
    "version": 2
   },
   "file_extension": ".py",
   "mimetype": "text/x-python",
   "name": "python",
   "nbconvert_exporter": "python",
   "pygments_lexer": "ipython2",
   "version": "2.7.6"
  }
 },
 "nbformat": 4,
 "nbformat_minor": 0
}