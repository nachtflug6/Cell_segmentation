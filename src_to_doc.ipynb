{
 "cells": [
  {
   "cell_type": "code",
   "execution_count": 9,
   "metadata": {
    "collapsed": true,
    "pycharm": {
     "name": "#%%\n"
    }
   },
   "outputs": [],
   "source": [
    "import tifffile as tif\n",
    "import numpy as np\n",
    "from PIL import Image\n",
    "\n",
    "path_in = './data/cell_type_2/images/Sample1_2_z1.tif'\n",
    "path_out = './doc/graphics/dataset_sample_2.png'\n",
    "\n",
    "\n",
    "img = tif.imread(path_in)\n",
    "img_arr = np.asarray(img)\n",
    "pil_img = Image.fromarray(img_arr)\n",
    "pil_img.save(path_out)"
   ]
  },
  {
   "cell_type": "code",
   "execution_count": null,
   "outputs": [],
   "source": [],
   "metadata": {
    "collapsed": false,
    "pycharm": {
     "name": "#%%\n"
    }
   }
  }
 ],
 "metadata": {
  "kernelspec": {
   "display_name": "Python 3",
   "language": "python",
   "name": "python3"
  },
  "language_info": {
   "codemirror_mode": {
    "name": "ipython",
    "version": 2
   },
   "file_extension": ".py",
   "mimetype": "text/x-python",
   "name": "python",
   "nbconvert_exporter": "python",
   "pygments_lexer": "ipython2",
   "version": "2.7.6"
  }
 },
 "nbformat": 4,
 "nbformat_minor": 0
}